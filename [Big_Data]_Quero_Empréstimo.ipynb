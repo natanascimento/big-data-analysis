{
  "nbformat": 4,
  "nbformat_minor": 0,
  "metadata": {
    "colab": {
      "name": "[Big Data] Quero Empréstimo.ipynb",
      "provenance": [],
      "authorship_tag": "ABX9TyPEO+/5CpTmVzftDxXIzt1A",
      "include_colab_link": true
    },
    "kernelspec": {
      "name": "python3",
      "display_name": "Python 3"
    },
    "language_info": {
      "name": "python"
    }
  },
  "cells": [
    {
      "cell_type": "markdown",
      "metadata": {
        "id": "view-in-github",
        "colab_type": "text"
      },
      "source": [
        "<a href=\"https://colab.research.google.com/github/natanascimento/big-data-analysis/blob/task%2Fcreate-notebooks/%5BBig_Data%5D_Quero_Empr%C3%A9stimo.ipynb\" target=\"_parent\"><img src=\"https://colab.research.google.com/assets/colab-badge.svg\" alt=\"Open In Colab\"/></a>"
      ]
    },
    {
      "cell_type": "markdown",
      "source": [
        "#Instalando dependências"
      ],
      "metadata": {
        "id": "sYJoLmKkIx1I"
      }
    },
    {
      "cell_type": "code",
      "source": [
        "!pip install pandasql"
      ],
      "metadata": {
        "colab": {
          "base_uri": "https://localhost:8080/"
        },
        "id": "uPYMdjP4I1Ph",
        "outputId": "2f8a3aec-a805-40f1-dbbd-ccbf4e182356"
      },
      "execution_count": 25,
      "outputs": [
        {
          "output_type": "stream",
          "name": "stdout",
          "text": [
            "Requirement already satisfied: pandasql in /usr/local/lib/python3.7/dist-packages (0.7.3)\n",
            "Requirement already satisfied: sqlalchemy in /usr/local/lib/python3.7/dist-packages (from pandasql) (1.4.32)\n",
            "Requirement already satisfied: numpy in /usr/local/lib/python3.7/dist-packages (from pandasql) (1.21.5)\n",
            "Requirement already satisfied: pandas in /usr/local/lib/python3.7/dist-packages (from pandasql) (1.3.5)\n",
            "Requirement already satisfied: pytz>=2017.3 in /usr/local/lib/python3.7/dist-packages (from pandas->pandasql) (2018.9)\n",
            "Requirement already satisfied: python-dateutil>=2.7.3 in /usr/local/lib/python3.7/dist-packages (from pandas->pandasql) (2.8.2)\n",
            "Requirement already satisfied: six>=1.5 in /usr/local/lib/python3.7/dist-packages (from python-dateutil>=2.7.3->pandas->pandasql) (1.15.0)\n",
            "Requirement already satisfied: greenlet!=0.4.17 in /usr/local/lib/python3.7/dist-packages (from sqlalchemy->pandasql) (1.1.2)\n",
            "Requirement already satisfied: importlib-metadata in /usr/local/lib/python3.7/dist-packages (from sqlalchemy->pandasql) (4.11.3)\n",
            "Requirement already satisfied: zipp>=0.5 in /usr/local/lib/python3.7/dist-packages (from importlib-metadata->sqlalchemy->pandasql) (3.7.0)\n",
            "Requirement already satisfied: typing-extensions>=3.6.4 in /usr/local/lib/python3.7/dist-packages (from importlib-metadata->sqlalchemy->pandasql) (3.10.0.2)\n"
          ]
        }
      ]
    },
    {
      "cell_type": "markdown",
      "source": [
        "# Análise Exploratória"
      ],
      "metadata": {
        "id": "o-YQtFqMEgeK"
      }
    },
    {
      "cell_type": "markdown",
      "source": [
        "## Importação de dependências"
      ],
      "metadata": {
        "id": "EJ-7FYNVEQlC"
      }
    },
    {
      "cell_type": "code",
      "source": [
        "import warnings\n",
        "\n",
        "import pandas as pd\n",
        "from pandasql import sqldf"
      ],
      "metadata": {
        "id": "gSf-NQzOBXqj"
      },
      "execution_count": null,
      "outputs": []
    },
    {
      "cell_type": "code",
      "source": [
        "# Filtrando tipos de avisos para serem ignorados\n",
        "\n",
        "warnings.filterwarnings(\"ignore\", category=DeprecationWarning)\n",
        "warnings.filterwarnings(\"ignore\", category=UserWarning)\n",
        "warnings.filterwarnings(\"ignore\", category=FutureWarning)"
      ],
      "metadata": {
        "id": "G8QnJAvifCBD"
      },
      "execution_count": null,
      "outputs": []
    },
    {
      "cell_type": "markdown",
      "source": [
        "## Carregando dataset do datalake"
      ],
      "metadata": {
        "id": "yPC7jdBCEd__"
      }
    },
    {
      "cell_type": "code",
      "source": [
        "raw_data_url = \"https://raw.githubusercontent.com/natanascimento/big-data-analysis/main/credit-risk/datalake/raw/rw_credit.csv\""
      ],
      "metadata": {
        "id": "akrMBeucd2fg"
      },
      "execution_count": null,
      "outputs": []
    },
    {
      "cell_type": "code",
      "source": [
        "dataset = pd.read_csv(raw_data_url, sep=\";\", encoding=\"cp1252\")"
      ],
      "metadata": {
        "id": "DSu_NjtbDiuo"
      },
      "execution_count": null,
      "outputs": []
    },
    {
      "cell_type": "markdown",
      "source": [
        "## Dicionário de dados"
      ],
      "metadata": {
        "id": "9E6giqZZfKBI"
      }
    },
    {
      "cell_type": "code",
      "source": [
        "columns_desc = [[\"CHEQUEESPECIAL\", \"Valor que o cliente possui em cheque especial. 0 <= x < 200 indica entre 1 e 199 reais, por exemplo\"], \n",
        "                [\"USO_CREDITO\" , \"Tempo, em meses, que o cliente usa o crédito\"], \n",
        "                [\"HISTORICO_CREDITO\", \"Observação do histórico de crédito\"], \n",
        "                [\"PROPOSITO\", \"Propósito do empréstimo\"], \n",
        "                [\"BALANCO_ATUAL\", \"Saldo do cliente\"], \n",
        "                [\"BALANCO_MEDIO_CREDITO\", \"Bônus que o cliente possui (R$)\"], \n",
        "                [\"EMPREGADO\", \"Quantidade de anos que o cliente está empregado\"], \n",
        "                [\"LOCAL\", \"Código da localização do cliente\"], \n",
        "                [\"ESTADOCIVIL\", \"Estado civil do cliente\"], \n",
        "                [\"OUTRASFUNCOES\", \"Outras funções do crédito\"], \n",
        "                [\"RESIDENCIADESDE\", \"Há quantos anos o cliente possui residência fixa\"], \n",
        "                [\"TIPOSBENS\", \"Tipos de bens\"], \n",
        "                [\"IDADE\", \"Idade\"], \n",
        "                [\"OUTROSPLANOSPGTO\", \"Outros planos de pagamento\"], \n",
        "                [\"RESIDENCIA\", \"Qual é a forma de residência\"], \n",
        "                [\"CREDITOSEXISTENTES\", \"Quantidade de contratos que o cliente possui\"], \n",
        "                [\"EMPREGO\", \"Modalidade de emprego que o cliente se enquadra\"], \n",
        "                [\"DEPENDENTES\", \"Número de dependentes\"], \n",
        "                [\"TRABAESTRANGEIRO\", \"Indicativo se o cliente trabalha em empresa estrangeira\"], \n",
        "                [\"CLASSE\", \"Classificação do cliente (segundo especialista): Bom ou Ruim\"]]"
      ],
      "metadata": {
        "id": "E-l_8b7CfghL"
      },
      "execution_count": null,
      "outputs": []
    },
    {
      "cell_type": "code",
      "source": [
        "data_dict = pd.DataFrame(columns_desc, columns=[\"variável\", \"descrição\"])"
      ],
      "metadata": {
        "id": "hKZRpEt19ZIO"
      },
      "execution_count": null,
      "outputs": []
    },
    {
      "cell_type": "code",
      "source": [
        "data_dict"
      ],
      "metadata": {
        "colab": {
          "base_uri": "https://localhost:8080/",
          "height": 676
        },
        "id": "k1SHTi_pg_GJ",
        "outputId": "7f0b957f-f37d-42a2-c542-ef81c5f69580"
      },
      "execution_count": null,
      "outputs": [
        {
          "output_type": "execute_result",
          "data": {
            "text/plain": [
              "                 variável                                          descrição\n",
              "0          CHEQUEESPECIAL  Valor que o cliente possui em cheque especial....\n",
              "1             USO_CREDITO       Tempo, em meses, que o cliente usa o crédito\n",
              "2       HISTORICO_CREDITO                 Observação do histórico de crédito\n",
              "3               PROPOSITO                            Propósito do empréstimo\n",
              "4           BALANCO_ATUAL                                   Saldo do cliente\n",
              "5   BALANCO_MEDIO_CREDITO                    Bônus que o cliente possui (R$)\n",
              "6               EMPREGADO    Quantidade de anos que o cliente está empregado\n",
              "7                   LOCAL                   Código da localização do cliente\n",
              "8             ESTADOCIVIL                            Estado civil do cliente\n",
              "9           OUTRASFUNCOES                          Outras funções do crédito\n",
              "10        RESIDENCIADESDE   Há quantos anos o cliente possui residência fixa\n",
              "11              TIPOSBENS                                      Tipos de bens\n",
              "12                  IDADE                                              Idade\n",
              "13       OUTROSPLANOSPGTO                         Outros planos de pagamento\n",
              "14             RESIDENCIA                       Qual é a forma de residência\n",
              "15     CREDITOSEXISTENTES       Quantidade de contratos que o cliente possui\n",
              "16                EMPREGO    Modalidade de emprego que o cliente se enquadra\n",
              "17            DEPENDENTES                              Número de dependentes\n",
              "18       TRABAESTRANGEIRO  Indicativo se o cliente trabalha em empresa es...\n",
              "19                 CLASSE  Classificação do cliente (segundo especialista..."
            ],
            "text/html": [
              "\n",
              "  <div id=\"df-89e08826-4148-4daa-acbf-48c388d639cf\">\n",
              "    <div class=\"colab-df-container\">\n",
              "      <div>\n",
              "<style scoped>\n",
              "    .dataframe tbody tr th:only-of-type {\n",
              "        vertical-align: middle;\n",
              "    }\n",
              "\n",
              "    .dataframe tbody tr th {\n",
              "        vertical-align: top;\n",
              "    }\n",
              "\n",
              "    .dataframe thead th {\n",
              "        text-align: right;\n",
              "    }\n",
              "</style>\n",
              "<table border=\"1\" class=\"dataframe\">\n",
              "  <thead>\n",
              "    <tr style=\"text-align: right;\">\n",
              "      <th></th>\n",
              "      <th>variável</th>\n",
              "      <th>descrição</th>\n",
              "    </tr>\n",
              "  </thead>\n",
              "  <tbody>\n",
              "    <tr>\n",
              "      <th>0</th>\n",
              "      <td>CHEQUEESPECIAL</td>\n",
              "      <td>Valor que o cliente possui em cheque especial....</td>\n",
              "    </tr>\n",
              "    <tr>\n",
              "      <th>1</th>\n",
              "      <td>USO_CREDITO</td>\n",
              "      <td>Tempo, em meses, que o cliente usa o crédito</td>\n",
              "    </tr>\n",
              "    <tr>\n",
              "      <th>2</th>\n",
              "      <td>HISTORICO_CREDITO</td>\n",
              "      <td>Observação do histórico de crédito</td>\n",
              "    </tr>\n",
              "    <tr>\n",
              "      <th>3</th>\n",
              "      <td>PROPOSITO</td>\n",
              "      <td>Propósito do empréstimo</td>\n",
              "    </tr>\n",
              "    <tr>\n",
              "      <th>4</th>\n",
              "      <td>BALANCO_ATUAL</td>\n",
              "      <td>Saldo do cliente</td>\n",
              "    </tr>\n",
              "    <tr>\n",
              "      <th>5</th>\n",
              "      <td>BALANCO_MEDIO_CREDITO</td>\n",
              "      <td>Bônus que o cliente possui (R$)</td>\n",
              "    </tr>\n",
              "    <tr>\n",
              "      <th>6</th>\n",
              "      <td>EMPREGADO</td>\n",
              "      <td>Quantidade de anos que o cliente está empregado</td>\n",
              "    </tr>\n",
              "    <tr>\n",
              "      <th>7</th>\n",
              "      <td>LOCAL</td>\n",
              "      <td>Código da localização do cliente</td>\n",
              "    </tr>\n",
              "    <tr>\n",
              "      <th>8</th>\n",
              "      <td>ESTADOCIVIL</td>\n",
              "      <td>Estado civil do cliente</td>\n",
              "    </tr>\n",
              "    <tr>\n",
              "      <th>9</th>\n",
              "      <td>OUTRASFUNCOES</td>\n",
              "      <td>Outras funções do crédito</td>\n",
              "    </tr>\n",
              "    <tr>\n",
              "      <th>10</th>\n",
              "      <td>RESIDENCIADESDE</td>\n",
              "      <td>Há quantos anos o cliente possui residência fixa</td>\n",
              "    </tr>\n",
              "    <tr>\n",
              "      <th>11</th>\n",
              "      <td>TIPOSBENS</td>\n",
              "      <td>Tipos de bens</td>\n",
              "    </tr>\n",
              "    <tr>\n",
              "      <th>12</th>\n",
              "      <td>IDADE</td>\n",
              "      <td>Idade</td>\n",
              "    </tr>\n",
              "    <tr>\n",
              "      <th>13</th>\n",
              "      <td>OUTROSPLANOSPGTO</td>\n",
              "      <td>Outros planos de pagamento</td>\n",
              "    </tr>\n",
              "    <tr>\n",
              "      <th>14</th>\n",
              "      <td>RESIDENCIA</td>\n",
              "      <td>Qual é a forma de residência</td>\n",
              "    </tr>\n",
              "    <tr>\n",
              "      <th>15</th>\n",
              "      <td>CREDITOSEXISTENTES</td>\n",
              "      <td>Quantidade de contratos que o cliente possui</td>\n",
              "    </tr>\n",
              "    <tr>\n",
              "      <th>16</th>\n",
              "      <td>EMPREGO</td>\n",
              "      <td>Modalidade de emprego que o cliente se enquadra</td>\n",
              "    </tr>\n",
              "    <tr>\n",
              "      <th>17</th>\n",
              "      <td>DEPENDENTES</td>\n",
              "      <td>Número de dependentes</td>\n",
              "    </tr>\n",
              "    <tr>\n",
              "      <th>18</th>\n",
              "      <td>TRABAESTRANGEIRO</td>\n",
              "      <td>Indicativo se o cliente trabalha em empresa es...</td>\n",
              "    </tr>\n",
              "    <tr>\n",
              "      <th>19</th>\n",
              "      <td>CLASSE</td>\n",
              "      <td>Classificação do cliente (segundo especialista...</td>\n",
              "    </tr>\n",
              "  </tbody>\n",
              "</table>\n",
              "</div>\n",
              "      <button class=\"colab-df-convert\" onclick=\"convertToInteractive('df-89e08826-4148-4daa-acbf-48c388d639cf')\"\n",
              "              title=\"Convert this dataframe to an interactive table.\"\n",
              "              style=\"display:none;\">\n",
              "        \n",
              "  <svg xmlns=\"http://www.w3.org/2000/svg\" height=\"24px\"viewBox=\"0 0 24 24\"\n",
              "       width=\"24px\">\n",
              "    <path d=\"M0 0h24v24H0V0z\" fill=\"none\"/>\n",
              "    <path d=\"M18.56 5.44l.94 2.06.94-2.06 2.06-.94-2.06-.94-.94-2.06-.94 2.06-2.06.94zm-11 1L8.5 8.5l.94-2.06 2.06-.94-2.06-.94L8.5 2.5l-.94 2.06-2.06.94zm10 10l.94 2.06.94-2.06 2.06-.94-2.06-.94-.94-2.06-.94 2.06-2.06.94z\"/><path d=\"M17.41 7.96l-1.37-1.37c-.4-.4-.92-.59-1.43-.59-.52 0-1.04.2-1.43.59L10.3 9.45l-7.72 7.72c-.78.78-.78 2.05 0 2.83L4 21.41c.39.39.9.59 1.41.59.51 0 1.02-.2 1.41-.59l7.78-7.78 2.81-2.81c.8-.78.8-2.07 0-2.86zM5.41 20L4 18.59l7.72-7.72 1.47 1.35L5.41 20z\"/>\n",
              "  </svg>\n",
              "      </button>\n",
              "      \n",
              "  <style>\n",
              "    .colab-df-container {\n",
              "      display:flex;\n",
              "      flex-wrap:wrap;\n",
              "      gap: 12px;\n",
              "    }\n",
              "\n",
              "    .colab-df-convert {\n",
              "      background-color: #E8F0FE;\n",
              "      border: none;\n",
              "      border-radius: 50%;\n",
              "      cursor: pointer;\n",
              "      display: none;\n",
              "      fill: #1967D2;\n",
              "      height: 32px;\n",
              "      padding: 0 0 0 0;\n",
              "      width: 32px;\n",
              "    }\n",
              "\n",
              "    .colab-df-convert:hover {\n",
              "      background-color: #E2EBFA;\n",
              "      box-shadow: 0px 1px 2px rgba(60, 64, 67, 0.3), 0px 1px 3px 1px rgba(60, 64, 67, 0.15);\n",
              "      fill: #174EA6;\n",
              "    }\n",
              "\n",
              "    [theme=dark] .colab-df-convert {\n",
              "      background-color: #3B4455;\n",
              "      fill: #D2E3FC;\n",
              "    }\n",
              "\n",
              "    [theme=dark] .colab-df-convert:hover {\n",
              "      background-color: #434B5C;\n",
              "      box-shadow: 0px 1px 3px 1px rgba(0, 0, 0, 0.15);\n",
              "      filter: drop-shadow(0px 1px 2px rgba(0, 0, 0, 0.3));\n",
              "      fill: #FFFFFF;\n",
              "    }\n",
              "  </style>\n",
              "\n",
              "      <script>\n",
              "        const buttonEl =\n",
              "          document.querySelector('#df-89e08826-4148-4daa-acbf-48c388d639cf button.colab-df-convert');\n",
              "        buttonEl.style.display =\n",
              "          google.colab.kernel.accessAllowed ? 'block' : 'none';\n",
              "\n",
              "        async function convertToInteractive(key) {\n",
              "          const element = document.querySelector('#df-89e08826-4148-4daa-acbf-48c388d639cf');\n",
              "          const dataTable =\n",
              "            await google.colab.kernel.invokeFunction('convertToInteractive',\n",
              "                                                     [key], {});\n",
              "          if (!dataTable) return;\n",
              "\n",
              "          const docLinkHtml = 'Like what you see? Visit the ' +\n",
              "            '<a target=\"_blank\" href=https://colab.research.google.com/notebooks/data_table.ipynb>data table notebook</a>'\n",
              "            + ' to learn more about interactive tables.';\n",
              "          element.innerHTML = '';\n",
              "          dataTable['output_type'] = 'display_data';\n",
              "          await google.colab.output.renderOutput(dataTable, element);\n",
              "          const docLink = document.createElement('div');\n",
              "          docLink.innerHTML = docLinkHtml;\n",
              "          element.appendChild(docLink);\n",
              "        }\n",
              "      </script>\n",
              "    </div>\n",
              "  </div>\n",
              "  "
            ]
          },
          "metadata": {},
          "execution_count": 19
        }
      ]
    },
    {
      "cell_type": "markdown",
      "source": [
        "## Creating train and test datasets"
      ],
      "metadata": {
        "id": "2jTgrUGAlW4n"
      }
    },
    {
      "cell_type": "code",
      "source": [
        "train_dataset = dataset[:80]"
      ],
      "metadata": {
        "id": "hmluVo9nhAgW"
      },
      "execution_count": null,
      "outputs": []
    },
    {
      "cell_type": "code",
      "source": [
        "test_dataset = dataset[80:]"
      ],
      "metadata": {
        "id": "K87zKWdElkAG"
      },
      "execution_count": null,
      "outputs": []
    },
    {
      "cell_type": "code",
      "source": [
        "dataset.count()"
      ],
      "metadata": {
        "colab": {
          "base_uri": "https://localhost:8080/"
        },
        "id": "0Qftoug3lrc5",
        "outputId": "7c6c7ed7-fa7b-42cd-b301-57be9a3b3933"
      },
      "execution_count": null,
      "outputs": [
        {
          "output_type": "execute_result",
          "data": {
            "text/plain": [
              "CHEQUEESPECIAL           1000\n",
              "USO_CREDITO              1000\n",
              "HISTORICO_CREDITO        1000\n",
              "PROPOSITO                1000\n",
              "BALANCO_ATUAL            1000\n",
              "BALANCO_MEDIO_CREDITO    1000\n",
              "EMPREGADO                1000\n",
              "LOCAL                    1000\n",
              "ESTADOCIVIL              1000\n",
              "OUTRASFUNCOES            1000\n",
              "RESIDENCIADESDE          1000\n",
              "TIPOSBENS                1000\n",
              "IDADE                    1000\n",
              "OUTROSPLANOSPGTO         1000\n",
              "RESIDENCIA               1000\n",
              "CREDITOSEXISTENTES       1000\n",
              "EMPREGO                  1000\n",
              "DEPENDENTES              1000\n",
              "TRABAESTRANGEIRO         1000\n",
              "CLASSE                   1000\n",
              "dtype: int64"
            ]
          },
          "metadata": {},
          "execution_count": 20
        }
      ]
    },
    {
      "cell_type": "code",
      "source": [
        "train_dataset.count()"
      ],
      "metadata": {
        "colab": {
          "base_uri": "https://localhost:8080/"
        },
        "id": "YfrEOXXWls8P",
        "outputId": "fe15683f-a24c-449b-a984-de73a1d6a4d3"
      },
      "execution_count": null,
      "outputs": [
        {
          "output_type": "execute_result",
          "data": {
            "text/plain": [
              "CHEQUEESPECIAL           80\n",
              "USO_CREDITO              80\n",
              "HISTORICO_CREDITO        80\n",
              "PROPOSITO                80\n",
              "BALANCO_ATUAL            80\n",
              "BALANCO_MEDIO_CREDITO    80\n",
              "EMPREGADO                80\n",
              "LOCAL                    80\n",
              "ESTADOCIVIL              80\n",
              "OUTRASFUNCOES            80\n",
              "RESIDENCIADESDE          80\n",
              "TIPOSBENS                80\n",
              "IDADE                    80\n",
              "OUTROSPLANOSPGTO         80\n",
              "RESIDENCIA               80\n",
              "CREDITOSEXISTENTES       80\n",
              "EMPREGO                  80\n",
              "DEPENDENTES              80\n",
              "TRABAESTRANGEIRO         80\n",
              "CLASSE                   80\n",
              "dtype: int64"
            ]
          },
          "metadata": {},
          "execution_count": 23
        }
      ]
    },
    {
      "cell_type": "code",
      "source": [
        "test_dataset.count()"
      ],
      "metadata": {
        "colab": {
          "base_uri": "https://localhost:8080/"
        },
        "id": "xpWGjvxxlxlV",
        "outputId": "73dddab2-7473-4919-af17-4fcf0f7d9c13"
      },
      "execution_count": null,
      "outputs": [
        {
          "output_type": "execute_result",
          "data": {
            "text/plain": [
              "CHEQUEESPECIAL           920\n",
              "USO_CREDITO              920\n",
              "HISTORICO_CREDITO        920\n",
              "PROPOSITO                920\n",
              "BALANCO_ATUAL            920\n",
              "BALANCO_MEDIO_CREDITO    920\n",
              "EMPREGADO                920\n",
              "LOCAL                    920\n",
              "ESTADOCIVIL              920\n",
              "OUTRASFUNCOES            920\n",
              "RESIDENCIADESDE          920\n",
              "TIPOSBENS                920\n",
              "IDADE                    920\n",
              "OUTROSPLANOSPGTO         920\n",
              "RESIDENCIA               920\n",
              "CREDITOSEXISTENTES       920\n",
              "EMPREGO                  920\n",
              "DEPENDENTES              920\n",
              "TRABAESTRANGEIRO         920\n",
              "CLASSE                   920\n",
              "dtype: int64"
            ]
          },
          "metadata": {},
          "execution_count": 24
        }
      ]
    },
    {
      "cell_type": "code",
      "source": [
        ""
      ],
      "metadata": {
        "id": "58RI8mUYl03D"
      },
      "execution_count": null,
      "outputs": []
    }
  ]
}