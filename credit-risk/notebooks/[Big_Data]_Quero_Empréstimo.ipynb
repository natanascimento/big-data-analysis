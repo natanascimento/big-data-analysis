{
  "nbformat": 4,
  "nbformat_minor": 0,
  "metadata": {
    "colab": {
      "name": "[Big Data] Quero Empréstimo.ipynb",
      "provenance": [],
      "collapsed_sections": [],
      "toc_visible": true,
      "authorship_tag": "ABX9TyPV6Ubb4CS3HVCg9YFLka7+",
      "include_colab_link": true
    },
    "kernelspec": {
      "name": "python3",
      "display_name": "Python 3"
    },
    "language_info": {
      "name": "python"
    }
  },
  "cells": [
    {
      "cell_type": "markdown",
      "metadata": {
        "id": "view-in-github",
        "colab_type": "text"
      },
      "source": [
        "<a href=\"https://colab.research.google.com/github/natanascimento/big-data-analysis/blob/main/credit-risk/notebooks/%5BBig_Data%5D_Quero_Empr%C3%A9stimo.ipynb\" target=\"_parent\"><img src=\"https://colab.research.google.com/assets/colab-badge.svg\" alt=\"Open In Colab\"/></a>"
      ]
    },
    {
      "cell_type": "markdown",
      "source": [
        "# Importação de dependências"
      ],
      "metadata": {
        "id": "EJ-7FYNVEQlC"
      }
    },
    {
      "cell_type": "code",
      "source": [
        "import warnings\n",
        "\n",
        "import numpy as np\n",
        "import pandas as pd\n",
        "from matplotlib import pyplot as plt\n",
        "import seaborn as sns\n",
        "\n",
        "from sklearn.model_selection import train_test_split\n",
        "from imblearn.combine import SMOTEENN\n",
        "\n",
        "from sklearn.linear_model import LogisticRegression\n",
        "from sklearn.tree import DecisionTreeClassifier\n",
        "from sklearn.ensemble import RandomForestClassifier\n",
        "\n",
        "from sklearn.model_selection import cross_validate\n",
        "\n",
        "from sklearn.feature_selection import RFECV\n",
        "\n",
        "from sklearn.model_selection import GridSearchCV\n",
        "\n",
        "from sklearn.metrics import precision_recall_curve, roc_auc_score\n",
        "from sklearn.metrics import plot_roc_curve, plot_confusion_matrix\n",
        "\n",
        "from pandasql import sqldf"
      ],
      "metadata": {
        "id": "gSf-NQzOBXqj"
      },
      "execution_count": 1,
      "outputs": []
    },
    {
      "cell_type": "code",
      "source": [
        "# Filtrando tipos de avisos para serem ignorados\n",
        "\n",
        "warnings.filterwarnings(\"ignore\", category=DeprecationWarning)\n",
        "warnings.filterwarnings(\"ignore\", category=UserWarning)\n",
        "warnings.filterwarnings(\"ignore\", category=FutureWarning)"
      ],
      "metadata": {
        "id": "G8QnJAvifCBD"
      },
      "execution_count": 2,
      "outputs": []
    },
    {
      "cell_type": "markdown",
      "source": [
        "# Dicionário de dados"
      ],
      "metadata": {
        "id": "9E6giqZZfKBI"
      }
    },
    {
      "cell_type": "code",
      "source": [
        "columns_desc = [[\"CHEQUEESPECIAL\", \"Valor que o cliente possui em cheque especial. 0 <= x < 200 indica entre 1 e 199 reais, por exemplo\"], \n",
        "                [\"USO_CREDITO\" , \"Tempo, em meses, que o cliente usa o crédito\"], \n",
        "                [\"HISTORICO_CREDITO\", \"Observação do histórico de crédito\"], \n",
        "                [\"PROPOSITO\", \"Propósito do empréstimo\"], \n",
        "                [\"BALANCO_ATUAL\", \"Saldo do cliente\"], \n",
        "                [\"BALANCO_MEDIO_CREDITO\", \"Bônus que o cliente possui (R$)\"], \n",
        "                [\"EMPREGADO\", \"Quantidade de anos que o cliente está empregado\"], \n",
        "                [\"LOCAL\", \"Código da localização do cliente\"], \n",
        "                [\"ESTADOCIVIL\", \"Estado civil do cliente\"], \n",
        "                [\"OUTRASFUNCOES\", \"Outras funções do crédito\"], \n",
        "                [\"RESIDENCIADESDE\", \"Há quantos anos o cliente possui residência fixa\"], \n",
        "                [\"TIPOSBENS\", \"Tipos de bens\"], \n",
        "                [\"IDADE\", \"Idade\"], \n",
        "                [\"OUTROSPLANOSPGTO\", \"Outros planos de pagamento\"], \n",
        "                [\"RESIDENCIA\", \"Qual é a forma de residência\"], \n",
        "                [\"CREDITOSEXISTENTES\", \"Quantidade de contratos que o cliente possui\"], \n",
        "                [\"EMPREGO\", \"Modalidade de emprego que o cliente se enquadra\"], \n",
        "                [\"DEPENDENTES\", \"Número de dependentes\"], \n",
        "                [\"TRABAESTRANGEIRO\", \"Indicativo se o cliente trabalha em empresa estrangeira\"], \n",
        "                [\"CLASSE\", \"Classificação do cliente (segundo especialista): Bom ou Ruim\"]]"
      ],
      "metadata": {
        "id": "E-l_8b7CfghL"
      },
      "execution_count": 3,
      "outputs": []
    },
    {
      "cell_type": "code",
      "source": [
        "data_dict = pd.DataFrame(columns_desc, columns=[\"variável\", \"descrição\"])"
      ],
      "metadata": {
        "id": "hKZRpEt19ZIO"
      },
      "execution_count": 4,
      "outputs": []
    },
    {
      "cell_type": "code",
      "source": [
        "data_dict"
      ],
      "metadata": {
        "colab": {
          "base_uri": "https://localhost:8080/",
          "height": 676
        },
        "id": "k1SHTi_pg_GJ",
        "outputId": "7498dee7-896c-4e35-8810-51e517860e1b"
      },
      "execution_count": 5,
      "outputs": [
        {
          "output_type": "execute_result",
          "data": {
            "text/plain": [
              "                 variável                                          descrição\n",
              "0          CHEQUEESPECIAL  Valor que o cliente possui em cheque especial....\n",
              "1             USO_CREDITO       Tempo, em meses, que o cliente usa o crédito\n",
              "2       HISTORICO_CREDITO                 Observação do histórico de crédito\n",
              "3               PROPOSITO                            Propósito do empréstimo\n",
              "4           BALANCO_ATUAL                                   Saldo do cliente\n",
              "5   BALANCO_MEDIO_CREDITO                    Bônus que o cliente possui (R$)\n",
              "6               EMPREGADO    Quantidade de anos que o cliente está empregado\n",
              "7                   LOCAL                   Código da localização do cliente\n",
              "8             ESTADOCIVIL                            Estado civil do cliente\n",
              "9           OUTRASFUNCOES                          Outras funções do crédito\n",
              "10        RESIDENCIADESDE   Há quantos anos o cliente possui residência fixa\n",
              "11              TIPOSBENS                                      Tipos de bens\n",
              "12                  IDADE                                              Idade\n",
              "13       OUTROSPLANOSPGTO                         Outros planos de pagamento\n",
              "14             RESIDENCIA                       Qual é a forma de residência\n",
              "15     CREDITOSEXISTENTES       Quantidade de contratos que o cliente possui\n",
              "16                EMPREGO    Modalidade de emprego que o cliente se enquadra\n",
              "17            DEPENDENTES                              Número de dependentes\n",
              "18       TRABAESTRANGEIRO  Indicativo se o cliente trabalha em empresa es...\n",
              "19                 CLASSE  Classificação do cliente (segundo especialista..."
            ],
            "text/html": [
              "\n",
              "  <div id=\"df-e81af523-5e77-460d-8a27-bd422de1324a\">\n",
              "    <div class=\"colab-df-container\">\n",
              "      <div>\n",
              "<style scoped>\n",
              "    .dataframe tbody tr th:only-of-type {\n",
              "        vertical-align: middle;\n",
              "    }\n",
              "\n",
              "    .dataframe tbody tr th {\n",
              "        vertical-align: top;\n",
              "    }\n",
              "\n",
              "    .dataframe thead th {\n",
              "        text-align: right;\n",
              "    }\n",
              "</style>\n",
              "<table border=\"1\" class=\"dataframe\">\n",
              "  <thead>\n",
              "    <tr style=\"text-align: right;\">\n",
              "      <th></th>\n",
              "      <th>variável</th>\n",
              "      <th>descrição</th>\n",
              "    </tr>\n",
              "  </thead>\n",
              "  <tbody>\n",
              "    <tr>\n",
              "      <th>0</th>\n",
              "      <td>CHEQUEESPECIAL</td>\n",
              "      <td>Valor que o cliente possui em cheque especial....</td>\n",
              "    </tr>\n",
              "    <tr>\n",
              "      <th>1</th>\n",
              "      <td>USO_CREDITO</td>\n",
              "      <td>Tempo, em meses, que o cliente usa o crédito</td>\n",
              "    </tr>\n",
              "    <tr>\n",
              "      <th>2</th>\n",
              "      <td>HISTORICO_CREDITO</td>\n",
              "      <td>Observação do histórico de crédito</td>\n",
              "    </tr>\n",
              "    <tr>\n",
              "      <th>3</th>\n",
              "      <td>PROPOSITO</td>\n",
              "      <td>Propósito do empréstimo</td>\n",
              "    </tr>\n",
              "    <tr>\n",
              "      <th>4</th>\n",
              "      <td>BALANCO_ATUAL</td>\n",
              "      <td>Saldo do cliente</td>\n",
              "    </tr>\n",
              "    <tr>\n",
              "      <th>5</th>\n",
              "      <td>BALANCO_MEDIO_CREDITO</td>\n",
              "      <td>Bônus que o cliente possui (R$)</td>\n",
              "    </tr>\n",
              "    <tr>\n",
              "      <th>6</th>\n",
              "      <td>EMPREGADO</td>\n",
              "      <td>Quantidade de anos que o cliente está empregado</td>\n",
              "    </tr>\n",
              "    <tr>\n",
              "      <th>7</th>\n",
              "      <td>LOCAL</td>\n",
              "      <td>Código da localização do cliente</td>\n",
              "    </tr>\n",
              "    <tr>\n",
              "      <th>8</th>\n",
              "      <td>ESTADOCIVIL</td>\n",
              "      <td>Estado civil do cliente</td>\n",
              "    </tr>\n",
              "    <tr>\n",
              "      <th>9</th>\n",
              "      <td>OUTRASFUNCOES</td>\n",
              "      <td>Outras funções do crédito</td>\n",
              "    </tr>\n",
              "    <tr>\n",
              "      <th>10</th>\n",
              "      <td>RESIDENCIADESDE</td>\n",
              "      <td>Há quantos anos o cliente possui residência fixa</td>\n",
              "    </tr>\n",
              "    <tr>\n",
              "      <th>11</th>\n",
              "      <td>TIPOSBENS</td>\n",
              "      <td>Tipos de bens</td>\n",
              "    </tr>\n",
              "    <tr>\n",
              "      <th>12</th>\n",
              "      <td>IDADE</td>\n",
              "      <td>Idade</td>\n",
              "    </tr>\n",
              "    <tr>\n",
              "      <th>13</th>\n",
              "      <td>OUTROSPLANOSPGTO</td>\n",
              "      <td>Outros planos de pagamento</td>\n",
              "    </tr>\n",
              "    <tr>\n",
              "      <th>14</th>\n",
              "      <td>RESIDENCIA</td>\n",
              "      <td>Qual é a forma de residência</td>\n",
              "    </tr>\n",
              "    <tr>\n",
              "      <th>15</th>\n",
              "      <td>CREDITOSEXISTENTES</td>\n",
              "      <td>Quantidade de contratos que o cliente possui</td>\n",
              "    </tr>\n",
              "    <tr>\n",
              "      <th>16</th>\n",
              "      <td>EMPREGO</td>\n",
              "      <td>Modalidade de emprego que o cliente se enquadra</td>\n",
              "    </tr>\n",
              "    <tr>\n",
              "      <th>17</th>\n",
              "      <td>DEPENDENTES</td>\n",
              "      <td>Número de dependentes</td>\n",
              "    </tr>\n",
              "    <tr>\n",
              "      <th>18</th>\n",
              "      <td>TRABAESTRANGEIRO</td>\n",
              "      <td>Indicativo se o cliente trabalha em empresa es...</td>\n",
              "    </tr>\n",
              "    <tr>\n",
              "      <th>19</th>\n",
              "      <td>CLASSE</td>\n",
              "      <td>Classificação do cliente (segundo especialista...</td>\n",
              "    </tr>\n",
              "  </tbody>\n",
              "</table>\n",
              "</div>\n",
              "      <button class=\"colab-df-convert\" onclick=\"convertToInteractive('df-e81af523-5e77-460d-8a27-bd422de1324a')\"\n",
              "              title=\"Convert this dataframe to an interactive table.\"\n",
              "              style=\"display:none;\">\n",
              "        \n",
              "  <svg xmlns=\"http://www.w3.org/2000/svg\" height=\"24px\"viewBox=\"0 0 24 24\"\n",
              "       width=\"24px\">\n",
              "    <path d=\"M0 0h24v24H0V0z\" fill=\"none\"/>\n",
              "    <path d=\"M18.56 5.44l.94 2.06.94-2.06 2.06-.94-2.06-.94-.94-2.06-.94 2.06-2.06.94zm-11 1L8.5 8.5l.94-2.06 2.06-.94-2.06-.94L8.5 2.5l-.94 2.06-2.06.94zm10 10l.94 2.06.94-2.06 2.06-.94-2.06-.94-.94-2.06-.94 2.06-2.06.94z\"/><path d=\"M17.41 7.96l-1.37-1.37c-.4-.4-.92-.59-1.43-.59-.52 0-1.04.2-1.43.59L10.3 9.45l-7.72 7.72c-.78.78-.78 2.05 0 2.83L4 21.41c.39.39.9.59 1.41.59.51 0 1.02-.2 1.41-.59l7.78-7.78 2.81-2.81c.8-.78.8-2.07 0-2.86zM5.41 20L4 18.59l7.72-7.72 1.47 1.35L5.41 20z\"/>\n",
              "  </svg>\n",
              "      </button>\n",
              "      \n",
              "  <style>\n",
              "    .colab-df-container {\n",
              "      display:flex;\n",
              "      flex-wrap:wrap;\n",
              "      gap: 12px;\n",
              "    }\n",
              "\n",
              "    .colab-df-convert {\n",
              "      background-color: #E8F0FE;\n",
              "      border: none;\n",
              "      border-radius: 50%;\n",
              "      cursor: pointer;\n",
              "      display: none;\n",
              "      fill: #1967D2;\n",
              "      height: 32px;\n",
              "      padding: 0 0 0 0;\n",
              "      width: 32px;\n",
              "    }\n",
              "\n",
              "    .colab-df-convert:hover {\n",
              "      background-color: #E2EBFA;\n",
              "      box-shadow: 0px 1px 2px rgba(60, 64, 67, 0.3), 0px 1px 3px 1px rgba(60, 64, 67, 0.15);\n",
              "      fill: #174EA6;\n",
              "    }\n",
              "\n",
              "    [theme=dark] .colab-df-convert {\n",
              "      background-color: #3B4455;\n",
              "      fill: #D2E3FC;\n",
              "    }\n",
              "\n",
              "    [theme=dark] .colab-df-convert:hover {\n",
              "      background-color: #434B5C;\n",
              "      box-shadow: 0px 1px 3px 1px rgba(0, 0, 0, 0.15);\n",
              "      filter: drop-shadow(0px 1px 2px rgba(0, 0, 0, 0.3));\n",
              "      fill: #FFFFFF;\n",
              "    }\n",
              "  </style>\n",
              "\n",
              "      <script>\n",
              "        const buttonEl =\n",
              "          document.querySelector('#df-e81af523-5e77-460d-8a27-bd422de1324a button.colab-df-convert');\n",
              "        buttonEl.style.display =\n",
              "          google.colab.kernel.accessAllowed ? 'block' : 'none';\n",
              "\n",
              "        async function convertToInteractive(key) {\n",
              "          const element = document.querySelector('#df-e81af523-5e77-460d-8a27-bd422de1324a');\n",
              "          const dataTable =\n",
              "            await google.colab.kernel.invokeFunction('convertToInteractive',\n",
              "                                                     [key], {});\n",
              "          if (!dataTable) return;\n",
              "\n",
              "          const docLinkHtml = 'Like what you see? Visit the ' +\n",
              "            '<a target=\"_blank\" href=https://colab.research.google.com/notebooks/data_table.ipynb>data table notebook</a>'\n",
              "            + ' to learn more about interactive tables.';\n",
              "          element.innerHTML = '';\n",
              "          dataTable['output_type'] = 'display_data';\n",
              "          await google.colab.output.renderOutput(dataTable, element);\n",
              "          const docLink = document.createElement('div');\n",
              "          docLink.innerHTML = docLinkHtml;\n",
              "          element.appendChild(docLink);\n",
              "        }\n",
              "      </script>\n",
              "    </div>\n",
              "  </div>\n",
              "  "
            ]
          },
          "metadata": {},
          "execution_count": 5
        }
      ]
    },
    {
      "cell_type": "markdown",
      "source": [
        "# Carregando ***dataset*** do ***datalake***"
      ],
      "metadata": {
        "id": "yPC7jdBCEd__"
      }
    },
    {
      "cell_type": "code",
      "source": [
        "raw_data_url = \"https://raw.githubusercontent.com/natanascimento/big-data-analysis/main/credit-risk/datalake/raw/rw_credit.csv\""
      ],
      "metadata": {
        "id": "akrMBeucd2fg"
      },
      "execution_count": 6,
      "outputs": []
    },
    {
      "cell_type": "code",
      "source": [
        "dataset = pd.read_csv(raw_data_url, sep=\";\", encoding=\"cp1252\")\n",
        "test = pd.read_csv(raw_data_url, sep=\";\", encoding=\"cp1252\")[800:]"
      ],
      "metadata": {
        "id": "DSu_NjtbDiuo"
      },
      "execution_count": 7,
      "outputs": []
    },
    {
      "cell_type": "markdown",
      "source": [
        "# Análise Exploratória de Dados"
      ],
      "metadata": {
        "id": "lpz1k0LUFKcu"
      }
    },
    {
      "cell_type": "markdown",
      "source": [
        "Analisando as características do dataset como um todo"
      ],
      "metadata": {
        "id": "V_M_4n3fFe--"
      }
    },
    {
      "cell_type": "code",
      "source": [
        "dataset.head()"
      ],
      "metadata": {
        "colab": {
          "base_uri": "https://localhost:8080/",
          "height": 356
        },
        "id": "QnSuH7QDGp4u",
        "outputId": "e5078d0d-8651-42af-c44c-550270bc51f6"
      },
      "execution_count": 8,
      "outputs": [
        {
          "output_type": "execute_result",
          "data": {
            "text/plain": [
              "  CHEQUEESPECIAL  USO_CREDITO                      HISTORICO_CREDITO  \\\n",
              "0             <0            6  crítica / outros de crédito existente   \n",
              "1       0<=X<200           48                       existente e pago   \n",
              "2     sem cheque           12  crítica / outros de crédito existente   \n",
              "3             <0           42                       existente e pago   \n",
              "4             <0           24                     atrasos anteriores   \n",
              "\n",
              "             PROPOSITO  BALANCO_ATUAL       BALANCO_MEDIO_CREDITO EMPREGADO  \\\n",
              "0        Computador/TV           1169  nenhuma economia conhecida       >=7   \n",
              "1        Computador/TV           5951                        <100    1<=X<4   \n",
              "2             educação           2096                        <100    4<=X<7   \n",
              "3  mobilia/equipamento           7882                        <100    4<=X<7   \n",
              "4           carro novo           4870                        <100    1<=X<4   \n",
              "\n",
              "   LOCAL         ESTADOCIVIL OUTRASFUNCOES  RESIDENCIADESDE  \\\n",
              "0      4  masculino solteiro        nenhum                4   \n",
              "1      2         fem div/cas        nenhum                2   \n",
              "2      2  masculino solteiro        nenhum                3   \n",
              "3      2  masculino solteiro        fiador                4   \n",
              "4      3  masculino solteiro        nenhum                4   \n",
              "\n",
              "           TIPOSBENS  IDADE OUTROSPLANOSPGTO     RESIDENCIA  \\\n",
              "0       bens imóveis     67           nenhum        própria   \n",
              "1       bens imóveis     22           nenhum        própria   \n",
              "2       bens imóveis     49           nenhum        própria   \n",
              "3     seguro de vida     45           nenhum  gratuitamente   \n",
              "4  nenhuma conhecida     53           nenhum  gratuitamente   \n",
              "\n",
              "   CREDITOSEXISTENTES            EMPREGO  DEPENDENTES TRABAESTRANGEIRO CLASSE  \n",
              "0                   2      especializado            1              sim    bom  \n",
              "1                   1      especializado            1              sim   ruim  \n",
              "2                   1  não especializado            2              sim    bom  \n",
              "3                   1      especializado            2              sim    bom  \n",
              "4                   2      especializado            2              sim   ruim  "
            ],
            "text/html": [
              "\n",
              "  <div id=\"df-16159535-9cc8-4ed6-b143-a7915bc248ec\">\n",
              "    <div class=\"colab-df-container\">\n",
              "      <div>\n",
              "<style scoped>\n",
              "    .dataframe tbody tr th:only-of-type {\n",
              "        vertical-align: middle;\n",
              "    }\n",
              "\n",
              "    .dataframe tbody tr th {\n",
              "        vertical-align: top;\n",
              "    }\n",
              "\n",
              "    .dataframe thead th {\n",
              "        text-align: right;\n",
              "    }\n",
              "</style>\n",
              "<table border=\"1\" class=\"dataframe\">\n",
              "  <thead>\n",
              "    <tr style=\"text-align: right;\">\n",
              "      <th></th>\n",
              "      <th>CHEQUEESPECIAL</th>\n",
              "      <th>USO_CREDITO</th>\n",
              "      <th>HISTORICO_CREDITO</th>\n",
              "      <th>PROPOSITO</th>\n",
              "      <th>BALANCO_ATUAL</th>\n",
              "      <th>BALANCO_MEDIO_CREDITO</th>\n",
              "      <th>EMPREGADO</th>\n",
              "      <th>LOCAL</th>\n",
              "      <th>ESTADOCIVIL</th>\n",
              "      <th>OUTRASFUNCOES</th>\n",
              "      <th>RESIDENCIADESDE</th>\n",
              "      <th>TIPOSBENS</th>\n",
              "      <th>IDADE</th>\n",
              "      <th>OUTROSPLANOSPGTO</th>\n",
              "      <th>RESIDENCIA</th>\n",
              "      <th>CREDITOSEXISTENTES</th>\n",
              "      <th>EMPREGO</th>\n",
              "      <th>DEPENDENTES</th>\n",
              "      <th>TRABAESTRANGEIRO</th>\n",
              "      <th>CLASSE</th>\n",
              "    </tr>\n",
              "  </thead>\n",
              "  <tbody>\n",
              "    <tr>\n",
              "      <th>0</th>\n",
              "      <td>&lt;0</td>\n",
              "      <td>6</td>\n",
              "      <td>crítica / outros de crédito existente</td>\n",
              "      <td>Computador/TV</td>\n",
              "      <td>1169</td>\n",
              "      <td>nenhuma economia conhecida</td>\n",
              "      <td>&gt;=7</td>\n",
              "      <td>4</td>\n",
              "      <td>masculino solteiro</td>\n",
              "      <td>nenhum</td>\n",
              "      <td>4</td>\n",
              "      <td>bens imóveis</td>\n",
              "      <td>67</td>\n",
              "      <td>nenhum</td>\n",
              "      <td>própria</td>\n",
              "      <td>2</td>\n",
              "      <td>especializado</td>\n",
              "      <td>1</td>\n",
              "      <td>sim</td>\n",
              "      <td>bom</td>\n",
              "    </tr>\n",
              "    <tr>\n",
              "      <th>1</th>\n",
              "      <td>0&lt;=X&lt;200</td>\n",
              "      <td>48</td>\n",
              "      <td>existente e pago</td>\n",
              "      <td>Computador/TV</td>\n",
              "      <td>5951</td>\n",
              "      <td>&lt;100</td>\n",
              "      <td>1&lt;=X&lt;4</td>\n",
              "      <td>2</td>\n",
              "      <td>fem div/cas</td>\n",
              "      <td>nenhum</td>\n",
              "      <td>2</td>\n",
              "      <td>bens imóveis</td>\n",
              "      <td>22</td>\n",
              "      <td>nenhum</td>\n",
              "      <td>própria</td>\n",
              "      <td>1</td>\n",
              "      <td>especializado</td>\n",
              "      <td>1</td>\n",
              "      <td>sim</td>\n",
              "      <td>ruim</td>\n",
              "    </tr>\n",
              "    <tr>\n",
              "      <th>2</th>\n",
              "      <td>sem cheque</td>\n",
              "      <td>12</td>\n",
              "      <td>crítica / outros de crédito existente</td>\n",
              "      <td>educação</td>\n",
              "      <td>2096</td>\n",
              "      <td>&lt;100</td>\n",
              "      <td>4&lt;=X&lt;7</td>\n",
              "      <td>2</td>\n",
              "      <td>masculino solteiro</td>\n",
              "      <td>nenhum</td>\n",
              "      <td>3</td>\n",
              "      <td>bens imóveis</td>\n",
              "      <td>49</td>\n",
              "      <td>nenhum</td>\n",
              "      <td>própria</td>\n",
              "      <td>1</td>\n",
              "      <td>não especializado</td>\n",
              "      <td>2</td>\n",
              "      <td>sim</td>\n",
              "      <td>bom</td>\n",
              "    </tr>\n",
              "    <tr>\n",
              "      <th>3</th>\n",
              "      <td>&lt;0</td>\n",
              "      <td>42</td>\n",
              "      <td>existente e pago</td>\n",
              "      <td>mobilia/equipamento</td>\n",
              "      <td>7882</td>\n",
              "      <td>&lt;100</td>\n",
              "      <td>4&lt;=X&lt;7</td>\n",
              "      <td>2</td>\n",
              "      <td>masculino solteiro</td>\n",
              "      <td>fiador</td>\n",
              "      <td>4</td>\n",
              "      <td>seguro de vida</td>\n",
              "      <td>45</td>\n",
              "      <td>nenhum</td>\n",
              "      <td>gratuitamente</td>\n",
              "      <td>1</td>\n",
              "      <td>especializado</td>\n",
              "      <td>2</td>\n",
              "      <td>sim</td>\n",
              "      <td>bom</td>\n",
              "    </tr>\n",
              "    <tr>\n",
              "      <th>4</th>\n",
              "      <td>&lt;0</td>\n",
              "      <td>24</td>\n",
              "      <td>atrasos anteriores</td>\n",
              "      <td>carro novo</td>\n",
              "      <td>4870</td>\n",
              "      <td>&lt;100</td>\n",
              "      <td>1&lt;=X&lt;4</td>\n",
              "      <td>3</td>\n",
              "      <td>masculino solteiro</td>\n",
              "      <td>nenhum</td>\n",
              "      <td>4</td>\n",
              "      <td>nenhuma conhecida</td>\n",
              "      <td>53</td>\n",
              "      <td>nenhum</td>\n",
              "      <td>gratuitamente</td>\n",
              "      <td>2</td>\n",
              "      <td>especializado</td>\n",
              "      <td>2</td>\n",
              "      <td>sim</td>\n",
              "      <td>ruim</td>\n",
              "    </tr>\n",
              "  </tbody>\n",
              "</table>\n",
              "</div>\n",
              "      <button class=\"colab-df-convert\" onclick=\"convertToInteractive('df-16159535-9cc8-4ed6-b143-a7915bc248ec')\"\n",
              "              title=\"Convert this dataframe to an interactive table.\"\n",
              "              style=\"display:none;\">\n",
              "        \n",
              "  <svg xmlns=\"http://www.w3.org/2000/svg\" height=\"24px\"viewBox=\"0 0 24 24\"\n",
              "       width=\"24px\">\n",
              "    <path d=\"M0 0h24v24H0V0z\" fill=\"none\"/>\n",
              "    <path d=\"M18.56 5.44l.94 2.06.94-2.06 2.06-.94-2.06-.94-.94-2.06-.94 2.06-2.06.94zm-11 1L8.5 8.5l.94-2.06 2.06-.94-2.06-.94L8.5 2.5l-.94 2.06-2.06.94zm10 10l.94 2.06.94-2.06 2.06-.94-2.06-.94-.94-2.06-.94 2.06-2.06.94z\"/><path d=\"M17.41 7.96l-1.37-1.37c-.4-.4-.92-.59-1.43-.59-.52 0-1.04.2-1.43.59L10.3 9.45l-7.72 7.72c-.78.78-.78 2.05 0 2.83L4 21.41c.39.39.9.59 1.41.59.51 0 1.02-.2 1.41-.59l7.78-7.78 2.81-2.81c.8-.78.8-2.07 0-2.86zM5.41 20L4 18.59l7.72-7.72 1.47 1.35L5.41 20z\"/>\n",
              "  </svg>\n",
              "      </button>\n",
              "      \n",
              "  <style>\n",
              "    .colab-df-container {\n",
              "      display:flex;\n",
              "      flex-wrap:wrap;\n",
              "      gap: 12px;\n",
              "    }\n",
              "\n",
              "    .colab-df-convert {\n",
              "      background-color: #E8F0FE;\n",
              "      border: none;\n",
              "      border-radius: 50%;\n",
              "      cursor: pointer;\n",
              "      display: none;\n",
              "      fill: #1967D2;\n",
              "      height: 32px;\n",
              "      padding: 0 0 0 0;\n",
              "      width: 32px;\n",
              "    }\n",
              "\n",
              "    .colab-df-convert:hover {\n",
              "      background-color: #E2EBFA;\n",
              "      box-shadow: 0px 1px 2px rgba(60, 64, 67, 0.3), 0px 1px 3px 1px rgba(60, 64, 67, 0.15);\n",
              "      fill: #174EA6;\n",
              "    }\n",
              "\n",
              "    [theme=dark] .colab-df-convert {\n",
              "      background-color: #3B4455;\n",
              "      fill: #D2E3FC;\n",
              "    }\n",
              "\n",
              "    [theme=dark] .colab-df-convert:hover {\n",
              "      background-color: #434B5C;\n",
              "      box-shadow: 0px 1px 3px 1px rgba(0, 0, 0, 0.15);\n",
              "      filter: drop-shadow(0px 1px 2px rgba(0, 0, 0, 0.3));\n",
              "      fill: #FFFFFF;\n",
              "    }\n",
              "  </style>\n",
              "\n",
              "      <script>\n",
              "        const buttonEl =\n",
              "          document.querySelector('#df-16159535-9cc8-4ed6-b143-a7915bc248ec button.colab-df-convert');\n",
              "        buttonEl.style.display =\n",
              "          google.colab.kernel.accessAllowed ? 'block' : 'none';\n",
              "\n",
              "        async function convertToInteractive(key) {\n",
              "          const element = document.querySelector('#df-16159535-9cc8-4ed6-b143-a7915bc248ec');\n",
              "          const dataTable =\n",
              "            await google.colab.kernel.invokeFunction('convertToInteractive',\n",
              "                                                     [key], {});\n",
              "          if (!dataTable) return;\n",
              "\n",
              "          const docLinkHtml = 'Like what you see? Visit the ' +\n",
              "            '<a target=\"_blank\" href=https://colab.research.google.com/notebooks/data_table.ipynb>data table notebook</a>'\n",
              "            + ' to learn more about interactive tables.';\n",
              "          element.innerHTML = '';\n",
              "          dataTable['output_type'] = 'display_data';\n",
              "          await google.colab.output.renderOutput(dataTable, element);\n",
              "          const docLink = document.createElement('div');\n",
              "          docLink.innerHTML = docLinkHtml;\n",
              "          element.appendChild(docLink);\n",
              "        }\n",
              "      </script>\n",
              "    </div>\n",
              "  </div>\n",
              "  "
            ]
          },
          "metadata": {},
          "execution_count": 8
        }
      ]
    },
    {
      "cell_type": "code",
      "source": [
        "dataset.info()"
      ],
      "metadata": {
        "colab": {
          "base_uri": "https://localhost:8080/"
        },
        "id": "TFEg61guF-DF",
        "outputId": "bf4c9e9c-2642-4b01-b4b0-2ae94e84b64a"
      },
      "execution_count": 9,
      "outputs": [
        {
          "output_type": "stream",
          "name": "stdout",
          "text": [
            "<class 'pandas.core.frame.DataFrame'>\n",
            "RangeIndex: 1000 entries, 0 to 999\n",
            "Data columns (total 20 columns):\n",
            " #   Column                 Non-Null Count  Dtype \n",
            "---  ------                 --------------  ----- \n",
            " 0   CHEQUEESPECIAL         1000 non-null   object\n",
            " 1   USO_CREDITO            1000 non-null   int64 \n",
            " 2   HISTORICO_CREDITO      1000 non-null   object\n",
            " 3   PROPOSITO              1000 non-null   object\n",
            " 4   BALANCO_ATUAL          1000 non-null   int64 \n",
            " 5   BALANCO_MEDIO_CREDITO  1000 non-null   object\n",
            " 6   EMPREGADO              1000 non-null   object\n",
            " 7   LOCAL                  1000 non-null   int64 \n",
            " 8   ESTADOCIVIL            1000 non-null   object\n",
            " 9   OUTRASFUNCOES          1000 non-null   object\n",
            " 10  RESIDENCIADESDE        1000 non-null   int64 \n",
            " 11  TIPOSBENS              1000 non-null   object\n",
            " 12  IDADE                  1000 non-null   int64 \n",
            " 13  OUTROSPLANOSPGTO       1000 non-null   object\n",
            " 14  RESIDENCIA             1000 non-null   object\n",
            " 15  CREDITOSEXISTENTES     1000 non-null   int64 \n",
            " 16  EMPREGO                1000 non-null   object\n",
            " 17  DEPENDENTES            1000 non-null   int64 \n",
            " 18  TRABAESTRANGEIRO       1000 non-null   object\n",
            " 19  CLASSE                 1000 non-null   object\n",
            "dtypes: int64(7), object(13)\n",
            "memory usage: 156.4+ KB\n"
          ]
        }
      ]
    },
    {
      "cell_type": "code",
      "source": [
        "dataset.describe()"
      ],
      "metadata": {
        "colab": {
          "base_uri": "https://localhost:8080/",
          "height": 300
        },
        "id": "o-V0Mja4Fbaa",
        "outputId": "4e9be1a4-ad22-45f1-b244-5921c1493a65"
      },
      "execution_count": 10,
      "outputs": [
        {
          "output_type": "execute_result",
          "data": {
            "text/plain": [
              "       USO_CREDITO  BALANCO_ATUAL        LOCAL  RESIDENCIADESDE        IDADE  \\\n",
              "count  1000.000000    1000.000000  1000.000000      1000.000000  1000.000000   \n",
              "mean     20.903000    3271.258000     2.973000         2.845000    35.546000   \n",
              "std      12.058814    2822.736876     1.118715         1.103718    11.375469   \n",
              "min       4.000000     250.000000     1.000000         1.000000    19.000000   \n",
              "25%      12.000000    1365.500000     2.000000         2.000000    27.000000   \n",
              "50%      18.000000    2319.500000     3.000000         3.000000    33.000000   \n",
              "75%      24.000000    3972.250000     4.000000         4.000000    42.000000   \n",
              "max      72.000000   18424.000000     4.000000         4.000000    75.000000   \n",
              "\n",
              "       CREDITOSEXISTENTES  DEPENDENTES  \n",
              "count         1000.000000  1000.000000  \n",
              "mean             1.407000     1.155000  \n",
              "std              0.577654     0.362086  \n",
              "min              1.000000     1.000000  \n",
              "25%              1.000000     1.000000  \n",
              "50%              1.000000     1.000000  \n",
              "75%              2.000000     1.000000  \n",
              "max              4.000000     2.000000  "
            ],
            "text/html": [
              "\n",
              "  <div id=\"df-aacf2505-e99c-477d-88b6-5ae7795f568a\">\n",
              "    <div class=\"colab-df-container\">\n",
              "      <div>\n",
              "<style scoped>\n",
              "    .dataframe tbody tr th:only-of-type {\n",
              "        vertical-align: middle;\n",
              "    }\n",
              "\n",
              "    .dataframe tbody tr th {\n",
              "        vertical-align: top;\n",
              "    }\n",
              "\n",
              "    .dataframe thead th {\n",
              "        text-align: right;\n",
              "    }\n",
              "</style>\n",
              "<table border=\"1\" class=\"dataframe\">\n",
              "  <thead>\n",
              "    <tr style=\"text-align: right;\">\n",
              "      <th></th>\n",
              "      <th>USO_CREDITO</th>\n",
              "      <th>BALANCO_ATUAL</th>\n",
              "      <th>LOCAL</th>\n",
              "      <th>RESIDENCIADESDE</th>\n",
              "      <th>IDADE</th>\n",
              "      <th>CREDITOSEXISTENTES</th>\n",
              "      <th>DEPENDENTES</th>\n",
              "    </tr>\n",
              "  </thead>\n",
              "  <tbody>\n",
              "    <tr>\n",
              "      <th>count</th>\n",
              "      <td>1000.000000</td>\n",
              "      <td>1000.000000</td>\n",
              "      <td>1000.000000</td>\n",
              "      <td>1000.000000</td>\n",
              "      <td>1000.000000</td>\n",
              "      <td>1000.000000</td>\n",
              "      <td>1000.000000</td>\n",
              "    </tr>\n",
              "    <tr>\n",
              "      <th>mean</th>\n",
              "      <td>20.903000</td>\n",
              "      <td>3271.258000</td>\n",
              "      <td>2.973000</td>\n",
              "      <td>2.845000</td>\n",
              "      <td>35.546000</td>\n",
              "      <td>1.407000</td>\n",
              "      <td>1.155000</td>\n",
              "    </tr>\n",
              "    <tr>\n",
              "      <th>std</th>\n",
              "      <td>12.058814</td>\n",
              "      <td>2822.736876</td>\n",
              "      <td>1.118715</td>\n",
              "      <td>1.103718</td>\n",
              "      <td>11.375469</td>\n",
              "      <td>0.577654</td>\n",
              "      <td>0.362086</td>\n",
              "    </tr>\n",
              "    <tr>\n",
              "      <th>min</th>\n",
              "      <td>4.000000</td>\n",
              "      <td>250.000000</td>\n",
              "      <td>1.000000</td>\n",
              "      <td>1.000000</td>\n",
              "      <td>19.000000</td>\n",
              "      <td>1.000000</td>\n",
              "      <td>1.000000</td>\n",
              "    </tr>\n",
              "    <tr>\n",
              "      <th>25%</th>\n",
              "      <td>12.000000</td>\n",
              "      <td>1365.500000</td>\n",
              "      <td>2.000000</td>\n",
              "      <td>2.000000</td>\n",
              "      <td>27.000000</td>\n",
              "      <td>1.000000</td>\n",
              "      <td>1.000000</td>\n",
              "    </tr>\n",
              "    <tr>\n",
              "      <th>50%</th>\n",
              "      <td>18.000000</td>\n",
              "      <td>2319.500000</td>\n",
              "      <td>3.000000</td>\n",
              "      <td>3.000000</td>\n",
              "      <td>33.000000</td>\n",
              "      <td>1.000000</td>\n",
              "      <td>1.000000</td>\n",
              "    </tr>\n",
              "    <tr>\n",
              "      <th>75%</th>\n",
              "      <td>24.000000</td>\n",
              "      <td>3972.250000</td>\n",
              "      <td>4.000000</td>\n",
              "      <td>4.000000</td>\n",
              "      <td>42.000000</td>\n",
              "      <td>2.000000</td>\n",
              "      <td>1.000000</td>\n",
              "    </tr>\n",
              "    <tr>\n",
              "      <th>max</th>\n",
              "      <td>72.000000</td>\n",
              "      <td>18424.000000</td>\n",
              "      <td>4.000000</td>\n",
              "      <td>4.000000</td>\n",
              "      <td>75.000000</td>\n",
              "      <td>4.000000</td>\n",
              "      <td>2.000000</td>\n",
              "    </tr>\n",
              "  </tbody>\n",
              "</table>\n",
              "</div>\n",
              "      <button class=\"colab-df-convert\" onclick=\"convertToInteractive('df-aacf2505-e99c-477d-88b6-5ae7795f568a')\"\n",
              "              title=\"Convert this dataframe to an interactive table.\"\n",
              "              style=\"display:none;\">\n",
              "        \n",
              "  <svg xmlns=\"http://www.w3.org/2000/svg\" height=\"24px\"viewBox=\"0 0 24 24\"\n",
              "       width=\"24px\">\n",
              "    <path d=\"M0 0h24v24H0V0z\" fill=\"none\"/>\n",
              "    <path d=\"M18.56 5.44l.94 2.06.94-2.06 2.06-.94-2.06-.94-.94-2.06-.94 2.06-2.06.94zm-11 1L8.5 8.5l.94-2.06 2.06-.94-2.06-.94L8.5 2.5l-.94 2.06-2.06.94zm10 10l.94 2.06.94-2.06 2.06-.94-2.06-.94-.94-2.06-.94 2.06-2.06.94z\"/><path d=\"M17.41 7.96l-1.37-1.37c-.4-.4-.92-.59-1.43-.59-.52 0-1.04.2-1.43.59L10.3 9.45l-7.72 7.72c-.78.78-.78 2.05 0 2.83L4 21.41c.39.39.9.59 1.41.59.51 0 1.02-.2 1.41-.59l7.78-7.78 2.81-2.81c.8-.78.8-2.07 0-2.86zM5.41 20L4 18.59l7.72-7.72 1.47 1.35L5.41 20z\"/>\n",
              "  </svg>\n",
              "      </button>\n",
              "      \n",
              "  <style>\n",
              "    .colab-df-container {\n",
              "      display:flex;\n",
              "      flex-wrap:wrap;\n",
              "      gap: 12px;\n",
              "    }\n",
              "\n",
              "    .colab-df-convert {\n",
              "      background-color: #E8F0FE;\n",
              "      border: none;\n",
              "      border-radius: 50%;\n",
              "      cursor: pointer;\n",
              "      display: none;\n",
              "      fill: #1967D2;\n",
              "      height: 32px;\n",
              "      padding: 0 0 0 0;\n",
              "      width: 32px;\n",
              "    }\n",
              "\n",
              "    .colab-df-convert:hover {\n",
              "      background-color: #E2EBFA;\n",
              "      box-shadow: 0px 1px 2px rgba(60, 64, 67, 0.3), 0px 1px 3px 1px rgba(60, 64, 67, 0.15);\n",
              "      fill: #174EA6;\n",
              "    }\n",
              "\n",
              "    [theme=dark] .colab-df-convert {\n",
              "      background-color: #3B4455;\n",
              "      fill: #D2E3FC;\n",
              "    }\n",
              "\n",
              "    [theme=dark] .colab-df-convert:hover {\n",
              "      background-color: #434B5C;\n",
              "      box-shadow: 0px 1px 3px 1px rgba(0, 0, 0, 0.15);\n",
              "      filter: drop-shadow(0px 1px 2px rgba(0, 0, 0, 0.3));\n",
              "      fill: #FFFFFF;\n",
              "    }\n",
              "  </style>\n",
              "\n",
              "      <script>\n",
              "        const buttonEl =\n",
              "          document.querySelector('#df-aacf2505-e99c-477d-88b6-5ae7795f568a button.colab-df-convert');\n",
              "        buttonEl.style.display =\n",
              "          google.colab.kernel.accessAllowed ? 'block' : 'none';\n",
              "\n",
              "        async function convertToInteractive(key) {\n",
              "          const element = document.querySelector('#df-aacf2505-e99c-477d-88b6-5ae7795f568a');\n",
              "          const dataTable =\n",
              "            await google.colab.kernel.invokeFunction('convertToInteractive',\n",
              "                                                     [key], {});\n",
              "          if (!dataTable) return;\n",
              "\n",
              "          const docLinkHtml = 'Like what you see? Visit the ' +\n",
              "            '<a target=\"_blank\" href=https://colab.research.google.com/notebooks/data_table.ipynb>data table notebook</a>'\n",
              "            + ' to learn more about interactive tables.';\n",
              "          element.innerHTML = '';\n",
              "          dataTable['output_type'] = 'display_data';\n",
              "          await google.colab.output.renderOutput(dataTable, element);\n",
              "          const docLink = document.createElement('div');\n",
              "          docLink.innerHTML = docLinkHtml;\n",
              "          element.appendChild(docLink);\n",
              "        }\n",
              "      </script>\n",
              "    </div>\n",
              "  </div>\n",
              "  "
            ]
          },
          "metadata": {},
          "execution_count": 10
        }
      ]
    },
    {
      "cell_type": "markdown",
      "source": [
        "## Análise Univariada"
      ],
      "metadata": {
        "id": "Gh5d3sZMFP7y"
      }
    },
    {
      "cell_type": "markdown",
      "source": [
        "### **Como está a distribuição de clientes com classe boa e ruim?**"
      ],
      "metadata": {
        "id": "LKEYmEdqHISe"
      }
    },
    {
      "cell_type": "code",
      "source": [
        "plt.figure(figsize=(10,5))\n",
        "plt.ylabel(\"Total (em %)\")\n",
        "plt.yticks(np.arange(0, 100, step=10))\n",
        "plt.title(\"Distribuição de clientes com classe boa e ruim\")\n",
        "\n",
        "(dataset.CLASSE.value_counts(normalize=True, sort=False)*100) \\\n",
        "  .plot.bar(color=sns.color_palette('muted'))\n",
        "\n",
        "plt.xticks(rotation=\"horizontal\")\n",
        "\n",
        "plt.show()"
      ],
      "metadata": {
        "colab": {
          "base_uri": "https://localhost:8080/",
          "height": 336
        },
        "id": "-cfLeV5xFWWP",
        "outputId": "19aa1f78-b714-4d8b-98a9-37c06a254141"
      },
      "execution_count": 11,
      "outputs": [
        {
          "output_type": "display_data",
          "data": {
            "text/plain": [
              "<Figure size 720x360 with 1 Axes>"
            ],
            "image/png": "[encoded data removed]"
          },
          "metadata": {
            "needs_background": "light"
          }
        }
      ]
    },
    {
      "cell_type": "markdown",
      "source": [
        "Podemos identificar que que as classes estão bem desbalanceadas, onde 70% dos clientes não são inadimplementes, o que já era de se esperar 😊"
      ],
      "metadata": {
        "id": "CxITYmSyJUmn"
      }
    },
    {
      "cell_type": "markdown",
      "source": [
        "### **Como está a distribuição do histórico de crédito?**"
      ],
      "metadata": {
        "id": "F9EoAgiiKsXy"
      }
    },
    {
      "cell_type": "code",
      "source": [
        "plt.figure(figsize=(10,5))\n",
        "plt.ylabel(\"Total (em %)\")\n",
        "plt.yticks(np.arange(0, 100, step=10))\n",
        "plt.title(\"Distribuição do histórico de crédito\")\n",
        "\n",
        "(dataset.HISTORICO_CREDITO.value_counts(normalize=True, sort=False)*100) \\\n",
        "  .plot.bar(color=sns.color_palette('muted'))\n",
        "\n",
        "plt.xticks(rotation=45)\n",
        "\n",
        "plt.show()"
      ],
      "metadata": {
        "colab": {
          "base_uri": "https://localhost:8080/",
          "height": 456
        },
        "id": "KvGdDYIXKr6P",
        "outputId": "69ccd601-12f8-4da1-cef9-97ac3e8e8022"
      },
      "execution_count": 12,
      "outputs": [
        {
          "output_type": "display_data",
          "data": {
            "text/plain": [
              "<Figure size 720x360 with 1 Axes>"
            ],
            "image/png": "[encoded data removed]"
          },
          "metadata": {
            "needs_background": "light"
          }
        }
      ]
    },
    {
      "cell_type": "markdown",
      "source": [
        "### **Quantos clientes estão no cheque especial?**"
      ],
      "metadata": {
        "id": "dNelvd6bLezQ"
      }
    },
    {
      "cell_type": "code",
      "source": [
        "plt.figure(figsize=(10,5))\n",
        "plt.ylabel(\"Total (em %)\")\n",
        "plt.yticks(np.arange(0, 100, step=10))\n",
        "plt.title(\"Distribuição de clientes que utilizam cheque especial\")\n",
        "\n",
        "(dataset.CHEQUEESPECIAL.value_counts(normalize=True, sort=False)*100) \\\n",
        "  .plot.bar(color=sns.color_palette('muted'))\n",
        "\n",
        "plt.xticks(rotation=\"horizontal\")\n",
        "\n",
        "plt.show()"
      ],
      "metadata": {
        "colab": {
          "base_uri": "https://localhost:8080/",
          "height": 336
        },
        "id": "fISy1RzDLgpV",
        "outputId": "f3ce55cc-eaa2-4d0e-8b11-8f95314ba4bb"
      },
      "execution_count": 13,
      "outputs": [
        {
          "output_type": "display_data",
          "data": {
            "text/plain": [
              "<Figure size 720x360 with 1 Axes>"
            ],
            "image/png": "[encoded data removed]"
          },
          "metadata": {
            "needs_background": "light"
          }
        }
      ]
    },
    {
      "cell_type": "markdown",
      "source": [
        "### **Distribuição de clientes que trabalham em empresas estrangeiras**"
      ],
      "metadata": {
        "id": "MGp7fgI6McCr"
      }
    },
    {
      "cell_type": "code",
      "source": [
        "plt.figure(figsize=(10,5))\n",
        "plt.ylabel(\"Total (em %)\")\n",
        "plt.yticks(np.arange(0, 100, step=10))\n",
        "plt.title(\"Distribuição de clientes que trabalham em empresas estrangeiras\")\n",
        "\n",
        "(dataset.TRABAESTRANGEIRO.value_counts(normalize=True, sort=False)*100) \\\n",
        "  .plot.bar(color=sns.color_palette('muted'))\n",
        "\n",
        "plt.xticks(rotation=\"horizontal\")\n",
        "\n",
        "plt.show()"
      ],
      "metadata": {
        "colab": {
          "base_uri": "https://localhost:8080/",
          "height": 336
        },
        "id": "fnDyeusNMfOr",
        "outputId": "1a443e4f-b230-46a0-d409-da5444b99e6d"
      },
      "execution_count": 14,
      "outputs": [
        {
          "output_type": "display_data",
          "data": {
            "text/plain": [
              "<Figure size 720x360 with 1 Axes>"
            ],
            "image/png": "[encoded data removed]"
          },
          "metadata": {
            "needs_background": "light"
          }
        }
      ]
    },
    {
      "cell_type": "markdown",
      "source": [
        "## Análise Bivariada"
      ],
      "metadata": {
        "id": "I-zwIaQRFTJf"
      }
    },
    {
      "cell_type": "markdown",
      "source": [
        "### Número de créditos existentes pela idade"
      ],
      "metadata": {
        "id": "Js6ZB1WqPvFp"
      }
    },
    {
      "cell_type": "code",
      "source": [
        "sns.catplot(y=\"IDADE\", x=\"CREDITOSEXISTENTES\", data=dataset, height=6, aspect=2.2)\n",
        "\n",
        "plt.title(\"CREDITOSEXISTENTES x USO_CREDITO\")\n",
        "plt.xlabel(\"USO_CREDITO\")\n",
        "plt.ylabel(\"CREDITOSEXISTENTES\")\n",
        "\n",
        "plt.show()"
      ],
      "metadata": {
        "colab": {
          "base_uri": "https://localhost:8080/",
          "height": 458
        },
        "id": "hO4UXejZPTmN",
        "outputId": "f6e171ae-c124-4873-842c-3ee977ab47ba"
      },
      "execution_count": 15,
      "outputs": [
        {
          "output_type": "display_data",
          "data": {
            "text/plain": [
              "<Figure size 950.4x432 with 1 Axes>"
            ],
            "image/png": "[encoded data removed]"
          },
          "metadata": {
            "needs_background": "light"
          }
        }
      ]
    },
    {
      "cell_type": "markdown",
      "source": [
        "### Número de dependentes pela idade"
      ],
      "metadata": {
        "id": "Xz8jh_ZJRfq1"
      }
    },
    {
      "cell_type": "code",
      "source": [
        "fig, ax = plt.subplots(figsize=(14, 8))\n",
        "\n",
        "sns.boxplot(x='DEPENDENTES', y='IDADE', data=dataset)\n",
        "\n",
        "plt.title('Número de Dependentes X Idade', fontsize=16)\n",
        "ax.set_xticklabels([1, 2])\n",
        "ax.set_xlabel('Número de dependentes')\n",
        "ax.set_ylabel('Idade')\n",
        "ax.set_yticks(np.arange(20, 80, 10))\n",
        "\n",
        "plt.show()"
      ],
      "metadata": {
        "colab": {
          "base_uri": "https://localhost:8080/",
          "height": 516
        },
        "id": "tNH3jtLNRfce",
        "outputId": "5d609586-0f6a-4022-c680-54a3baf94cdf"
      },
      "execution_count": 16,
      "outputs": [
        {
          "output_type": "display_data",
          "data": {
            "text/plain": [
              "<Figure size 1008x576 with 1 Axes>"
            ],
            "image/png": "[encoded data removed]"
          },
          "metadata": {
            "needs_background": "light"
          }
        }
      ]
    },
    {
      "cell_type": "markdown",
      "source": [
        "## Análise Multivariada"
      ],
      "metadata": {
        "id": "AVLtX7hAQ__O"
      }
    },
    {
      "cell_type": "markdown",
      "source": [
        "### Matriz de correlação entre todas as variáveis"
      ],
      "metadata": {
        "id": "CxRLKihRO4oG"
      }
    },
    {
      "cell_type": "code",
      "source": [
        "plt.figure(figsize=(10,9))\n",
        "plt.title(\"Matriz de correlação entre todas as variáveis\")\n",
        "\n",
        "matriz_correlacao = dataset.corr()\n",
        "mask = np.triu(np.ones_like(matriz_correlacao, dtype=bool))\n",
        "\n",
        "sns.heatmap(matriz_correlacao, cmap = sns.diverging_palette(240, 10, n=11), vmin=-1, annot=True, vmax=1, mask=mask)\n",
        "\n",
        "plt.show()"
      ],
      "metadata": {
        "colab": {
          "base_uri": "https://localhost:8080/",
          "height": 654
        },
        "id": "Nj230n5MFN9C",
        "outputId": "f031ac08-c44a-41fc-c32e-baca4734b116"
      },
      "execution_count": 17,
      "outputs": [
        {
          "output_type": "display_data",
          "data": {
            "text/plain": [
              "<Figure size 720x648 with 2 Axes>"
            ],
            "image/png": "[encoded data removed]"
          },
          "metadata": {
            "needs_background": "light"
          }
        }
      ]
    },
    {
      "cell_type": "markdown",
      "source": [
        "**TBD**"
      ],
      "metadata": {
        "id": "bkS1RGhlO0lv"
      }
    },
    {
      "cell_type": "markdown",
      "source": [
        "**TBD**"
      ],
      "metadata": {
        "id": "F1CpgOd7SVYj"
      }
    },
    {
      "cell_type": "markdown",
      "source": [
        "# Pré-Processamento"
      ],
      "metadata": {
        "id": "gW4tNx68Sb83"
      }
    },
    {
      "cell_type": "markdown",
      "source": [
        "## Normalizando Dataset"
      ],
      "metadata": {
        "id": "2zwzPhEskaLG"
      }
    },
    {
      "cell_type": "code",
      "source": [
        "def normalize(dataset):\n",
        "  dataset[\"CHEQUEESPECIAL\"] = dataset[\"CHEQUEESPECIAL\"].replace(\"sem cheque\", 1)\n",
        "  dataset[\"CHEQUEESPECIAL\"] = dataset[\"CHEQUEESPECIAL\"].replace(\"<0\", 2)\n",
        "  dataset[\"CHEQUEESPECIAL\"] = dataset[\"CHEQUEESPECIAL\"].replace(\"0<=X<200\", 3)\n",
        "  dataset[\"CHEQUEESPECIAL\"] = dataset[\"CHEQUEESPECIAL\"].replace(\">=200\", 4)\n",
        "\n",
        "  dataset[\"HISTORICO_CREDITO\"] = dataset[\"HISTORICO_CREDITO\"].replace(\"todos pagos\", 5)\n",
        "  dataset[\"HISTORICO_CREDITO\"] = dataset[\"HISTORICO_CREDITO\"].replace(\"sem créditos/todos pagos\", 4)\n",
        "  dataset[\"HISTORICO_CREDITO\"] = dataset[\"HISTORICO_CREDITO\"].replace(\"existente e pago\", 3)\n",
        "  dataset[\"HISTORICO_CREDITO\"] = dataset[\"HISTORICO_CREDITO\"].replace(\"crítica / outros de crédito existente\", 2)\n",
        "  dataset[\"HISTORICO_CREDITO\"] = dataset[\"HISTORICO_CREDITO\"].replace(\"atrasos anteriores\", 1)\n",
        "\n",
        "  dataset[\"BALANCO_MEDIO_CREDITO\"] = dataset[\"BALANCO_MEDIO_CREDITO\"].replace(\">=1000\", 5)\n",
        "  dataset[\"BALANCO_MEDIO_CREDITO\"] = dataset[\"BALANCO_MEDIO_CREDITO\"].replace(\"500<=X<1000\", 4)\n",
        "  dataset[\"BALANCO_MEDIO_CREDITO\"] = dataset[\"BALANCO_MEDIO_CREDITO\"].replace(\"100<=X<500\", 3)\n",
        "  dataset[\"BALANCO_MEDIO_CREDITO\"] = dataset[\"BALANCO_MEDIO_CREDITO\"].replace(\"<100\", 2)\n",
        "  dataset[\"BALANCO_MEDIO_CREDITO\"] = dataset[\"BALANCO_MEDIO_CREDITO\"].replace(\"nenhuma economia conhecida\", 1)\n",
        "\n",
        "  dataset[\"EMPREGADO\"] = dataset[\"EMPREGADO\"].replace(\">=7\", 1)\n",
        "  dataset[\"EMPREGADO\"] = dataset[\"EMPREGADO\"].replace(\"4<=X<7\", 2)\n",
        "  dataset[\"EMPREGADO\"] = dataset[\"EMPREGADO\"].replace(\"1<=X<4\", 3)\n",
        "  dataset[\"EMPREGADO\"] = dataset[\"EMPREGADO\"].replace(\"<1\", 4)\n",
        "  dataset[\"EMPREGADO\"] = dataset[\"EMPREGADO\"].replace(\"desempregado\", 5)  \n",
        "\n",
        "  dataset[[\"SEXO\", \"ESTADO_CIVIL\"]] = dataset[\"ESTADOCIVIL\"].str.split(\" \", 1, expand=True)\n",
        "\n",
        "  dataset[\"OUTRASFUNCOES\"] = dataset[\"OUTRASFUNCOES\"].replace(\"nenhum\", 0)\n",
        "  dataset[\"OUTRASFUNCOES\"] = dataset[\"OUTRASFUNCOES\"].replace(\"fiador\", 1)\n",
        "  dataset[\"OUTRASFUNCOES\"] = dataset[\"OUTRASFUNCOES\"].replace(\"co requerente\", 2)\n",
        "\n",
        "  dataset[\"TIPOSBENS\"] = dataset[\"TIPOSBENS\"].replace(\"carro\", 0)\n",
        "  dataset[\"TIPOSBENS\"] = dataset[\"TIPOSBENS\"].replace(\"bens imóveis\", 1)\n",
        "  dataset[\"TIPOSBENS\"] = dataset[\"TIPOSBENS\"].replace(\"seguro de vida\", 2)\n",
        "  dataset[\"TIPOSBENS\"] = dataset[\"TIPOSBENS\"].replace(\"nenhuma conhecida\", 3)\n",
        "\n",
        "  dataset[\"OUTROSPLANOSPGTO\"] = dataset[\"OUTROSPLANOSPGTO\"].replace(\"nenhum\", 0)\n",
        "  dataset[\"OUTROSPLANOSPGTO\"] = dataset[\"OUTROSPLANOSPGTO\"].replace(\"banco\", 1)\n",
        "  dataset[\"OUTROSPLANOSPGTO\"] = dataset[\"OUTROSPLANOSPGTO\"].replace(\"stores\", 2)\n",
        "\n",
        "  dataset[\"RESIDENCIA\"] = dataset[\"RESIDENCIA\"].replace(\"própria\", 0)\n",
        "  dataset[\"RESIDENCIA\"] = dataset[\"RESIDENCIA\"].replace(\"alugada\", 1)\n",
        "  dataset[\"RESIDENCIA\"] = dataset[\"RESIDENCIA\"].replace(\"gratuitamente\", 2) \n",
        "\n",
        "  dataset[\"EMPREGO\"] = dataset[\"EMPREGO\"].replace(\"especializado\", 0)\n",
        "  dataset[\"EMPREGO\"] = dataset[\"EMPREGO\"].replace(\"alta qualificação/autonomo/Gerente\", 1)\n",
        "  dataset[\"EMPREGO\"] = dataset[\"EMPREGO\"].replace(\"não especializado\", 2)\n",
        "  dataset[\"EMPREGO\"] = dataset[\"EMPREGO\"].replace(\"unemp/unespecializado non res\", 3)  \n",
        "\n",
        "  dataset[\"CLASSE\"] = dataset[\"CLASSE\"].replace(\"bom\", 0)\n",
        "  dataset[\"CLASSE\"] = dataset[\"CLASSE\"].replace(\"ruim\", 1)\n",
        "\n",
        "  dataset[\"TRABAESTRANGEIRO\"] = dataset[\"TRABAESTRANGEIRO\"].replace(\"não\", 0)\n",
        "  dataset[\"TRABAESTRANGEIRO\"] = dataset[\"TRABAESTRANGEIRO\"].replace(\"sim\", 1)\n",
        "\n",
        "  dataset = dataset.drop(columns=[\"ESTADOCIVIL\", \"PROPOSITO\", \"SEXO\", \"ESTADO_CIVIL\", \"LOCAL\", \n",
        "                                  \"OUTRASFUNCOES\", \"RESIDENCIADESDE\"])\n",
        "  return dataset"
      ],
      "metadata": {
        "id": "RoXOPjhQtfY_"
      },
      "execution_count": 18,
      "outputs": []
    },
    {
      "cell_type": "code",
      "source": [
        "dataset = normalize(dataset=dataset)\n",
        "test = normalize(dataset=test)"
      ],
      "metadata": {
        "id": "j-NT69WWlOzC"
      },
      "execution_count": 19,
      "outputs": []
    },
    {
      "cell_type": "markdown",
      "source": [
        "## Splitando conjunto de dados em treino e teste\n",
        "\n",
        "*   80% do ***dataset*** para treino\n",
        "*   20% do ***dataset*** para teste\n",
        "\n"
      ],
      "metadata": {
        "id": "2jTgrUGAlW4n"
      }
    },
    {
      "cell_type": "code",
      "source": [
        "X_treino, X_teste, y_treino, y_teste = train_test_split(dataset.drop(columns=\"CLASSE\"),\n",
        "                                                    dataset.CLASSE,\n",
        "                                                    test_size=0.2,\n",
        "                                                    random_state=42,\n",
        "                                                    stratify=dataset.CLASSE)"
      ],
      "metadata": {
        "id": "TNMUwXxtWBkb"
      },
      "execution_count": 20,
      "outputs": []
    },
    {
      "cell_type": "markdown",
      "source": [
        "### Dimensionamento das features"
      ],
      "metadata": {
        "id": "v_hL5Hc3YJRP"
      }
    },
    {
      "cell_type": "code",
      "source": [
        "print(f'Dimensão do conjunto de treino: {X_treino.shape}')\n",
        "print(f'Dimensão do conjunto de validação: {X_teste.shape}')\n",
        "\n",
        "print(f'Proporção da variável target no Treino: {y_treino.value_counts(normalize=True).tolist()}')\n",
        "print(f'Proporção da variável target na Validação: {y_teste.value_counts(normalize=True).tolist()}')"
      ],
      "metadata": {
        "colab": {
          "base_uri": "https://localhost:8080/"
        },
        "id": "WKvsg63CYI1G",
        "outputId": "181f3e63-41bc-4d64-c57c-ccea31e7c050"
      },
      "execution_count": 21,
      "outputs": [
        {
          "output_type": "stream",
          "name": "stdout",
          "text": [
            "Dimensão do conjunto de treino: (800, 14)\n",
            "Dimensão do conjunto de validação: (200, 14)\n",
            "Proporção da variável target no Treino: [0.7, 0.3]\n",
            "Proporção da variável target na Validação: [0.7, 0.3]\n"
          ]
        }
      ]
    },
    {
      "cell_type": "markdown",
      "source": [
        "## Entendendo features presentes no dataset"
      ],
      "metadata": {
        "id": "V9J1-A0Kk1Df"
      }
    },
    {
      "cell_type": "code",
      "source": [
        "features = list(dataset.drop(columns='CLASSE').columns)\n",
        "print(f\"Quantidade de features: {len(features)}\")\n",
        "print(f\"Features: {features}\")"
      ],
      "metadata": {
        "colab": {
          "base_uri": "https://localhost:8080/"
        },
        "id": "LecKc_8gScxz",
        "outputId": "b2386465-5951-4946-ecd3-fb5e59f2d885"
      },
      "execution_count": 22,
      "outputs": [
        {
          "output_type": "stream",
          "name": "stdout",
          "text": [
            "Quantidade de features: 14\n",
            "Features: ['CHEQUEESPECIAL', 'USO_CREDITO', 'HISTORICO_CREDITO', 'BALANCO_ATUAL', 'BALANCO_MEDIO_CREDITO', 'EMPREGADO', 'TIPOSBENS', 'IDADE', 'OUTROSPLANOSPGTO', 'RESIDENCIA', 'CREDITOSEXISTENTES', 'EMPREGO', 'DEPENDENTES', 'TRABAESTRANGEIRO']\n"
          ]
        }
      ]
    },
    {
      "cell_type": "markdown",
      "source": [
        "## Detecção de valores faltantes"
      ],
      "metadata": {
        "id": "CqTgcB8aTvqX"
      }
    },
    {
      "cell_type": "code",
      "source": [
        "pd.DataFrame(data={\"Treino(%)\": round(X_treino.isna().mean() * 100, 2),\n",
        "                   \"Teste(%)\": round(y_treino.isna().mean() * 100, 2)})"
      ],
      "metadata": {
        "colab": {
          "base_uri": "https://localhost:8080/",
          "height": 488
        },
        "id": "ZwgiaVFHTrjj",
        "outputId": "f1dd6e2c-27d9-4b22-df0b-8ccb5cf3d1f9"
      },
      "execution_count": 23,
      "outputs": [
        {
          "output_type": "execute_result",
          "data": {
            "text/plain": [
              "                       Treino(%)  Teste(%)\n",
              "CHEQUEESPECIAL               0.0       0.0\n",
              "USO_CREDITO                  0.0       0.0\n",
              "HISTORICO_CREDITO            0.0       0.0\n",
              "BALANCO_ATUAL                0.0       0.0\n",
              "BALANCO_MEDIO_CREDITO        0.0       0.0\n",
              "EMPREGADO                    0.0       0.0\n",
              "TIPOSBENS                    0.0       0.0\n",
              "IDADE                        0.0       0.0\n",
              "OUTROSPLANOSPGTO             0.0       0.0\n",
              "RESIDENCIA                   0.0       0.0\n",
              "CREDITOSEXISTENTES           0.0       0.0\n",
              "EMPREGO                      0.0       0.0\n",
              "DEPENDENTES                  0.0       0.0\n",
              "TRABAESTRANGEIRO             0.0       0.0"
            ],
            "text/html": [
              "\n",
              "  <div id=\"df-45598907-ee8e-4555-bd4d-b24ac1d83ac2\">\n",
              "    <div class=\"colab-df-container\">\n",
              "      <div>\n",
              "<style scoped>\n",
              "    .dataframe tbody tr th:only-of-type {\n",
              "        vertical-align: middle;\n",
              "    }\n",
              "\n",
              "    .dataframe tbody tr th {\n",
              "        vertical-align: top;\n",
              "    }\n",
              "\n",
              "    .dataframe thead th {\n",
              "        text-align: right;\n",
              "    }\n",
              "</style>\n",
              "<table border=\"1\" class=\"dataframe\">\n",
              "  <thead>\n",
              "    <tr style=\"text-align: right;\">\n",
              "      <th></th>\n",
              "      <th>Treino(%)</th>\n",
              "      <th>Teste(%)</th>\n",
              "    </tr>\n",
              "  </thead>\n",
              "  <tbody>\n",
              "    <tr>\n",
              "      <th>CHEQUEESPECIAL</th>\n",
              "      <td>0.0</td>\n",
              "      <td>0.0</td>\n",
              "    </tr>\n",
              "    <tr>\n",
              "      <th>USO_CREDITO</th>\n",
              "      <td>0.0</td>\n",
              "      <td>0.0</td>\n",
              "    </tr>\n",
              "    <tr>\n",
              "      <th>HISTORICO_CREDITO</th>\n",
              "      <td>0.0</td>\n",
              "      <td>0.0</td>\n",
              "    </tr>\n",
              "    <tr>\n",
              "      <th>BALANCO_ATUAL</th>\n",
              "      <td>0.0</td>\n",
              "      <td>0.0</td>\n",
              "    </tr>\n",
              "    <tr>\n",
              "      <th>BALANCO_MEDIO_CREDITO</th>\n",
              "      <td>0.0</td>\n",
              "      <td>0.0</td>\n",
              "    </tr>\n",
              "    <tr>\n",
              "      <th>EMPREGADO</th>\n",
              "      <td>0.0</td>\n",
              "      <td>0.0</td>\n",
              "    </tr>\n",
              "    <tr>\n",
              "      <th>TIPOSBENS</th>\n",
              "      <td>0.0</td>\n",
              "      <td>0.0</td>\n",
              "    </tr>\n",
              "    <tr>\n",
              "      <th>IDADE</th>\n",
              "      <td>0.0</td>\n",
              "      <td>0.0</td>\n",
              "    </tr>\n",
              "    <tr>\n",
              "      <th>OUTROSPLANOSPGTO</th>\n",
              "      <td>0.0</td>\n",
              "      <td>0.0</td>\n",
              "    </tr>\n",
              "    <tr>\n",
              "      <th>RESIDENCIA</th>\n",
              "      <td>0.0</td>\n",
              "      <td>0.0</td>\n",
              "    </tr>\n",
              "    <tr>\n",
              "      <th>CREDITOSEXISTENTES</th>\n",
              "      <td>0.0</td>\n",
              "      <td>0.0</td>\n",
              "    </tr>\n",
              "    <tr>\n",
              "      <th>EMPREGO</th>\n",
              "      <td>0.0</td>\n",
              "      <td>0.0</td>\n",
              "    </tr>\n",
              "    <tr>\n",
              "      <th>DEPENDENTES</th>\n",
              "      <td>0.0</td>\n",
              "      <td>0.0</td>\n",
              "    </tr>\n",
              "    <tr>\n",
              "      <th>TRABAESTRANGEIRO</th>\n",
              "      <td>0.0</td>\n",
              "      <td>0.0</td>\n",
              "    </tr>\n",
              "  </tbody>\n",
              "</table>\n",
              "</div>\n",
              "      <button class=\"colab-df-convert\" onclick=\"convertToInteractive('df-45598907-ee8e-4555-bd4d-b24ac1d83ac2')\"\n",
              "              title=\"Convert this dataframe to an interactive table.\"\n",
              "              style=\"display:none;\">\n",
              "        \n",
              "  <svg xmlns=\"http://www.w3.org/2000/svg\" height=\"24px\"viewBox=\"0 0 24 24\"\n",
              "       width=\"24px\">\n",
              "    <path d=\"M0 0h24v24H0V0z\" fill=\"none\"/>\n",
              "    <path d=\"M18.56 5.44l.94 2.06.94-2.06 2.06-.94-2.06-.94-.94-2.06-.94 2.06-2.06.94zm-11 1L8.5 8.5l.94-2.06 2.06-.94-2.06-.94L8.5 2.5l-.94 2.06-2.06.94zm10 10l.94 2.06.94-2.06 2.06-.94-2.06-.94-.94-2.06-.94 2.06-2.06.94z\"/><path d=\"M17.41 7.96l-1.37-1.37c-.4-.4-.92-.59-1.43-.59-.52 0-1.04.2-1.43.59L10.3 9.45l-7.72 7.72c-.78.78-.78 2.05 0 2.83L4 21.41c.39.39.9.59 1.41.59.51 0 1.02-.2 1.41-.59l7.78-7.78 2.81-2.81c.8-.78.8-2.07 0-2.86zM5.41 20L4 18.59l7.72-7.72 1.47 1.35L5.41 20z\"/>\n",
              "  </svg>\n",
              "      </button>\n",
              "      \n",
              "  <style>\n",
              "    .colab-df-container {\n",
              "      display:flex;\n",
              "      flex-wrap:wrap;\n",
              "      gap: 12px;\n",
              "    }\n",
              "\n",
              "    .colab-df-convert {\n",
              "      background-color: #E8F0FE;\n",
              "      border: none;\n",
              "      border-radius: 50%;\n",
              "      cursor: pointer;\n",
              "      display: none;\n",
              "      fill: #1967D2;\n",
              "      height: 32px;\n",
              "      padding: 0 0 0 0;\n",
              "      width: 32px;\n",
              "    }\n",
              "\n",
              "    .colab-df-convert:hover {\n",
              "      background-color: #E2EBFA;\n",
              "      box-shadow: 0px 1px 2px rgba(60, 64, 67, 0.3), 0px 1px 3px 1px rgba(60, 64, 67, 0.15);\n",
              "      fill: #174EA6;\n",
              "    }\n",
              "\n",
              "    [theme=dark] .colab-df-convert {\n",
              "      background-color: #3B4455;\n",
              "      fill: #D2E3FC;\n",
              "    }\n",
              "\n",
              "    [theme=dark] .colab-df-convert:hover {\n",
              "      background-color: #434B5C;\n",
              "      box-shadow: 0px 1px 3px 1px rgba(0, 0, 0, 0.15);\n",
              "      filter: drop-shadow(0px 1px 2px rgba(0, 0, 0, 0.3));\n",
              "      fill: #FFFFFF;\n",
              "    }\n",
              "  </style>\n",
              "\n",
              "      <script>\n",
              "        const buttonEl =\n",
              "          document.querySelector('#df-45598907-ee8e-4555-bd4d-b24ac1d83ac2 button.colab-df-convert');\n",
              "        buttonEl.style.display =\n",
              "          google.colab.kernel.accessAllowed ? 'block' : 'none';\n",
              "\n",
              "        async function convertToInteractive(key) {\n",
              "          const element = document.querySelector('#df-45598907-ee8e-4555-bd4d-b24ac1d83ac2');\n",
              "          const dataTable =\n",
              "            await google.colab.kernel.invokeFunction('convertToInteractive',\n",
              "                                                     [key], {});\n",
              "          if (!dataTable) return;\n",
              "\n",
              "          const docLinkHtml = 'Like what you see? Visit the ' +\n",
              "            '<a target=\"_blank\" href=https://colab.research.google.com/notebooks/data_table.ipynb>data table notebook</a>'\n",
              "            + ' to learn more about interactive tables.';\n",
              "          element.innerHTML = '';\n",
              "          dataTable['output_type'] = 'display_data';\n",
              "          await google.colab.output.renderOutput(dataTable, element);\n",
              "          const docLink = document.createElement('div');\n",
              "          docLink.innerHTML = docLinkHtml;\n",
              "          element.appendChild(docLink);\n",
              "        }\n",
              "      </script>\n",
              "    </div>\n",
              "  </div>\n",
              "  "
            ]
          },
          "metadata": {},
          "execution_count": 23
        }
      ]
    },
    {
      "cell_type": "markdown",
      "source": [
        "TBD -> NÃO TEM DADOS FALTANTES :("
      ],
      "metadata": {
        "id": "DZ6JbSGoUUC8"
      }
    },
    {
      "cell_type": "markdown",
      "source": [
        "## Oversamplig e Undersampling"
      ],
      "metadata": {
        "id": "cgLvIWKbks9Y"
      }
    },
    {
      "cell_type": "code",
      "source": [
        "smoteenn = SMOTEENN(random_state=42)"
      ],
      "metadata": {
        "id": "H8mZcH5cc3xc"
      },
      "execution_count": 24,
      "outputs": []
    },
    {
      "cell_type": "code",
      "source": [
        "X_treino_balanceado, y_treino_balanceado = smoteenn.fit_resample(X_treino, y_treino)"
      ],
      "metadata": {
        "id": "OpDIfhgMdHam"
      },
      "execution_count": 25,
      "outputs": []
    },
    {
      "cell_type": "code",
      "source": [
        "print(f'Dimensão antes do SMOTEENN: {X_treino.shape}')\n",
        "print(f'Dimensão depois do SMOTEENN: {X_treino_balanceado.shape}')\n",
        "\n",
        "print(f'Proporção da variável target antes do SMOTEENN: {y_treino.value_counts(normalize=True).tolist()[0] * 100:.2f}% / {y_treino.value_counts(normalize=True).tolist()[1] * 100:.2f}%')\n",
        "print(f'Proporção da variável target depois do SMOTEENN: {y_treino_balanceado.value_counts(normalize=True).tolist()[0] * 100:.2f}% / {y_treino_balanceado.value_counts(normalize=True).tolist()[1] * 100:.2f}%')"
      ],
      "metadata": {
        "colab": {
          "base_uri": "https://localhost:8080/"
        },
        "id": "Nnu-eWlqdUFS",
        "outputId": "21376682-8cd8-474a-f1ca-8dd1e6c594f9"
      },
      "execution_count": 26,
      "outputs": [
        {
          "output_type": "stream",
          "name": "stdout",
          "text": [
            "Dimensão antes do SMOTEENN: (800, 14)\n",
            "Dimensão depois do SMOTEENN: (408, 14)\n",
            "Proporção da variável target antes do SMOTEENN: 70.00% / 30.00%\n",
            "Proporção da variável target depois do SMOTEENN: 58.33% / 41.67%\n"
          ]
        }
      ]
    },
    {
      "cell_type": "code",
      "source": [
        "X_treino_balanceado.columns"
      ],
      "metadata": {
        "colab": {
          "base_uri": "https://localhost:8080/"
        },
        "id": "O64ppplkpsI3",
        "outputId": "0d675902-275b-40dc-a0e1-5889085e7b15"
      },
      "execution_count": 27,
      "outputs": [
        {
          "output_type": "execute_result",
          "data": {
            "text/plain": [
              "Index(['CHEQUEESPECIAL', 'USO_CREDITO', 'HISTORICO_CREDITO', 'BALANCO_ATUAL',\n",
              "       'BALANCO_MEDIO_CREDITO', 'EMPREGADO', 'TIPOSBENS', 'IDADE',\n",
              "       'OUTROSPLANOSPGTO', 'RESIDENCIA', 'CREDITOSEXISTENTES', 'EMPREGO',\n",
              "       'DEPENDENTES', 'TRABAESTRANGEIRO'],\n",
              "      dtype='object')"
            ]
          },
          "metadata": {},
          "execution_count": 27
        }
      ]
    },
    {
      "cell_type": "markdown",
      "source": [
        "# Modelagem Preditiva"
      ],
      "metadata": {
        "id": "YfYS-vfMmj4X"
      }
    },
    {
      "cell_type": "markdown",
      "source": [
        "## Baseline - Regressão Logística"
      ],
      "metadata": {
        "id": "iOr5EPhHmqRk"
      }
    },
    {
      "cell_type": "code",
      "source": [
        "# Definindo o modelo\n",
        "model = LogisticRegression()\n",
        "\n",
        "# Treinando e salvando resultados\n",
        "resultados_lr = cross_validate(model, X_treino_balanceado, y_treino_balanceado, cv=10, scoring='roc_auc')"
      ],
      "metadata": {
        "id": "K2Ocm2whmnj-"
      },
      "execution_count": 28,
      "outputs": []
    },
    {
      "cell_type": "markdown",
      "source": [
        "## Árvore de Decisão"
      ],
      "metadata": {
        "id": "y41GPNTknFqr"
      }
    },
    {
      "cell_type": "code",
      "source": [
        "# Definindo o modelo\n",
        "model = DecisionTreeClassifier()\n",
        "\n",
        "# Treinando e salvando resultados\n",
        "resultados_dt = cross_validate(model, X_treino_balanceado, y_treino_balanceado, cv=10, scoring='roc_auc')"
      ],
      "metadata": {
        "id": "WYoEZ37hnKFN"
      },
      "execution_count": 29,
      "outputs": []
    },
    {
      "cell_type": "markdown",
      "source": [
        "## Random Forest"
      ],
      "metadata": {
        "id": "rmnYIkcLnNCZ"
      }
    },
    {
      "cell_type": "code",
      "source": [
        "# Definindo o modelo\n",
        "model = RandomForestClassifier(n_estimators=20)\n",
        "\n",
        "# Treinando e salvando resultados\n",
        "resultados_rf = cross_validate(model, X_treino_balanceado, y_treino_balanceado, cv=10, scoring='roc_auc')"
      ],
      "metadata": {
        "id": "SQ-etkAinRAD"
      },
      "execution_count": 30,
      "outputs": []
    },
    {
      "cell_type": "markdown",
      "source": [
        "## Comparação dos modelos"
      ],
      "metadata": {
        "id": "NTq8gjLpnSso"
      }
    },
    {
      "cell_type": "code",
      "source": [
        "# Adicionando a média dos scores em cada lista\n",
        "resultados_lr = np.append(resultados_lr['test_score'], resultados_lr['test_score'].mean())\n",
        "resultados_dt = np.append(resultados_dt['test_score'], resultados_dt['test_score'].mean())\n",
        "resultados_rf = np.append(resultados_rf['test_score'], resultados_rf['test_score'].mean())\n",
        "\n",
        "models_score = pd.DataFrame(\n",
        "    index = ['Regressão Logística', 'Árvore de Decisão', 'Random Forest'],\n",
        "    columns = ['Fold 1', 'Fold 2', 'Fold 3', 'Fold 4', 'Fold 5', 'Fold 6', 'Fold 7', 'Fold 8', 'Fold 9', 'Fold 10', 'Média'],\n",
        "    data = [resultados_lr, resultados_dt, resultados_rf]\n",
        ")"
      ],
      "metadata": {
        "id": "fEPrUnPMnUNk"
      },
      "execution_count": 31,
      "outputs": []
    },
    {
      "cell_type": "code",
      "source": [
        "models_score"
      ],
      "metadata": {
        "colab": {
          "base_uri": "https://localhost:8080/",
          "height": 144
        },
        "id": "D_P8MAKogGue",
        "outputId": "27efc6e6-1df6-4c2b-c232-2baa6863e6c9"
      },
      "execution_count": 32,
      "outputs": [
        {
          "output_type": "execute_result",
          "data": {
            "text/plain": [
              "                       Fold 1    Fold 2    Fold 3    Fold 4    Fold 5  \\\n",
              "Regressão Logística  0.693627  0.823529  0.649510  0.703431  0.818627   \n",
              "Árvore de Decisão    0.849265  0.908088  0.774510  0.840686  0.899510   \n",
              "Random Forest        0.867647  0.878676  0.839461  0.965686  0.948529   \n",
              "\n",
              "                       Fold 6    Fold 7    Fold 8    Fold 9   Fold 10  \\\n",
              "Regressão Logística  0.852941  0.781863  0.821078  0.810742  0.764706   \n",
              "Árvore de Decisão    0.840686  0.823529  0.890931  0.911765  0.948849   \n",
              "Random Forest        0.955882  0.973039  0.944853  0.971867  0.955243   \n",
              "\n",
              "                        Média  \n",
              "Regressão Logística  0.772006  \n",
              "Árvore de Decisão    0.868782  \n",
              "Random Forest        0.930088  "
            ],
            "text/html": [
              "\n",
              "  <div id=\"df-53dd2044-aeed-41e4-bcc5-d89a412ff015\">\n",
              "    <div class=\"colab-df-container\">\n",
              "      <div>\n",
              "<style scoped>\n",
              "    .dataframe tbody tr th:only-of-type {\n",
              "        vertical-align: middle;\n",
              "    }\n",
              "\n",
              "    .dataframe tbody tr th {\n",
              "        vertical-align: top;\n",
              "    }\n",
              "\n",
              "    .dataframe thead th {\n",
              "        text-align: right;\n",
              "    }\n",
              "</style>\n",
              "<table border=\"1\" class=\"dataframe\">\n",
              "  <thead>\n",
              "    <tr style=\"text-align: right;\">\n",
              "      <th></th>\n",
              "      <th>Fold 1</th>\n",
              "      <th>Fold 2</th>\n",
              "      <th>Fold 3</th>\n",
              "      <th>Fold 4</th>\n",
              "      <th>Fold 5</th>\n",
              "      <th>Fold 6</th>\n",
              "      <th>Fold 7</th>\n",
              "      <th>Fold 8</th>\n",
              "      <th>Fold 9</th>\n",
              "      <th>Fold 10</th>\n",
              "      <th>Média</th>\n",
              "    </tr>\n",
              "  </thead>\n",
              "  <tbody>\n",
              "    <tr>\n",
              "      <th>Regressão Logística</th>\n",
              "      <td>0.693627</td>\n",
              "      <td>0.823529</td>\n",
              "      <td>0.649510</td>\n",
              "      <td>0.703431</td>\n",
              "      <td>0.818627</td>\n",
              "      <td>0.852941</td>\n",
              "      <td>0.781863</td>\n",
              "      <td>0.821078</td>\n",
              "      <td>0.810742</td>\n",
              "      <td>0.764706</td>\n",
              "      <td>0.772006</td>\n",
              "    </tr>\n",
              "    <tr>\n",
              "      <th>Árvore de Decisão</th>\n",
              "      <td>0.849265</td>\n",
              "      <td>0.908088</td>\n",
              "      <td>0.774510</td>\n",
              "      <td>0.840686</td>\n",
              "      <td>0.899510</td>\n",
              "      <td>0.840686</td>\n",
              "      <td>0.823529</td>\n",
              "      <td>0.890931</td>\n",
              "      <td>0.911765</td>\n",
              "      <td>0.948849</td>\n",
              "      <td>0.868782</td>\n",
              "    </tr>\n",
              "    <tr>\n",
              "      <th>Random Forest</th>\n",
              "      <td>0.867647</td>\n",
              "      <td>0.878676</td>\n",
              "      <td>0.839461</td>\n",
              "      <td>0.965686</td>\n",
              "      <td>0.948529</td>\n",
              "      <td>0.955882</td>\n",
              "      <td>0.973039</td>\n",
              "      <td>0.944853</td>\n",
              "      <td>0.971867</td>\n",
              "      <td>0.955243</td>\n",
              "      <td>0.930088</td>\n",
              "    </tr>\n",
              "  </tbody>\n",
              "</table>\n",
              "</div>\n",
              "      <button class=\"colab-df-convert\" onclick=\"convertToInteractive('df-53dd2044-aeed-41e4-bcc5-d89a412ff015')\"\n",
              "              title=\"Convert this dataframe to an interactive table.\"\n",
              "              style=\"display:none;\">\n",
              "        \n",
              "  <svg xmlns=\"http://www.w3.org/2000/svg\" height=\"24px\"viewBox=\"0 0 24 24\"\n",
              "       width=\"24px\">\n",
              "    <path d=\"M0 0h24v24H0V0z\" fill=\"none\"/>\n",
              "    <path d=\"M18.56 5.44l.94 2.06.94-2.06 2.06-.94-2.06-.94-.94-2.06-.94 2.06-2.06.94zm-11 1L8.5 8.5l.94-2.06 2.06-.94-2.06-.94L8.5 2.5l-.94 2.06-2.06.94zm10 10l.94 2.06.94-2.06 2.06-.94-2.06-.94-.94-2.06-.94 2.06-2.06.94z\"/><path d=\"M17.41 7.96l-1.37-1.37c-.4-.4-.92-.59-1.43-.59-.52 0-1.04.2-1.43.59L10.3 9.45l-7.72 7.72c-.78.78-.78 2.05 0 2.83L4 21.41c.39.39.9.59 1.41.59.51 0 1.02-.2 1.41-.59l7.78-7.78 2.81-2.81c.8-.78.8-2.07 0-2.86zM5.41 20L4 18.59l7.72-7.72 1.47 1.35L5.41 20z\"/>\n",
              "  </svg>\n",
              "      </button>\n",
              "      \n",
              "  <style>\n",
              "    .colab-df-container {\n",
              "      display:flex;\n",
              "      flex-wrap:wrap;\n",
              "      gap: 12px;\n",
              "    }\n",
              "\n",
              "    .colab-df-convert {\n",
              "      background-color: #E8F0FE;\n",
              "      border: none;\n",
              "      border-radius: 50%;\n",
              "      cursor: pointer;\n",
              "      display: none;\n",
              "      fill: #1967D2;\n",
              "      height: 32px;\n",
              "      padding: 0 0 0 0;\n",
              "      width: 32px;\n",
              "    }\n",
              "\n",
              "    .colab-df-convert:hover {\n",
              "      background-color: #E2EBFA;\n",
              "      box-shadow: 0px 1px 2px rgba(60, 64, 67, 0.3), 0px 1px 3px 1px rgba(60, 64, 67, 0.15);\n",
              "      fill: #174EA6;\n",
              "    }\n",
              "\n",
              "    [theme=dark] .colab-df-convert {\n",
              "      background-color: #3B4455;\n",
              "      fill: #D2E3FC;\n",
              "    }\n",
              "\n",
              "    [theme=dark] .colab-df-convert:hover {\n",
              "      background-color: #434B5C;\n",
              "      box-shadow: 0px 1px 3px 1px rgba(0, 0, 0, 0.15);\n",
              "      filter: drop-shadow(0px 1px 2px rgba(0, 0, 0, 0.3));\n",
              "      fill: #FFFFFF;\n",
              "    }\n",
              "  </style>\n",
              "\n",
              "      <script>\n",
              "        const buttonEl =\n",
              "          document.querySelector('#df-53dd2044-aeed-41e4-bcc5-d89a412ff015 button.colab-df-convert');\n",
              "        buttonEl.style.display =\n",
              "          google.colab.kernel.accessAllowed ? 'block' : 'none';\n",
              "\n",
              "        async function convertToInteractive(key) {\n",
              "          const element = document.querySelector('#df-53dd2044-aeed-41e4-bcc5-d89a412ff015');\n",
              "          const dataTable =\n",
              "            await google.colab.kernel.invokeFunction('convertToInteractive',\n",
              "                                                     [key], {});\n",
              "          if (!dataTable) return;\n",
              "\n",
              "          const docLinkHtml = 'Like what you see? Visit the ' +\n",
              "            '<a target=\"_blank\" href=https://colab.research.google.com/notebooks/data_table.ipynb>data table notebook</a>'\n",
              "            + ' to learn more about interactive tables.';\n",
              "          element.innerHTML = '';\n",
              "          dataTable['output_type'] = 'display_data';\n",
              "          await google.colab.output.renderOutput(dataTable, element);\n",
              "          const docLink = document.createElement('div');\n",
              "          docLink.innerHTML = docLinkHtml;\n",
              "          element.appendChild(docLink);\n",
              "        }\n",
              "      </script>\n",
              "    </div>\n",
              "  </div>\n",
              "  "
            ]
          },
          "metadata": {},
          "execution_count": 32
        }
      ]
    },
    {
      "cell_type": "code",
      "source": [
        "plt.figure(figsize=(10,5))\n",
        "plt.ylabel(\"Score (em %)\")\n",
        "plt.title(\"Comparação dos Modelos\")\n",
        "\n",
        "(models_score[\"Média\"]*100).plot.bar()\n",
        "\n",
        "plt.xticks(rotation=\"horizontal\")\n",
        "\n",
        "plt.show()"
      ],
      "metadata": {
        "colab": {
          "base_uri": "https://localhost:8080/",
          "height": 336
        },
        "id": "qG11DQ9YhAXz",
        "outputId": "7c27ee02-9696-43d3-9afc-7590e2cbd48e"
      },
      "execution_count": 33,
      "outputs": [
        {
          "output_type": "display_data",
          "data": {
            "text/plain": [
              "<Figure size 720x360 with 1 Axes>"
            ],
            "image/png": "[encoded data removed]"
          },
          "metadata": {
            "needs_background": "light"
          }
        }
      ]
    },
    {
      "cell_type": "markdown",
      "source": [
        "## Seleção de variáveis"
      ],
      "metadata": {
        "id": "qfKPJJPBpNkA"
      }
    },
    {
      "cell_type": "markdown",
      "source": [
        "### Realizando a definição do modelo Random Forest e definindo o modelo que fará a seleção de variáveis"
      ],
      "metadata": {
        "id": "b4G_qVQS-bVC"
      }
    },
    {
      "cell_type": "code",
      "source": [
        "rf = RandomForestClassifier(n_estimators=20)\n",
        "\n",
        "rfecv = RFECV(rf, cv=10, scoring='roc_auc')"
      ],
      "metadata": {
        "id": "Dhwb79Tzoa-2"
      },
      "execution_count": 34,
      "outputs": []
    },
    {
      "cell_type": "code",
      "source": [
        "rfecv = rfecv.fit(X_treino_balanceado, y_treino_balanceado)"
      ],
      "metadata": {
        "id": "DWWsNAuopRLy"
      },
      "execution_count": 35,
      "outputs": []
    },
    {
      "cell_type": "code",
      "source": [
        "plt.figure(figsize=(12, 6))\n",
        "\n",
        "plt.plot(range(1, len(rfecv.grid_scores_) + 1), rfecv.grid_scores_)\n",
        "\n",
        "plt.title(f'Quantidade de features ideal para usar: {rfecv.n_features_}')\n",
        "\n",
        "plt.xlabel('Número de variáveis selecionadas')\n",
        "plt.ylabel('Score ROC-AUC')\n",
        "\n",
        "plt.xticks(np.arange(1, len(rfecv.grid_scores_) + 1, 1))\n",
        "\n",
        "plt.show()"
      ],
      "metadata": {
        "colab": {
          "base_uri": "https://localhost:8080/",
          "height": 404
        },
        "id": "hTxuHl3vpTBv",
        "outputId": "695f8e24-037a-421d-b307-9b4c64a69fd7"
      },
      "execution_count": 36,
      "outputs": [
        {
          "output_type": "display_data",
          "data": {
            "text/plain": [
              "<Figure size 864x432 with 1 Axes>"
            ],
            "image/png": "[encoded data removed]"
          },
          "metadata": {
            "needs_background": "light"
          }
        }
      ]
    },
    {
      "cell_type": "markdown",
      "source": [
        "## Tunagem de Hiperparâmetros"
      ],
      "metadata": {
        "id": "IsPmjHzoaOeG"
      }
    },
    {
      "cell_type": "code",
      "source": [
        "model = RandomForestClassifier(min_samples_leaf=2, random_state=42)"
      ],
      "metadata": {
        "id": "KxmBmG_VpURM"
      },
      "execution_count": 37,
      "outputs": []
    },
    {
      "cell_type": "markdown",
      "source": [
        "### Definindo os hiperparâmetros que serão testados"
      ],
      "metadata": {
        "id": "BhgfZ7ay-sv5"
      }
    },
    {
      "cell_type": "code",
      "source": [
        "params = {\n",
        "    'n_estimators': [50, 100, 150, 200, 300],\n",
        "    'max_features': ['sqrt', 5],\n",
        "    'max_depth': [5, 10]\n",
        "}"
      ],
      "metadata": {
        "id": "SCrl38gcqOUm"
      },
      "execution_count": 38,
      "outputs": []
    },
    {
      "cell_type": "code",
      "source": [
        "grid_search = GridSearchCV(\n",
        "    estimator = model,\n",
        "    param_grid = params,\n",
        "    scoring = 'recall',\n",
        "    cv = 10,\n",
        "    n_jobs = 1)"
      ],
      "metadata": {
        "id": "JS6OofxYqQhq"
      },
      "execution_count": 39,
      "outputs": []
    },
    {
      "cell_type": "code",
      "source": [
        "grid_search = grid_search.fit(X_treino_balanceado, y_treino_balanceado)"
      ],
      "metadata": {
        "id": "WIkArfPVqSoH"
      },
      "execution_count": 40,
      "outputs": []
    },
    {
      "cell_type": "code",
      "source": [
        "pd.DataFrame(index=grid_search.best_params_.keys(), columns=['Melhor Valor'], data=grid_search.best_params_.values())"
      ],
      "metadata": {
        "colab": {
          "base_uri": "https://localhost:8080/",
          "height": 144
        },
        "id": "XzBXJFy7qXIL",
        "outputId": "e95b0884-528b-4db1-fbfa-85d49e4fbcdc"
      },
      "execution_count": 41,
      "outputs": [
        {
          "output_type": "execute_result",
          "data": {
            "text/plain": [
              "              Melhor Valor\n",
              "max_depth                5\n",
              "max_features             5\n",
              "n_estimators            50"
            ],
            "text/html": [
              "\n",
              "  <div id=\"df-9e2b2d00-4477-412b-b75c-5f613099cd64\">\n",
              "    <div class=\"colab-df-container\">\n",
              "      <div>\n",
              "<style scoped>\n",
              "    .dataframe tbody tr th:only-of-type {\n",
              "        vertical-align: middle;\n",
              "    }\n",
              "\n",
              "    .dataframe tbody tr th {\n",
              "        vertical-align: top;\n",
              "    }\n",
              "\n",
              "    .dataframe thead th {\n",
              "        text-align: right;\n",
              "    }\n",
              "</style>\n",
              "<table border=\"1\" class=\"dataframe\">\n",
              "  <thead>\n",
              "    <tr style=\"text-align: right;\">\n",
              "      <th></th>\n",
              "      <th>Melhor Valor</th>\n",
              "    </tr>\n",
              "  </thead>\n",
              "  <tbody>\n",
              "    <tr>\n",
              "      <th>max_depth</th>\n",
              "      <td>5</td>\n",
              "    </tr>\n",
              "    <tr>\n",
              "      <th>max_features</th>\n",
              "      <td>5</td>\n",
              "    </tr>\n",
              "    <tr>\n",
              "      <th>n_estimators</th>\n",
              "      <td>50</td>\n",
              "    </tr>\n",
              "  </tbody>\n",
              "</table>\n",
              "</div>\n",
              "      <button class=\"colab-df-convert\" onclick=\"convertToInteractive('df-9e2b2d00-4477-412b-b75c-5f613099cd64')\"\n",
              "              title=\"Convert this dataframe to an interactive table.\"\n",
              "              style=\"display:none;\">\n",
              "        \n",
              "  <svg xmlns=\"http://www.w3.org/2000/svg\" height=\"24px\"viewBox=\"0 0 24 24\"\n",
              "       width=\"24px\">\n",
              "    <path d=\"M0 0h24v24H0V0z\" fill=\"none\"/>\n",
              "    <path d=\"M18.56 5.44l.94 2.06.94-2.06 2.06-.94-2.06-.94-.94-2.06-.94 2.06-2.06.94zm-11 1L8.5 8.5l.94-2.06 2.06-.94-2.06-.94L8.5 2.5l-.94 2.06-2.06.94zm10 10l.94 2.06.94-2.06 2.06-.94-2.06-.94-.94-2.06-.94 2.06-2.06.94z\"/><path d=\"M17.41 7.96l-1.37-1.37c-.4-.4-.92-.59-1.43-.59-.52 0-1.04.2-1.43.59L10.3 9.45l-7.72 7.72c-.78.78-.78 2.05 0 2.83L4 21.41c.39.39.9.59 1.41.59.51 0 1.02-.2 1.41-.59l7.78-7.78 2.81-2.81c.8-.78.8-2.07 0-2.86zM5.41 20L4 18.59l7.72-7.72 1.47 1.35L5.41 20z\"/>\n",
              "  </svg>\n",
              "      </button>\n",
              "      \n",
              "  <style>\n",
              "    .colab-df-container {\n",
              "      display:flex;\n",
              "      flex-wrap:wrap;\n",
              "      gap: 12px;\n",
              "    }\n",
              "\n",
              "    .colab-df-convert {\n",
              "      background-color: #E8F0FE;\n",
              "      border: none;\n",
              "      border-radius: 50%;\n",
              "      cursor: pointer;\n",
              "      display: none;\n",
              "      fill: #1967D2;\n",
              "      height: 32px;\n",
              "      padding: 0 0 0 0;\n",
              "      width: 32px;\n",
              "    }\n",
              "\n",
              "    .colab-df-convert:hover {\n",
              "      background-color: #E2EBFA;\n",
              "      box-shadow: 0px 1px 2px rgba(60, 64, 67, 0.3), 0px 1px 3px 1px rgba(60, 64, 67, 0.15);\n",
              "      fill: #174EA6;\n",
              "    }\n",
              "\n",
              "    [theme=dark] .colab-df-convert {\n",
              "      background-color: #3B4455;\n",
              "      fill: #D2E3FC;\n",
              "    }\n",
              "\n",
              "    [theme=dark] .colab-df-convert:hover {\n",
              "      background-color: #434B5C;\n",
              "      box-shadow: 0px 1px 3px 1px rgba(0, 0, 0, 0.15);\n",
              "      filter: drop-shadow(0px 1px 2px rgba(0, 0, 0, 0.3));\n",
              "      fill: #FFFFFF;\n",
              "    }\n",
              "  </style>\n",
              "\n",
              "      <script>\n",
              "        const buttonEl =\n",
              "          document.querySelector('#df-9e2b2d00-4477-412b-b75c-5f613099cd64 button.colab-df-convert');\n",
              "        buttonEl.style.display =\n",
              "          google.colab.kernel.accessAllowed ? 'block' : 'none';\n",
              "\n",
              "        async function convertToInteractive(key) {\n",
              "          const element = document.querySelector('#df-9e2b2d00-4477-412b-b75c-5f613099cd64');\n",
              "          const dataTable =\n",
              "            await google.colab.kernel.invokeFunction('convertToInteractive',\n",
              "                                                     [key], {});\n",
              "          if (!dataTable) return;\n",
              "\n",
              "          const docLinkHtml = 'Like what you see? Visit the ' +\n",
              "            '<a target=\"_blank\" href=https://colab.research.google.com/notebooks/data_table.ipynb>data table notebook</a>'\n",
              "            + ' to learn more about interactive tables.';\n",
              "          element.innerHTML = '';\n",
              "          dataTable['output_type'] = 'display_data';\n",
              "          await google.colab.output.renderOutput(dataTable, element);\n",
              "          const docLink = document.createElement('div');\n",
              "          docLink.innerHTML = docLinkHtml;\n",
              "          element.appendChild(docLink);\n",
              "        }\n",
              "      </script>\n",
              "    </div>\n",
              "  </div>\n",
              "  "
            ]
          },
          "metadata": {},
          "execution_count": 41
        }
      ]
    },
    {
      "cell_type": "code",
      "source": [
        "model = RandomForestClassifier(\n",
        "    n_estimators = 50,\n",
        "    min_samples_leaf = 2,\n",
        "    max_depth = 5,\n",
        "    max_features = 5,\n",
        "    random_state = 42)"
      ],
      "metadata": {
        "id": "lITMqe-hqXfh"
      },
      "execution_count": 42,
      "outputs": []
    },
    {
      "cell_type": "code",
      "source": [
        "model = model.fit(X_treino_balanceado, y_treino_balanceado)"
      ],
      "metadata": {
        "id": "Nj9uTGNIqYxc"
      },
      "execution_count": 43,
      "outputs": []
    },
    {
      "cell_type": "markdown",
      "source": [
        "### Matriz de confusão com dados normalizados em relação aos labels reais"
      ],
      "metadata": {
        "id": "ANVBJ9yn-4Vm"
      }
    },
    {
      "cell_type": "code",
      "source": [
        "fig, ax = plt.subplots(figsize=(12, 6))\n",
        "\n",
        "plot_confusion_matrix(model, X_teste, y_teste, values_format = '.0f', ax=ax, cmap='Blues')\n",
        "\n",
        "ax.set_xlabel('Classificação Prevista')\n",
        "ax.set_ylabel('Classificação Real')\n",
        "\n",
        "plt.show()"
      ],
      "metadata": {
        "colab": {
          "base_uri": "https://localhost:8080/",
          "height": 388
        },
        "id": "rM4PSiMJqZw4",
        "outputId": "b007aabe-788b-45d1-b67a-8f658f697468"
      },
      "execution_count": 44,
      "outputs": [
        {
          "output_type": "display_data",
          "data": {
            "text/plain": [
              "<Figure size 864x432 with 2 Axes>"
            ],
            "image/png": "[encoded data removed]"
          },
          "metadata": {
            "needs_background": "light"
          }
        }
      ]
    },
    {
      "cell_type": "markdown",
      "source": [
        "## Avaliando o modelo"
      ],
      "metadata": {
        "id": "ZnuFn-slQcky"
      }
    },
    {
      "cell_type": "markdown",
      "source": [
        "### Dentre todos os clientes que previmos serem inadimplentes, qual a taxa de acerto?"
      ],
      "metadata": {
        "id": "XqaRkor3P7Va"
      }
    },
    {
      "cell_type": "code",
      "source": [
        "precisao = precision_recall_curve(y_teste, model.predict(X_teste))[0][1]\n",
        "\n",
        "print(f\"Precisao do modelo: {precisao * 100:.2f}%\")"
      ],
      "metadata": {
        "colab": {
          "base_uri": "https://localhost:8080/"
        },
        "id": "tOaG6LGHrRdk",
        "outputId": "11196a96-c968-43d8-d940-2a14a79ed32b"
      },
      "execution_count": 45,
      "outputs": [
        {
          "output_type": "stream",
          "name": "stdout",
          "text": [
            "Precisao do modelo: 42.72%\n"
          ]
        }
      ]
    },
    {
      "cell_type": "markdown",
      "source": [
        "### Dentre todos os clientes que realmente eram inadimplentes, qual a taxa de acerto?"
      ],
      "metadata": {
        "id": "B8nMmY5SQCX1"
      }
    },
    {
      "cell_type": "code",
      "source": [
        "recall = precision_recall_curve(y_teste, model.predict(X_teste))[1][1]\n",
        "\n",
        "print(f\"O Recall do modelo foi de {recall * 100:.2f}%\")"
      ],
      "metadata": {
        "colab": {
          "base_uri": "https://localhost:8080/"
        },
        "id": "-LGYMylkrmAJ",
        "outputId": "15f97cc0-d63b-47b7-e798-3994a6456e03"
      },
      "execution_count": 46,
      "outputs": [
        {
          "output_type": "stream",
          "name": "stdout",
          "text": [
            "O Recall do modelo foi de 73.33%\n"
          ]
        }
      ]
    },
    {
      "cell_type": "code",
      "source": [
        "F1 = 2 * (precisao * recall) / (precisao + recall)\n",
        "\n",
        "print(f\"O F1 score foi de {F1 * 100:.2f}%\")"
      ],
      "metadata": {
        "colab": {
          "base_uri": "https://localhost:8080/"
        },
        "id": "rtEfurtPPb5C",
        "outputId": "70f8a3f1-db9f-4648-c6f4-85233119aceb"
      },
      "execution_count": 47,
      "outputs": [
        {
          "output_type": "stream",
          "name": "stdout",
          "text": [
            "O F1 score foi de 53.99%\n"
          ]
        }
      ]
    },
    {
      "cell_type": "markdown",
      "source": [
        "### Qual a relação entre os Falso Positivos e Verdadeiro Positivos das nossas classificações?"
      ],
      "metadata": {
        "id": "RX6GfUzBQYGG"
      }
    },
    {
      "cell_type": "code",
      "source": [
        "roc_auc = roc_auc_score(y_teste, model.predict_proba(X_teste)[:, 1])\n",
        "\n",
        "print(f'O score ROC-AUC é de: {roc_auc:.2f}')"
      ],
      "metadata": {
        "id": "VLJLH-MPTA6v",
        "colab": {
          "base_uri": "https://localhost:8080/"
        },
        "outputId": "0d7cc263-98fb-4517-878b-1292f55f6a54"
      },
      "execution_count": 48,
      "outputs": [
        {
          "output_type": "stream",
          "name": "stdout",
          "text": [
            "O score ROC-AUC é de: 0.75\n"
          ]
        }
      ]
    },
    {
      "cell_type": "markdown",
      "source": [
        "### Curva ROC e o score:"
      ],
      "metadata": {
        "id": "FXwK8VAEQnPd"
      }
    },
    {
      "cell_type": "code",
      "source": [
        "fig, ax = plt.subplots(figsize=(12, 6))\n",
        "\n",
        "# Plot para o conjunto de validação\n",
        "plot_roc_curve(model, X_teste, y_teste, ax=ax)\n",
        "\n",
        "# Propriedades do gráfico\n",
        "ax.set_title(f'ROC-AUC Score: {roc_auc:.2f}')\n",
        "\n",
        "ax.set_xlabel('Taxa de Falso Positivos')\n",
        "ax.set_ylabel('Taxa de Verdadeiro Positivos')\n",
        "\n",
        "plt.legend()\n",
        "\n",
        "plt.show()"
      ],
      "metadata": {
        "id": "eTJsCIRBaj-R",
        "outputId": "3ba5e62e-23e5-433c-b726-095c6daa8093",
        "colab": {
          "base_uri": "https://localhost:8080/",
          "height": 404
        }
      },
      "execution_count": 49,
      "outputs": [
        {
          "output_type": "display_data",
          "data": {
            "text/plain": [
              "<Figure size 864x432 with 1 Axes>"
            ],
            "image/png": "[encoded data removed]"
          },
          "metadata": {
            "needs_background": "light"
          }
        }
      ]
    },
    {
      "cell_type": "code",
      "source": [
        "resultado_teste = model.predict(dataset.drop(columns=\"CLASSE\"))"
      ],
      "metadata": {
        "id": "daKK_o-2sDKM"
      },
      "execution_count": 50,
      "outputs": []
    },
    {
      "cell_type": "code",
      "source": [
        "proporcao = pd.Series(resultado_teste).value_counts(normalize=True) * 100"
      ],
      "metadata": {
        "id": "Sl-QUyMPs_xo"
      },
      "execution_count": 51,
      "outputs": []
    },
    {
      "cell_type": "code",
      "source": [
        "print(f\"O modelo classificou {proporcao[1]:.2f}% inadimplentes e {proporcao[0]:.2f}% adimplentes\")"
      ],
      "metadata": {
        "colab": {
          "base_uri": "https://localhost:8080/"
        },
        "id": "hAMQ6oAMtJQG",
        "outputId": "d0b33033-2e23-4946-a839-917d8c559617"
      },
      "execution_count": 52,
      "outputs": [
        {
          "output_type": "stream",
          "name": "stdout",
          "text": [
            "O modelo classificou 49.30% inadimplentes e 50.70% adimplentes\n"
          ]
        }
      ]
    },
    {
      "cell_type": "markdown",
      "source": [
        "# Validando previsões"
      ],
      "metadata": {
        "id": "_l9Vic2IAhWh"
      }
    },
    {
      "cell_type": "code",
      "source": [
        "test = test.drop(columns=\"CLASSE\")"
      ],
      "metadata": {
        "id": "NN20mJ2JGQJb"
      },
      "execution_count": 53,
      "outputs": []
    },
    {
      "cell_type": "code",
      "source": [
        "test.head()"
      ],
      "metadata": {
        "colab": {
          "base_uri": "https://localhost:8080/",
          "height": 270
        },
        "id": "_1_bj_siDgI2",
        "outputId": "fa105643-3ba8-402a-9d61-3b9bca969b68"
      },
      "execution_count": 54,
      "outputs": [
        {
          "output_type": "execute_result",
          "data": {
            "text/plain": [
              "     CHEQUEESPECIAL  USO_CREDITO  HISTORICO_CREDITO  BALANCO_ATUAL  \\\n",
              "800               1           24                  2           1597   \n",
              "801               3           18                  2           1795   \n",
              "802               2           20                  2           4272   \n",
              "803               1           12                  2            976   \n",
              "804               3           12                  3           7472   \n",
              "\n",
              "     BALANCO_MEDIO_CREDITO  EMPREGADO  TIPOSBENS  IDADE  OUTROSPLANOSPGTO  \\\n",
              "800                      2          1          3     54                 0   \n",
              "801                      2          1          1     48                 1   \n",
              "802                      2          1          2     24                 0   \n",
              "803                      1          1          0     35                 0   \n",
              "804                      1          5          1     24                 0   \n",
              "\n",
              "     RESIDENCIA  CREDITOSEXISTENTES  EMPREGO  DEPENDENTES  TRABAESTRANGEIRO  \n",
              "800           2                   2        0            2                 1  \n",
              "801           1                   2        2            1                 1  \n",
              "802           0                   2        0            1                 1  \n",
              "803           0                   2        0            1                 1  \n",
              "804           1                   1        3            1                 1  "
            ],
            "text/html": [
              "\n",
              "  <div id=\"df-0d8bf246-19c2-4c20-98b2-43693c91f3f2\">\n",
              "    <div class=\"colab-df-container\">\n",
              "      <div>\n",
              "<style scoped>\n",
              "    .dataframe tbody tr th:only-of-type {\n",
              "        vertical-align: middle;\n",
              "    }\n",
              "\n",
              "    .dataframe tbody tr th {\n",
              "        vertical-align: top;\n",
              "    }\n",
              "\n",
              "    .dataframe thead th {\n",
              "        text-align: right;\n",
              "    }\n",
              "</style>\n",
              "<table border=\"1\" class=\"dataframe\">\n",
              "  <thead>\n",
              "    <tr style=\"text-align: right;\">\n",
              "      <th></th>\n",
              "      <th>CHEQUEESPECIAL</th>\n",
              "      <th>USO_CREDITO</th>\n",
              "      <th>HISTORICO_CREDITO</th>\n",
              "      <th>BALANCO_ATUAL</th>\n",
              "      <th>BALANCO_MEDIO_CREDITO</th>\n",
              "      <th>EMPREGADO</th>\n",
              "      <th>TIPOSBENS</th>\n",
              "      <th>IDADE</th>\n",
              "      <th>OUTROSPLANOSPGTO</th>\n",
              "      <th>RESIDENCIA</th>\n",
              "      <th>CREDITOSEXISTENTES</th>\n",
              "      <th>EMPREGO</th>\n",
              "      <th>DEPENDENTES</th>\n",
              "      <th>TRABAESTRANGEIRO</th>\n",
              "    </tr>\n",
              "  </thead>\n",
              "  <tbody>\n",
              "    <tr>\n",
              "      <th>800</th>\n",
              "      <td>1</td>\n",
              "      <td>24</td>\n",
              "      <td>2</td>\n",
              "      <td>1597</td>\n",
              "      <td>2</td>\n",
              "      <td>1</td>\n",
              "      <td>3</td>\n",
              "      <td>54</td>\n",
              "      <td>0</td>\n",
              "      <td>2</td>\n",
              "      <td>2</td>\n",
              "      <td>0</td>\n",
              "      <td>2</td>\n",
              "      <td>1</td>\n",
              "    </tr>\n",
              "    <tr>\n",
              "      <th>801</th>\n",
              "      <td>3</td>\n",
              "      <td>18</td>\n",
              "      <td>2</td>\n",
              "      <td>1795</td>\n",
              "      <td>2</td>\n",
              "      <td>1</td>\n",
              "      <td>1</td>\n",
              "      <td>48</td>\n",
              "      <td>1</td>\n",
              "      <td>1</td>\n",
              "      <td>2</td>\n",
              "      <td>2</td>\n",
              "      <td>1</td>\n",
              "      <td>1</td>\n",
              "    </tr>\n",
              "    <tr>\n",
              "      <th>802</th>\n",
              "      <td>2</td>\n",
              "      <td>20</td>\n",
              "      <td>2</td>\n",
              "      <td>4272</td>\n",
              "      <td>2</td>\n",
              "      <td>1</td>\n",
              "      <td>2</td>\n",
              "      <td>24</td>\n",
              "      <td>0</td>\n",
              "      <td>0</td>\n",
              "      <td>2</td>\n",
              "      <td>0</td>\n",
              "      <td>1</td>\n",
              "      <td>1</td>\n",
              "    </tr>\n",
              "    <tr>\n",
              "      <th>803</th>\n",
              "      <td>1</td>\n",
              "      <td>12</td>\n",
              "      <td>2</td>\n",
              "      <td>976</td>\n",
              "      <td>1</td>\n",
              "      <td>1</td>\n",
              "      <td>0</td>\n",
              "      <td>35</td>\n",
              "      <td>0</td>\n",
              "      <td>0</td>\n",
              "      <td>2</td>\n",
              "      <td>0</td>\n",
              "      <td>1</td>\n",
              "      <td>1</td>\n",
              "    </tr>\n",
              "    <tr>\n",
              "      <th>804</th>\n",
              "      <td>3</td>\n",
              "      <td>12</td>\n",
              "      <td>3</td>\n",
              "      <td>7472</td>\n",
              "      <td>1</td>\n",
              "      <td>5</td>\n",
              "      <td>1</td>\n",
              "      <td>24</td>\n",
              "      <td>0</td>\n",
              "      <td>1</td>\n",
              "      <td>1</td>\n",
              "      <td>3</td>\n",
              "      <td>1</td>\n",
              "      <td>1</td>\n",
              "    </tr>\n",
              "  </tbody>\n",
              "</table>\n",
              "</div>\n",
              "      <button class=\"colab-df-convert\" onclick=\"convertToInteractive('df-0d8bf246-19c2-4c20-98b2-43693c91f3f2')\"\n",
              "              title=\"Convert this dataframe to an interactive table.\"\n",
              "              style=\"display:none;\">\n",
              "        \n",
              "  <svg xmlns=\"http://www.w3.org/2000/svg\" height=\"24px\"viewBox=\"0 0 24 24\"\n",
              "       width=\"24px\">\n",
              "    <path d=\"M0 0h24v24H0V0z\" fill=\"none\"/>\n",
              "    <path d=\"M18.56 5.44l.94 2.06.94-2.06 2.06-.94-2.06-.94-.94-2.06-.94 2.06-2.06.94zm-11 1L8.5 8.5l.94-2.06 2.06-.94-2.06-.94L8.5 2.5l-.94 2.06-2.06.94zm10 10l.94 2.06.94-2.06 2.06-.94-2.06-.94-.94-2.06-.94 2.06-2.06.94z\"/><path d=\"M17.41 7.96l-1.37-1.37c-.4-.4-.92-.59-1.43-.59-.52 0-1.04.2-1.43.59L10.3 9.45l-7.72 7.72c-.78.78-.78 2.05 0 2.83L4 21.41c.39.39.9.59 1.41.59.51 0 1.02-.2 1.41-.59l7.78-7.78 2.81-2.81c.8-.78.8-2.07 0-2.86zM5.41 20L4 18.59l7.72-7.72 1.47 1.35L5.41 20z\"/>\n",
              "  </svg>\n",
              "      </button>\n",
              "      \n",
              "  <style>\n",
              "    .colab-df-container {\n",
              "      display:flex;\n",
              "      flex-wrap:wrap;\n",
              "      gap: 12px;\n",
              "    }\n",
              "\n",
              "    .colab-df-convert {\n",
              "      background-color: #E8F0FE;\n",
              "      border: none;\n",
              "      border-radius: 50%;\n",
              "      cursor: pointer;\n",
              "      display: none;\n",
              "      fill: #1967D2;\n",
              "      height: 32px;\n",
              "      padding: 0 0 0 0;\n",
              "      width: 32px;\n",
              "    }\n",
              "\n",
              "    .colab-df-convert:hover {\n",
              "      background-color: #E2EBFA;\n",
              "      box-shadow: 0px 1px 2px rgba(60, 64, 67, 0.3), 0px 1px 3px 1px rgba(60, 64, 67, 0.15);\n",
              "      fill: #174EA6;\n",
              "    }\n",
              "\n",
              "    [theme=dark] .colab-df-convert {\n",
              "      background-color: #3B4455;\n",
              "      fill: #D2E3FC;\n",
              "    }\n",
              "\n",
              "    [theme=dark] .colab-df-convert:hover {\n",
              "      background-color: #434B5C;\n",
              "      box-shadow: 0px 1px 3px 1px rgba(0, 0, 0, 0.15);\n",
              "      filter: drop-shadow(0px 1px 2px rgba(0, 0, 0, 0.3));\n",
              "      fill: #FFFFFF;\n",
              "    }\n",
              "  </style>\n",
              "\n",
              "      <script>\n",
              "        const buttonEl =\n",
              "          document.querySelector('#df-0d8bf246-19c2-4c20-98b2-43693c91f3f2 button.colab-df-convert');\n",
              "        buttonEl.style.display =\n",
              "          google.colab.kernel.accessAllowed ? 'block' : 'none';\n",
              "\n",
              "        async function convertToInteractive(key) {\n",
              "          const element = document.querySelector('#df-0d8bf246-19c2-4c20-98b2-43693c91f3f2');\n",
              "          const dataTable =\n",
              "            await google.colab.kernel.invokeFunction('convertToInteractive',\n",
              "                                                     [key], {});\n",
              "          if (!dataTable) return;\n",
              "\n",
              "          const docLinkHtml = 'Like what you see? Visit the ' +\n",
              "            '<a target=\"_blank\" href=https://colab.research.google.com/notebooks/data_table.ipynb>data table notebook</a>'\n",
              "            + ' to learn more about interactive tables.';\n",
              "          element.innerHTML = '';\n",
              "          dataTable['output_type'] = 'display_data';\n",
              "          await google.colab.output.renderOutput(dataTable, element);\n",
              "          const docLink = document.createElement('div');\n",
              "          docLink.innerHTML = docLinkHtml;\n",
              "          element.appendChild(docLink);\n",
              "        }\n",
              "      </script>\n",
              "    </div>\n",
              "  </div>\n",
              "  "
            ]
          },
          "metadata": {},
          "execution_count": 54
        }
      ]
    },
    {
      "cell_type": "code",
      "source": [
        "resultados_teste = model.predict(test)"
      ],
      "metadata": {
        "id": "kH5q4M4XEEA-"
      },
      "execution_count": 55,
      "outputs": []
    },
    {
      "cell_type": "code",
      "source": [
        "prop_teste = pd.Series(resultados_teste).value_counts(normalize=True) * 100\n",
        "\n",
        "print(f'No conjunto de teste, '\n",
        "      f'o modelo classificou {prop_teste[1]:.2f}% dos clientes como inadimplentes '\n",
        "      f'e {prop_teste[0]:.2f}% como adimplentes.')"
      ],
      "metadata": {
        "colab": {
          "base_uri": "https://localhost:8080/"
        },
        "id": "HgxDrgIaFhrk",
        "outputId": "250b2a15-6372-4430-859a-beb41c1cb7b7"
      },
      "execution_count": 56,
      "outputs": [
        {
          "output_type": "stream",
          "name": "stdout",
          "text": [
            "No conjunto de teste, o modelo classificou 52.00% dos clientes como inadimplentes e 48.00% como adimplentes.\n"
          ]
        }
      ]
    },
    {
      "cell_type": "code",
      "source": [
        "test['INADIMPLENTE'] = resultados_teste"
      ],
      "metadata": {
        "id": "f6u5d4aAFki-"
      },
      "execution_count": 57,
      "outputs": []
    },
    {
      "cell_type": "code",
      "source": [
        "test.head()"
      ],
      "metadata": {
        "colab": {
          "base_uri": "https://localhost:8080/",
          "height": 270
        },
        "id": "dNRjrHrmFnTx",
        "outputId": "ede67ea1-7b35-4c34-a7db-722219faa8f8"
      },
      "execution_count": 58,
      "outputs": [
        {
          "output_type": "execute_result",
          "data": {
            "text/plain": [
              "     CHEQUEESPECIAL  USO_CREDITO  HISTORICO_CREDITO  BALANCO_ATUAL  \\\n",
              "800               1           24                  2           1597   \n",
              "801               3           18                  2           1795   \n",
              "802               2           20                  2           4272   \n",
              "803               1           12                  2            976   \n",
              "804               3           12                  3           7472   \n",
              "\n",
              "     BALANCO_MEDIO_CREDITO  EMPREGADO  TIPOSBENS  IDADE  OUTROSPLANOSPGTO  \\\n",
              "800                      2          1          3     54                 0   \n",
              "801                      2          1          1     48                 1   \n",
              "802                      2          1          2     24                 0   \n",
              "803                      1          1          0     35                 0   \n",
              "804                      1          5          1     24                 0   \n",
              "\n",
              "     RESIDENCIA  CREDITOSEXISTENTES  EMPREGO  DEPENDENTES  TRABAESTRANGEIRO  \\\n",
              "800           2                   2        0            2                 1   \n",
              "801           1                   2        2            1                 1   \n",
              "802           0                   2        0            1                 1   \n",
              "803           0                   2        0            1                 1   \n",
              "804           1                   1        3            1                 1   \n",
              "\n",
              "     INADIMPLENTE  \n",
              "800             0  \n",
              "801             1  \n",
              "802             1  \n",
              "803             0  \n",
              "804             1  "
            ],
            "text/html": [
              "\n",
              "  <div id=\"df-877fa8df-a55f-4cc5-b055-c6f60501a2f1\">\n",
              "    <div class=\"colab-df-container\">\n",
              "      <div>\n",
              "<style scoped>\n",
              "    .dataframe tbody tr th:only-of-type {\n",
              "        vertical-align: middle;\n",
              "    }\n",
              "\n",
              "    .dataframe tbody tr th {\n",
              "        vertical-align: top;\n",
              "    }\n",
              "\n",
              "    .dataframe thead th {\n",
              "        text-align: right;\n",
              "    }\n",
              "</style>\n",
              "<table border=\"1\" class=\"dataframe\">\n",
              "  <thead>\n",
              "    <tr style=\"text-align: right;\">\n",
              "      <th></th>\n",
              "      <th>CHEQUEESPECIAL</th>\n",
              "      <th>USO_CREDITO</th>\n",
              "      <th>HISTORICO_CREDITO</th>\n",
              "      <th>BALANCO_ATUAL</th>\n",
              "      <th>BALANCO_MEDIO_CREDITO</th>\n",
              "      <th>EMPREGADO</th>\n",
              "      <th>TIPOSBENS</th>\n",
              "      <th>IDADE</th>\n",
              "      <th>OUTROSPLANOSPGTO</th>\n",
              "      <th>RESIDENCIA</th>\n",
              "      <th>CREDITOSEXISTENTES</th>\n",
              "      <th>EMPREGO</th>\n",
              "      <th>DEPENDENTES</th>\n",
              "      <th>TRABAESTRANGEIRO</th>\n",
              "      <th>INADIMPLENTE</th>\n",
              "    </tr>\n",
              "  </thead>\n",
              "  <tbody>\n",
              "    <tr>\n",
              "      <th>800</th>\n",
              "      <td>1</td>\n",
              "      <td>24</td>\n",
              "      <td>2</td>\n",
              "      <td>1597</td>\n",
              "      <td>2</td>\n",
              "      <td>1</td>\n",
              "      <td>3</td>\n",
              "      <td>54</td>\n",
              "      <td>0</td>\n",
              "      <td>2</td>\n",
              "      <td>2</td>\n",
              "      <td>0</td>\n",
              "      <td>2</td>\n",
              "      <td>1</td>\n",
              "      <td>0</td>\n",
              "    </tr>\n",
              "    <tr>\n",
              "      <th>801</th>\n",
              "      <td>3</td>\n",
              "      <td>18</td>\n",
              "      <td>2</td>\n",
              "      <td>1795</td>\n",
              "      <td>2</td>\n",
              "      <td>1</td>\n",
              "      <td>1</td>\n",
              "      <td>48</td>\n",
              "      <td>1</td>\n",
              "      <td>1</td>\n",
              "      <td>2</td>\n",
              "      <td>2</td>\n",
              "      <td>1</td>\n",
              "      <td>1</td>\n",
              "      <td>1</td>\n",
              "    </tr>\n",
              "    <tr>\n",
              "      <th>802</th>\n",
              "      <td>2</td>\n",
              "      <td>20</td>\n",
              "      <td>2</td>\n",
              "      <td>4272</td>\n",
              "      <td>2</td>\n",
              "      <td>1</td>\n",
              "      <td>2</td>\n",
              "      <td>24</td>\n",
              "      <td>0</td>\n",
              "      <td>0</td>\n",
              "      <td>2</td>\n",
              "      <td>0</td>\n",
              "      <td>1</td>\n",
              "      <td>1</td>\n",
              "      <td>1</td>\n",
              "    </tr>\n",
              "    <tr>\n",
              "      <th>803</th>\n",
              "      <td>1</td>\n",
              "      <td>12</td>\n",
              "      <td>2</td>\n",
              "      <td>976</td>\n",
              "      <td>1</td>\n",
              "      <td>1</td>\n",
              "      <td>0</td>\n",
              "      <td>35</td>\n",
              "      <td>0</td>\n",
              "      <td>0</td>\n",
              "      <td>2</td>\n",
              "      <td>0</td>\n",
              "      <td>1</td>\n",
              "      <td>1</td>\n",
              "      <td>0</td>\n",
              "    </tr>\n",
              "    <tr>\n",
              "      <th>804</th>\n",
              "      <td>3</td>\n",
              "      <td>12</td>\n",
              "      <td>3</td>\n",
              "      <td>7472</td>\n",
              "      <td>1</td>\n",
              "      <td>5</td>\n",
              "      <td>1</td>\n",
              "      <td>24</td>\n",
              "      <td>0</td>\n",
              "      <td>1</td>\n",
              "      <td>1</td>\n",
              "      <td>3</td>\n",
              "      <td>1</td>\n",
              "      <td>1</td>\n",
              "      <td>1</td>\n",
              "    </tr>\n",
              "  </tbody>\n",
              "</table>\n",
              "</div>\n",
              "      <button class=\"colab-df-convert\" onclick=\"convertToInteractive('df-877fa8df-a55f-4cc5-b055-c6f60501a2f1')\"\n",
              "              title=\"Convert this dataframe to an interactive table.\"\n",
              "              style=\"display:none;\">\n",
              "        \n",
              "  <svg xmlns=\"http://www.w3.org/2000/svg\" height=\"24px\"viewBox=\"0 0 24 24\"\n",
              "       width=\"24px\">\n",
              "    <path d=\"M0 0h24v24H0V0z\" fill=\"none\"/>\n",
              "    <path d=\"M18.56 5.44l.94 2.06.94-2.06 2.06-.94-2.06-.94-.94-2.06-.94 2.06-2.06.94zm-11 1L8.5 8.5l.94-2.06 2.06-.94-2.06-.94L8.5 2.5l-.94 2.06-2.06.94zm10 10l.94 2.06.94-2.06 2.06-.94-2.06-.94-.94-2.06-.94 2.06-2.06.94z\"/><path d=\"M17.41 7.96l-1.37-1.37c-.4-.4-.92-.59-1.43-.59-.52 0-1.04.2-1.43.59L10.3 9.45l-7.72 7.72c-.78.78-.78 2.05 0 2.83L4 21.41c.39.39.9.59 1.41.59.51 0 1.02-.2 1.41-.59l7.78-7.78 2.81-2.81c.8-.78.8-2.07 0-2.86zM5.41 20L4 18.59l7.72-7.72 1.47 1.35L5.41 20z\"/>\n",
              "  </svg>\n",
              "      </button>\n",
              "      \n",
              "  <style>\n",
              "    .colab-df-container {\n",
              "      display:flex;\n",
              "      flex-wrap:wrap;\n",
              "      gap: 12px;\n",
              "    }\n",
              "\n",
              "    .colab-df-convert {\n",
              "      background-color: #E8F0FE;\n",
              "      border: none;\n",
              "      border-radius: 50%;\n",
              "      cursor: pointer;\n",
              "      display: none;\n",
              "      fill: #1967D2;\n",
              "      height: 32px;\n",
              "      padding: 0 0 0 0;\n",
              "      width: 32px;\n",
              "    }\n",
              "\n",
              "    .colab-df-convert:hover {\n",
              "      background-color: #E2EBFA;\n",
              "      box-shadow: 0px 1px 2px rgba(60, 64, 67, 0.3), 0px 1px 3px 1px rgba(60, 64, 67, 0.15);\n",
              "      fill: #174EA6;\n",
              "    }\n",
              "\n",
              "    [theme=dark] .colab-df-convert {\n",
              "      background-color: #3B4455;\n",
              "      fill: #D2E3FC;\n",
              "    }\n",
              "\n",
              "    [theme=dark] .colab-df-convert:hover {\n",
              "      background-color: #434B5C;\n",
              "      box-shadow: 0px 1px 3px 1px rgba(0, 0, 0, 0.15);\n",
              "      filter: drop-shadow(0px 1px 2px rgba(0, 0, 0, 0.3));\n",
              "      fill: #FFFFFF;\n",
              "    }\n",
              "  </style>\n",
              "\n",
              "      <script>\n",
              "        const buttonEl =\n",
              "          document.querySelector('#df-877fa8df-a55f-4cc5-b055-c6f60501a2f1 button.colab-df-convert');\n",
              "        buttonEl.style.display =\n",
              "          google.colab.kernel.accessAllowed ? 'block' : 'none';\n",
              "\n",
              "        async function convertToInteractive(key) {\n",
              "          const element = document.querySelector('#df-877fa8df-a55f-4cc5-b055-c6f60501a2f1');\n",
              "          const dataTable =\n",
              "            await google.colab.kernel.invokeFunction('convertToInteractive',\n",
              "                                                     [key], {});\n",
              "          if (!dataTable) return;\n",
              "\n",
              "          const docLinkHtml = 'Like what you see? Visit the ' +\n",
              "            '<a target=\"_blank\" href=https://colab.research.google.com/notebooks/data_table.ipynb>data table notebook</a>'\n",
              "            + ' to learn more about interactive tables.';\n",
              "          element.innerHTML = '';\n",
              "          dataTable['output_type'] = 'display_data';\n",
              "          await google.colab.output.renderOutput(dataTable, element);\n",
              "          const docLink = document.createElement('div');\n",
              "          docLink.innerHTML = docLinkHtml;\n",
              "          element.appendChild(docLink);\n",
              "        }\n",
              "      </script>\n",
              "    </div>\n",
              "  </div>\n",
              "  "
            ]
          },
          "metadata": {},
          "execution_count": 58
        }
      ]
    },
    {
      "cell_type": "code",
      "source": [
        "plt.figure(figsize=(10,5))\n",
        "plt.ylabel(\"Total (em %)\")\n",
        "plt.yticks(np.arange(0, 100, step=10))\n",
        "plt.title(\"Distribuição de clientes inadimplentes e adimplentes\")\n",
        "\n",
        "(test.INADIMPLENTE.value_counts(normalize=True, sort=False)*100) \\\n",
        "  .plot.bar(color=sns.color_palette('muted'))\n",
        "\n",
        "plt.xticks(rotation=\"horizontal\")\n",
        "\n",
        "plt.show()"
      ],
      "metadata": {
        "colab": {
          "base_uri": "https://localhost:8080/",
          "height": 336
        },
        "id": "8NTFUA7EHs-s",
        "outputId": "1e9687c9-902b-4cd5-dcd6-c201d81425c0"
      },
      "execution_count": 59,
      "outputs": [
        {
          "output_type": "display_data",
          "data": {
            "text/plain": [
              "<Figure size 720x360 with 1 Axes>"
            ],
            "image/png": "[encoded data removed]"
          },
          "metadata": {
            "needs_background": "light"
          }
        }
      ]
    },
    {
      "cell_type": "markdown",
      "source": [
        "# Teste de Hipótese\n"
      ],
      "metadata": {
        "id": "Is868RddHAjB"
      }
    },
    {
      "cell_type": "markdown",
      "source": [
        "## Shapiro"
      ],
      "metadata": {
        "id": "dQHxmRLINpIk"
      }
    },
    {
      "cell_type": "code",
      "source": [
        "from scipy.stats import shapiro"
      ],
      "metadata": {
        "id": "qWVEeRm8LC3n"
      },
      "execution_count": 60,
      "outputs": []
    },
    {
      "cell_type": "code",
      "source": [
        "for column in test.columns:\n",
        "  stat, p = shapiro(test[str(column)])\n",
        "  \n",
        "  norm = \"Normal\" if p > 0.05 else \"Não Normal\"\n",
        "\n",
        "  print(f'Coluna {column} é {norm} através dos valores de stat=%.25f e p=%.25f\\n' % (stat, p))"
      ],
      "metadata": {
        "colab": {
          "base_uri": "https://localhost:8080/"
        },
        "id": "PhVBPAkaMvdN",
        "outputId": "2d955cb0-6326-440b-afa1-a5126721052c"
      },
      "execution_count": 61,
      "outputs": [
        {
          "output_type": "stream",
          "name": "stdout",
          "text": [
            "Coluna CHEQUEESPECIAL é Não Normal através dos valores de stat=0.8173207044601440429687500 e p=0.0000000000000142778465510\n",
            "\n",
            "Coluna USO_CREDITO é Não Normal através dos valores de stat=0.9259945154190063476562500 e p=0.0000000164115245837592738\n",
            "\n",
            "Coluna HISTORICO_CREDITO é Não Normal através dos valores de stat=0.8338478803634643554687500 e p=0.0000000000000753618765699\n",
            "\n",
            "Coluna BALANCO_ATUAL é Não Normal através dos valores de stat=0.7868455648422241210937500 e p=0.0000000000000008623468794\n",
            "\n",
            "Coluna BALANCO_MEDIO_CREDITO é Não Normal através dos valores de stat=0.7368661165237426757812500 e p=0.0000000000000000152863126\n",
            "\n",
            "Coluna EMPREGADO é Não Normal através dos valores de stat=0.8928866982460021972656250 e p=0.0000000000906464209249336\n",
            "\n",
            "Coluna TIPOSBENS é Não Normal através dos valores de stat=0.8529100418090820312500000 e p=0.0000000000005966765709992\n",
            "\n",
            "Coluna IDADE é Não Normal através dos valores de stat=0.9309332370758056640625000 e p=0.0000000400816446699536755\n",
            "\n",
            "Coluna OUTROSPLANOSPGTO é Não Normal através dos valores de stat=0.5027734041213989257812500 e p=0.0000000000000000000000191\n",
            "\n",
            "Coluna RESIDENCIA é Não Normal através dos valores de stat=0.6076424717903137207031250 e p=0.0000000000000000000038543\n",
            "\n",
            "Coluna CREDITOSEXISTENTES é Não Normal através dos valores de stat=0.6790136098861694335937500 e p=0.0000000000000000002751944\n",
            "\n",
            "Coluna EMPREGO é Não Normal através dos valores de stat=0.6858738660812377929687500 e p=0.0000000000000000004301717\n",
            "\n",
            "Coluna DEPENDENTES é Não Normal através dos valores de stat=0.4723054170608520507812500 e p=0.0000000000000000000000048\n",
            "\n",
            "Coluna TRABAESTRANGEIRO é Não Normal através dos valores de stat=0.2241291403770446777343750 e p=0.0000000000000000000000000\n",
            "\n",
            "Coluna INADIMPLENTE é Não Normal através dos valores de stat=0.6358534097671508789062500 e p=0.0000000000000000000193003\n",
            "\n"
          ]
        }
      ]
    }
  ]
}