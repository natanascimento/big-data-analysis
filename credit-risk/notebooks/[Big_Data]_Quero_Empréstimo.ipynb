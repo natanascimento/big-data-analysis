{
  "nbformat": 4,
  "nbformat_minor": 0,
  "metadata": {
    "colab": {
      "name": "[Big Data] Quero Empréstimo.ipynb",
      "provenance": [],
      "collapsed_sections": [],
      "toc_visible": true,
      "authorship_tag": "ABX9TyPisclE/eGas9oP82QnW/MD",
      "include_colab_link": true
    },
    "kernelspec": {
      "name": "python3",
      "display_name": "Python 3"
    },
    "language_info": {
      "name": "python"
    }
  },
  "cells": [
    {
      "cell_type": "markdown",
      "metadata": {
        "id": "view-in-github",
        "colab_type": "text"
      },
      "source": [
        "<a href=\"https://colab.research.google.com/github/natanascimento/big-data-analysis/blob/task%2Fupdate_notebooks/credit-risk/notebooks/%5BBig_Data%5D_Quero_Empr%C3%A9stimo.ipynb\" target=\"_parent\"><img src=\"https://colab.research.google.com/assets/colab-badge.svg\" alt=\"Open In Colab\"/></a>"
      ]
    },
    {
      "cell_type": "markdown",
      "source": [
        "# 1. Instalando dependências"
      ],
      "metadata": {
        "id": "sYJoLmKkIx1I"
      }
    },
    {
      "cell_type": "code",
      "source": [
        "!pip install pandasql"
      ],
      "metadata": {
        "colab": {
          "base_uri": "https://localhost:8080/"
        },
        "id": "uPYMdjP4I1Ph",
        "outputId": "6a786167-3756-4f7f-81c0-26a62c26a9bc"
      },
      "execution_count": 1,
      "outputs": [
        {
          "output_type": "stream",
          "name": "stdout",
          "text": [
            "Requirement already satisfied: pandasql in /usr/local/lib/python3.7/dist-packages (0.7.3)\n",
            "Requirement already satisfied: pandas in /usr/local/lib/python3.7/dist-packages (from pandasql) (1.3.5)\n",
            "Requirement already satisfied: sqlalchemy in /usr/local/lib/python3.7/dist-packages (from pandasql) (1.4.32)\n",
            "Requirement already satisfied: numpy in /usr/local/lib/python3.7/dist-packages (from pandasql) (1.21.5)\n",
            "Requirement already satisfied: pytz>=2017.3 in /usr/local/lib/python3.7/dist-packages (from pandas->pandasql) (2018.9)\n",
            "Requirement already satisfied: python-dateutil>=2.7.3 in /usr/local/lib/python3.7/dist-packages (from pandas->pandasql) (2.8.2)\n",
            "Requirement already satisfied: six>=1.5 in /usr/local/lib/python3.7/dist-packages (from python-dateutil>=2.7.3->pandas->pandasql) (1.15.0)\n",
            "Requirement already satisfied: importlib-metadata in /usr/local/lib/python3.7/dist-packages (from sqlalchemy->pandasql) (4.11.3)\n",
            "Requirement already satisfied: greenlet!=0.4.17 in /usr/local/lib/python3.7/dist-packages (from sqlalchemy->pandasql) (1.1.2)\n",
            "Requirement already satisfied: typing-extensions>=3.6.4 in /usr/local/lib/python3.7/dist-packages (from importlib-metadata->sqlalchemy->pandasql) (3.10.0.2)\n",
            "Requirement already satisfied: zipp>=0.5 in /usr/local/lib/python3.7/dist-packages (from importlib-metadata->sqlalchemy->pandasql) (3.7.0)\n"
          ]
        }
      ]
    },
    {
      "cell_type": "markdown",
      "source": [
        "# Importação de dependências"
      ],
      "metadata": {
        "id": "EJ-7FYNVEQlC"
      }
    },
    {
      "cell_type": "code",
      "source": [
        "import warnings\n",
        "\n",
        "import numpy as np\n",
        "import pandas as pd\n",
        "from matplotlib import pyplot as plt\n",
        "import seaborn as sns\n",
        "\n",
        "from sklearn.model_selection import train_test_split\n",
        "from imblearn.combine import SMOTEENN\n",
        "\n",
        "from sklearn.linear_model import LogisticRegression\n",
        "from sklearn.tree import DecisionTreeClassifier\n",
        "from sklearn.ensemble import RandomForestClassifier\n",
        "\n",
        "from sklearn.model_selection import cross_validate\n",
        "\n",
        "from sklearn.feature_selection import RFECV\n",
        "\n",
        "from sklearn.model_selection import GridSearchCV\n",
        "\n",
        "from sklearn.metrics import precision_recall_curve, roc_auc_score\n",
        "from sklearn.metrics import plot_roc_curve, plot_confusion_matrix\n",
        "\n",
        "from pandasql import sqldf"
      ],
      "metadata": {
        "id": "gSf-NQzOBXqj"
      },
      "execution_count": 2,
      "outputs": []
    },
    {
      "cell_type": "code",
      "source": [
        "# Filtrando tipos de avisos para serem ignorados\n",
        "\n",
        "warnings.filterwarnings(\"ignore\", category=DeprecationWarning)\n",
        "warnings.filterwarnings(\"ignore\", category=UserWarning)\n",
        "warnings.filterwarnings(\"ignore\", category=FutureWarning)"
      ],
      "metadata": {
        "id": "G8QnJAvifCBD"
      },
      "execution_count": 3,
      "outputs": []
    },
    {
      "cell_type": "markdown",
      "source": [
        "# Dicionário de dados"
      ],
      "metadata": {
        "id": "9E6giqZZfKBI"
      }
    },
    {
      "cell_type": "code",
      "source": [
        "columns_desc = [[\"CHEQUEESPECIAL\", \"Valor que o cliente possui em cheque especial. 0 <= x < 200 indica entre 1 e 199 reais, por exemplo\"], \n",
        "                [\"USO_CREDITO\" , \"Tempo, em meses, que o cliente usa o crédito\"], \n",
        "                [\"HISTORICO_CREDITO\", \"Observação do histórico de crédito\"], \n",
        "                [\"PROPOSITO\", \"Propósito do empréstimo\"], \n",
        "                [\"BALANCO_ATUAL\", \"Saldo do cliente\"], \n",
        "                [\"BALANCO_MEDIO_CREDITO\", \"Bônus que o cliente possui (R$)\"], \n",
        "                [\"EMPREGADO\", \"Quantidade de anos que o cliente está empregado\"], \n",
        "                [\"LOCAL\", \"Código da localização do cliente\"], \n",
        "                [\"ESTADOCIVIL\", \"Estado civil do cliente\"], \n",
        "                [\"OUTRASFUNCOES\", \"Outras funções do crédito\"], \n",
        "                [\"RESIDENCIADESDE\", \"Há quantos anos o cliente possui residência fixa\"], \n",
        "                [\"TIPOSBENS\", \"Tipos de bens\"], \n",
        "                [\"IDADE\", \"Idade\"], \n",
        "                [\"OUTROSPLANOSPGTO\", \"Outros planos de pagamento\"], \n",
        "                [\"RESIDENCIA\", \"Qual é a forma de residência\"], \n",
        "                [\"CREDITOSEXISTENTES\", \"Quantidade de contratos que o cliente possui\"], \n",
        "                [\"EMPREGO\", \"Modalidade de emprego que o cliente se enquadra\"], \n",
        "                [\"DEPENDENTES\", \"Número de dependentes\"], \n",
        "                [\"TRABAESTRANGEIRO\", \"Indicativo se o cliente trabalha em empresa estrangeira\"], \n",
        "                [\"CLASSE\", \"Classificação do cliente (segundo especialista): Bom ou Ruim\"]]"
      ],
      "metadata": {
        "id": "E-l_8b7CfghL"
      },
      "execution_count": 4,
      "outputs": []
    },
    {
      "cell_type": "code",
      "source": [
        "data_dict = pd.DataFrame(columns_desc, columns=[\"variável\", \"descrição\"])"
      ],
      "metadata": {
        "id": "hKZRpEt19ZIO"
      },
      "execution_count": 5,
      "outputs": []
    },
    {
      "cell_type": "code",
      "source": [
        "data_dict"
      ],
      "metadata": {
        "colab": {
          "base_uri": "https://localhost:8080/",
          "height": 677
        },
        "id": "k1SHTi_pg_GJ",
        "outputId": "33613c35-387a-47d1-c033-f7b5d1112b35"
      },
      "execution_count": 6,
      "outputs": [
        {
          "output_type": "execute_result",
          "data": {
            "text/plain": [
              "                 variável                                          descrição\n",
              "0          CHEQUEESPECIAL  Valor que o cliente possui em cheque especial....\n",
              "1             USO_CREDITO       Tempo, em meses, que o cliente usa o crédito\n",
              "2       HISTORICO_CREDITO                 Observação do histórico de crédito\n",
              "3               PROPOSITO                            Propósito do empréstimo\n",
              "4           BALANCO_ATUAL                                   Saldo do cliente\n",
              "5   BALANCO_MEDIO_CREDITO                    Bônus que o cliente possui (R$)\n",
              "6               EMPREGADO    Quantidade de anos que o cliente está empregado\n",
              "7                   LOCAL                   Código da localização do cliente\n",
              "8             ESTADOCIVIL                            Estado civil do cliente\n",
              "9           OUTRASFUNCOES                          Outras funções do crédito\n",
              "10        RESIDENCIADESDE   Há quantos anos o cliente possui residência fixa\n",
              "11              TIPOSBENS                                      Tipos de bens\n",
              "12                  IDADE                                              Idade\n",
              "13       OUTROSPLANOSPGTO                         Outros planos de pagamento\n",
              "14             RESIDENCIA                       Qual é a forma de residência\n",
              "15     CREDITOSEXISTENTES       Quantidade de contratos que o cliente possui\n",
              "16                EMPREGO    Modalidade de emprego que o cliente se enquadra\n",
              "17            DEPENDENTES                              Número de dependentes\n",
              "18       TRABAESTRANGEIRO  Indicativo se o cliente trabalha em empresa es...\n",
              "19                 CLASSE  Classificação do cliente (segundo especialista..."
            ],
            "text/html": [
              "\n",
              "  <div id=\"df-94ecdd32-f166-4cf1-972f-051a99e62170\">\n",
              "    <div class=\"colab-df-container\">\n",
              "      <div>\n",
              "<style scoped>\n",
              "    .dataframe tbody tr th:only-of-type {\n",
              "        vertical-align: middle;\n",
              "    }\n",
              "\n",
              "    .dataframe tbody tr th {\n",
              "        vertical-align: top;\n",
              "    }\n",
              "\n",
              "    .dataframe thead th {\n",
              "        text-align: right;\n",
              "    }\n",
              "</style>\n",
              "<table border=\"1\" class=\"dataframe\">\n",
              "  <thead>\n",
              "    <tr style=\"text-align: right;\">\n",
              "      <th></th>\n",
              "      <th>variável</th>\n",
              "      <th>descrição</th>\n",
              "    </tr>\n",
              "  </thead>\n",
              "  <tbody>\n",
              "    <tr>\n",
              "      <th>0</th>\n",
              "      <td>CHEQUEESPECIAL</td>\n",
              "      <td>Valor que o cliente possui em cheque especial....</td>\n",
              "    </tr>\n",
              "    <tr>\n",
              "      <th>1</th>\n",
              "      <td>USO_CREDITO</td>\n",
              "      <td>Tempo, em meses, que o cliente usa o crédito</td>\n",
              "    </tr>\n",
              "    <tr>\n",
              "      <th>2</th>\n",
              "      <td>HISTORICO_CREDITO</td>\n",
              "      <td>Observação do histórico de crédito</td>\n",
              "    </tr>\n",
              "    <tr>\n",
              "      <th>3</th>\n",
              "      <td>PROPOSITO</td>\n",
              "      <td>Propósito do empréstimo</td>\n",
              "    </tr>\n",
              "    <tr>\n",
              "      <th>4</th>\n",
              "      <td>BALANCO_ATUAL</td>\n",
              "      <td>Saldo do cliente</td>\n",
              "    </tr>\n",
              "    <tr>\n",
              "      <th>5</th>\n",
              "      <td>BALANCO_MEDIO_CREDITO</td>\n",
              "      <td>Bônus que o cliente possui (R$)</td>\n",
              "    </tr>\n",
              "    <tr>\n",
              "      <th>6</th>\n",
              "      <td>EMPREGADO</td>\n",
              "      <td>Quantidade de anos que o cliente está empregado</td>\n",
              "    </tr>\n",
              "    <tr>\n",
              "      <th>7</th>\n",
              "      <td>LOCAL</td>\n",
              "      <td>Código da localização do cliente</td>\n",
              "    </tr>\n",
              "    <tr>\n",
              "      <th>8</th>\n",
              "      <td>ESTADOCIVIL</td>\n",
              "      <td>Estado civil do cliente</td>\n",
              "    </tr>\n",
              "    <tr>\n",
              "      <th>9</th>\n",
              "      <td>OUTRASFUNCOES</td>\n",
              "      <td>Outras funções do crédito</td>\n",
              "    </tr>\n",
              "    <tr>\n",
              "      <th>10</th>\n",
              "      <td>RESIDENCIADESDE</td>\n",
              "      <td>Há quantos anos o cliente possui residência fixa</td>\n",
              "    </tr>\n",
              "    <tr>\n",
              "      <th>11</th>\n",
              "      <td>TIPOSBENS</td>\n",
              "      <td>Tipos de bens</td>\n",
              "    </tr>\n",
              "    <tr>\n",
              "      <th>12</th>\n",
              "      <td>IDADE</td>\n",
              "      <td>Idade</td>\n",
              "    </tr>\n",
              "    <tr>\n",
              "      <th>13</th>\n",
              "      <td>OUTROSPLANOSPGTO</td>\n",
              "      <td>Outros planos de pagamento</td>\n",
              "    </tr>\n",
              "    <tr>\n",
              "      <th>14</th>\n",
              "      <td>RESIDENCIA</td>\n",
              "      <td>Qual é a forma de residência</td>\n",
              "    </tr>\n",
              "    <tr>\n",
              "      <th>15</th>\n",
              "      <td>CREDITOSEXISTENTES</td>\n",
              "      <td>Quantidade de contratos que o cliente possui</td>\n",
              "    </tr>\n",
              "    <tr>\n",
              "      <th>16</th>\n",
              "      <td>EMPREGO</td>\n",
              "      <td>Modalidade de emprego que o cliente se enquadra</td>\n",
              "    </tr>\n",
              "    <tr>\n",
              "      <th>17</th>\n",
              "      <td>DEPENDENTES</td>\n",
              "      <td>Número de dependentes</td>\n",
              "    </tr>\n",
              "    <tr>\n",
              "      <th>18</th>\n",
              "      <td>TRABAESTRANGEIRO</td>\n",
              "      <td>Indicativo se o cliente trabalha em empresa es...</td>\n",
              "    </tr>\n",
              "    <tr>\n",
              "      <th>19</th>\n",
              "      <td>CLASSE</td>\n",
              "      <td>Classificação do cliente (segundo especialista...</td>\n",
              "    </tr>\n",
              "  </tbody>\n",
              "</table>\n",
              "</div>\n",
              "      <button class=\"colab-df-convert\" onclick=\"convertToInteractive('df-94ecdd32-f166-4cf1-972f-051a99e62170')\"\n",
              "              title=\"Convert this dataframe to an interactive table.\"\n",
              "              style=\"display:none;\">\n",
              "        \n",
              "  <svg xmlns=\"http://www.w3.org/2000/svg\" height=\"24px\"viewBox=\"0 0 24 24\"\n",
              "       width=\"24px\">\n",
              "    <path d=\"M0 0h24v24H0V0z\" fill=\"none\"/>\n",
              "    <path d=\"M18.56 5.44l.94 2.06.94-2.06 2.06-.94-2.06-.94-.94-2.06-.94 2.06-2.06.94zm-11 1L8.5 8.5l.94-2.06 2.06-.94-2.06-.94L8.5 2.5l-.94 2.06-2.06.94zm10 10l.94 2.06.94-2.06 2.06-.94-2.06-.94-.94-2.06-.94 2.06-2.06.94z\"/><path d=\"M17.41 7.96l-1.37-1.37c-.4-.4-.92-.59-1.43-.59-.52 0-1.04.2-1.43.59L10.3 9.45l-7.72 7.72c-.78.78-.78 2.05 0 2.83L4 21.41c.39.39.9.59 1.41.59.51 0 1.02-.2 1.41-.59l7.78-7.78 2.81-2.81c.8-.78.8-2.07 0-2.86zM5.41 20L4 18.59l7.72-7.72 1.47 1.35L5.41 20z\"/>\n",
              "  </svg>\n",
              "      </button>\n",
              "      \n",
              "  <style>\n",
              "    .colab-df-container {\n",
              "      display:flex;\n",
              "      flex-wrap:wrap;\n",
              "      gap: 12px;\n",
              "    }\n",
              "\n",
              "    .colab-df-convert {\n",
              "      background-color: #E8F0FE;\n",
              "      border: none;\n",
              "      border-radius: 50%;\n",
              "      cursor: pointer;\n",
              "      display: none;\n",
              "      fill: #1967D2;\n",
              "      height: 32px;\n",
              "      padding: 0 0 0 0;\n",
              "      width: 32px;\n",
              "    }\n",
              "\n",
              "    .colab-df-convert:hover {\n",
              "      background-color: #E2EBFA;\n",
              "      box-shadow: 0px 1px 2px rgba(60, 64, 67, 0.3), 0px 1px 3px 1px rgba(60, 64, 67, 0.15);\n",
              "      fill: #174EA6;\n",
              "    }\n",
              "\n",
              "    [theme=dark] .colab-df-convert {\n",
              "      background-color: #3B4455;\n",
              "      fill: #D2E3FC;\n",
              "    }\n",
              "\n",
              "    [theme=dark] .colab-df-convert:hover {\n",
              "      background-color: #434B5C;\n",
              "      box-shadow: 0px 1px 3px 1px rgba(0, 0, 0, 0.15);\n",
              "      filter: drop-shadow(0px 1px 2px rgba(0, 0, 0, 0.3));\n",
              "      fill: #FFFFFF;\n",
              "    }\n",
              "  </style>\n",
              "\n",
              "      <script>\n",
              "        const buttonEl =\n",
              "          document.querySelector('#df-94ecdd32-f166-4cf1-972f-051a99e62170 button.colab-df-convert');\n",
              "        buttonEl.style.display =\n",
              "          google.colab.kernel.accessAllowed ? 'block' : 'none';\n",
              "\n",
              "        async function convertToInteractive(key) {\n",
              "          const element = document.querySelector('#df-94ecdd32-f166-4cf1-972f-051a99e62170');\n",
              "          const dataTable =\n",
              "            await google.colab.kernel.invokeFunction('convertToInteractive',\n",
              "                                                     [key], {});\n",
              "          if (!dataTable) return;\n",
              "\n",
              "          const docLinkHtml = 'Like what you see? Visit the ' +\n",
              "            '<a target=\"_blank\" href=https://colab.research.google.com/notebooks/data_table.ipynb>data table notebook</a>'\n",
              "            + ' to learn more about interactive tables.';\n",
              "          element.innerHTML = '';\n",
              "          dataTable['output_type'] = 'display_data';\n",
              "          await google.colab.output.renderOutput(dataTable, element);\n",
              "          const docLink = document.createElement('div');\n",
              "          docLink.innerHTML = docLinkHtml;\n",
              "          element.appendChild(docLink);\n",
              "        }\n",
              "      </script>\n",
              "    </div>\n",
              "  </div>\n",
              "  "
            ]
          },
          "metadata": {},
          "execution_count": 6
        }
      ]
    },
    {
      "cell_type": "markdown",
      "source": [
        "# Carregando ***dataset*** do ***datalake***"
      ],
      "metadata": {
        "id": "yPC7jdBCEd__"
      }
    },
    {
      "cell_type": "code",
      "source": [
        "raw_data_url = \"https://raw.githubusercontent.com/natanascimento/big-data-analysis/main/credit-risk/datalake/raw/rw_credit.csv\""
      ],
      "metadata": {
        "id": "akrMBeucd2fg"
      },
      "execution_count": 7,
      "outputs": []
    },
    {
      "cell_type": "code",
      "source": [
        "dataset = pd.read_csv(raw_data_url, sep=\";\", encoding=\"cp1252\")\n",
        "test = pd.read_csv(raw_data_url, sep=\";\", encoding=\"cp1252\")[800:]"
      ],
      "metadata": {
        "id": "DSu_NjtbDiuo"
      },
      "execution_count": 8,
      "outputs": []
    },
    {
      "cell_type": "markdown",
      "source": [
        "# Análise Exploratória de Dados"
      ],
      "metadata": {
        "id": "lpz1k0LUFKcu"
      }
    },
    {
      "cell_type": "markdown",
      "source": [
        "Analisando as características do dataset como um todo"
      ],
      "metadata": {
        "id": "V_M_4n3fFe--"
      }
    },
    {
      "cell_type": "code",
      "source": [
        "dataset.head()"
      ],
      "metadata": {
        "colab": {
          "base_uri": "https://localhost:8080/",
          "height": 357
        },
        "id": "QnSuH7QDGp4u",
        "outputId": "9b832863-f582-4231-fd44-37751b899605"
      },
      "execution_count": 9,
      "outputs": [
        {
          "output_type": "execute_result",
          "data": {
            "text/plain": [
              "  CHEQUEESPECIAL  USO_CREDITO                      HISTORICO_CREDITO  \\\n",
              "0             <0            6  crítica / outros de crédito existente   \n",
              "1       0<=X<200           48                       existente e pago   \n",
              "2     sem cheque           12  crítica / outros de crédito existente   \n",
              "3             <0           42                       existente e pago   \n",
              "4             <0           24                     atrasos anteriores   \n",
              "\n",
              "             PROPOSITO  BALANCO_ATUAL       BALANCO_MEDIO_CREDITO EMPREGADO  \\\n",
              "0        Computador/TV           1169  nenhuma economia conhecida       >=7   \n",
              "1        Computador/TV           5951                        <100    1<=X<4   \n",
              "2             educação           2096                        <100    4<=X<7   \n",
              "3  mobilia/equipamento           7882                        <100    4<=X<7   \n",
              "4           carro novo           4870                        <100    1<=X<4   \n",
              "\n",
              "   LOCAL         ESTADOCIVIL OUTRASFUNCOES  RESIDENCIADESDE  \\\n",
              "0      4  masculino solteiro        nenhum                4   \n",
              "1      2         fem div/cas        nenhum                2   \n",
              "2      2  masculino solteiro        nenhum                3   \n",
              "3      2  masculino solteiro        fiador                4   \n",
              "4      3  masculino solteiro        nenhum                4   \n",
              "\n",
              "           TIPOSBENS  IDADE OUTROSPLANOSPGTO     RESIDENCIA  \\\n",
              "0       bens imóveis     67           nenhum        própria   \n",
              "1       bens imóveis     22           nenhum        própria   \n",
              "2       bens imóveis     49           nenhum        própria   \n",
              "3     seguro de vida     45           nenhum  gratuitamente   \n",
              "4  nenhuma conhecida     53           nenhum  gratuitamente   \n",
              "\n",
              "   CREDITOSEXISTENTES            EMPREGO  DEPENDENTES TRABAESTRANGEIRO CLASSE  \n",
              "0                   2      especializado            1              sim    bom  \n",
              "1                   1      especializado            1              sim   ruim  \n",
              "2                   1  não especializado            2              sim    bom  \n",
              "3                   1      especializado            2              sim    bom  \n",
              "4                   2      especializado            2              sim   ruim  "
            ],
            "text/html": [
              "\n",
              "  <div id=\"df-f163ebda-b14d-4258-b86a-b36f66b228cf\">\n",
              "    <div class=\"colab-df-container\">\n",
              "      <div>\n",
              "<style scoped>\n",
              "    .dataframe tbody tr th:only-of-type {\n",
              "        vertical-align: middle;\n",
              "    }\n",
              "\n",
              "    .dataframe tbody tr th {\n",
              "        vertical-align: top;\n",
              "    }\n",
              "\n",
              "    .dataframe thead th {\n",
              "        text-align: right;\n",
              "    }\n",
              "</style>\n",
              "<table border=\"1\" class=\"dataframe\">\n",
              "  <thead>\n",
              "    <tr style=\"text-align: right;\">\n",
              "      <th></th>\n",
              "      <th>CHEQUEESPECIAL</th>\n",
              "      <th>USO_CREDITO</th>\n",
              "      <th>HISTORICO_CREDITO</th>\n",
              "      <th>PROPOSITO</th>\n",
              "      <th>BALANCO_ATUAL</th>\n",
              "      <th>BALANCO_MEDIO_CREDITO</th>\n",
              "      <th>EMPREGADO</th>\n",
              "      <th>LOCAL</th>\n",
              "      <th>ESTADOCIVIL</th>\n",
              "      <th>OUTRASFUNCOES</th>\n",
              "      <th>RESIDENCIADESDE</th>\n",
              "      <th>TIPOSBENS</th>\n",
              "      <th>IDADE</th>\n",
              "      <th>OUTROSPLANOSPGTO</th>\n",
              "      <th>RESIDENCIA</th>\n",
              "      <th>CREDITOSEXISTENTES</th>\n",
              "      <th>EMPREGO</th>\n",
              "      <th>DEPENDENTES</th>\n",
              "      <th>TRABAESTRANGEIRO</th>\n",
              "      <th>CLASSE</th>\n",
              "    </tr>\n",
              "  </thead>\n",
              "  <tbody>\n",
              "    <tr>\n",
              "      <th>0</th>\n",
              "      <td>&lt;0</td>\n",
              "      <td>6</td>\n",
              "      <td>crítica / outros de crédito existente</td>\n",
              "      <td>Computador/TV</td>\n",
              "      <td>1169</td>\n",
              "      <td>nenhuma economia conhecida</td>\n",
              "      <td>&gt;=7</td>\n",
              "      <td>4</td>\n",
              "      <td>masculino solteiro</td>\n",
              "      <td>nenhum</td>\n",
              "      <td>4</td>\n",
              "      <td>bens imóveis</td>\n",
              "      <td>67</td>\n",
              "      <td>nenhum</td>\n",
              "      <td>própria</td>\n",
              "      <td>2</td>\n",
              "      <td>especializado</td>\n",
              "      <td>1</td>\n",
              "      <td>sim</td>\n",
              "      <td>bom</td>\n",
              "    </tr>\n",
              "    <tr>\n",
              "      <th>1</th>\n",
              "      <td>0&lt;=X&lt;200</td>\n",
              "      <td>48</td>\n",
              "      <td>existente e pago</td>\n",
              "      <td>Computador/TV</td>\n",
              "      <td>5951</td>\n",
              "      <td>&lt;100</td>\n",
              "      <td>1&lt;=X&lt;4</td>\n",
              "      <td>2</td>\n",
              "      <td>fem div/cas</td>\n",
              "      <td>nenhum</td>\n",
              "      <td>2</td>\n",
              "      <td>bens imóveis</td>\n",
              "      <td>22</td>\n",
              "      <td>nenhum</td>\n",
              "      <td>própria</td>\n",
              "      <td>1</td>\n",
              "      <td>especializado</td>\n",
              "      <td>1</td>\n",
              "      <td>sim</td>\n",
              "      <td>ruim</td>\n",
              "    </tr>\n",
              "    <tr>\n",
              "      <th>2</th>\n",
              "      <td>sem cheque</td>\n",
              "      <td>12</td>\n",
              "      <td>crítica / outros de crédito existente</td>\n",
              "      <td>educação</td>\n",
              "      <td>2096</td>\n",
              "      <td>&lt;100</td>\n",
              "      <td>4&lt;=X&lt;7</td>\n",
              "      <td>2</td>\n",
              "      <td>masculino solteiro</td>\n",
              "      <td>nenhum</td>\n",
              "      <td>3</td>\n",
              "      <td>bens imóveis</td>\n",
              "      <td>49</td>\n",
              "      <td>nenhum</td>\n",
              "      <td>própria</td>\n",
              "      <td>1</td>\n",
              "      <td>não especializado</td>\n",
              "      <td>2</td>\n",
              "      <td>sim</td>\n",
              "      <td>bom</td>\n",
              "    </tr>\n",
              "    <tr>\n",
              "      <th>3</th>\n",
              "      <td>&lt;0</td>\n",
              "      <td>42</td>\n",
              "      <td>existente e pago</td>\n",
              "      <td>mobilia/equipamento</td>\n",
              "      <td>7882</td>\n",
              "      <td>&lt;100</td>\n",
              "      <td>4&lt;=X&lt;7</td>\n",
              "      <td>2</td>\n",
              "      <td>masculino solteiro</td>\n",
              "      <td>fiador</td>\n",
              "      <td>4</td>\n",
              "      <td>seguro de vida</td>\n",
              "      <td>45</td>\n",
              "      <td>nenhum</td>\n",
              "      <td>gratuitamente</td>\n",
              "      <td>1</td>\n",
              "      <td>especializado</td>\n",
              "      <td>2</td>\n",
              "      <td>sim</td>\n",
              "      <td>bom</td>\n",
              "    </tr>\n",
              "    <tr>\n",
              "      <th>4</th>\n",
              "      <td>&lt;0</td>\n",
              "      <td>24</td>\n",
              "      <td>atrasos anteriores</td>\n",
              "      <td>carro novo</td>\n",
              "      <td>4870</td>\n",
              "      <td>&lt;100</td>\n",
              "      <td>1&lt;=X&lt;4</td>\n",
              "      <td>3</td>\n",
              "      <td>masculino solteiro</td>\n",
              "      <td>nenhum</td>\n",
              "      <td>4</td>\n",
              "      <td>nenhuma conhecida</td>\n",
              "      <td>53</td>\n",
              "      <td>nenhum</td>\n",
              "      <td>gratuitamente</td>\n",
              "      <td>2</td>\n",
              "      <td>especializado</td>\n",
              "      <td>2</td>\n",
              "      <td>sim</td>\n",
              "      <td>ruim</td>\n",
              "    </tr>\n",
              "  </tbody>\n",
              "</table>\n",
              "</div>\n",
              "      <button class=\"colab-df-convert\" onclick=\"convertToInteractive('df-f163ebda-b14d-4258-b86a-b36f66b228cf')\"\n",
              "              title=\"Convert this dataframe to an interactive table.\"\n",
              "              style=\"display:none;\">\n",
              "        \n",
              "  <svg xmlns=\"http://www.w3.org/2000/svg\" height=\"24px\"viewBox=\"0 0 24 24\"\n",
              "       width=\"24px\">\n",
              "    <path d=\"M0 0h24v24H0V0z\" fill=\"none\"/>\n",
              "    <path d=\"M18.56 5.44l.94 2.06.94-2.06 2.06-.94-2.06-.94-.94-2.06-.94 2.06-2.06.94zm-11 1L8.5 8.5l.94-2.06 2.06-.94-2.06-.94L8.5 2.5l-.94 2.06-2.06.94zm10 10l.94 2.06.94-2.06 2.06-.94-2.06-.94-.94-2.06-.94 2.06-2.06.94z\"/><path d=\"M17.41 7.96l-1.37-1.37c-.4-.4-.92-.59-1.43-.59-.52 0-1.04.2-1.43.59L10.3 9.45l-7.72 7.72c-.78.78-.78 2.05 0 2.83L4 21.41c.39.39.9.59 1.41.59.51 0 1.02-.2 1.41-.59l7.78-7.78 2.81-2.81c.8-.78.8-2.07 0-2.86zM5.41 20L4 18.59l7.72-7.72 1.47 1.35L5.41 20z\"/>\n",
              "  </svg>\n",
              "      </button>\n",
              "      \n",
              "  <style>\n",
              "    .colab-df-container {\n",
              "      display:flex;\n",
              "      flex-wrap:wrap;\n",
              "      gap: 12px;\n",
              "    }\n",
              "\n",
              "    .colab-df-convert {\n",
              "      background-color: #E8F0FE;\n",
              "      border: none;\n",
              "      border-radius: 50%;\n",
              "      cursor: pointer;\n",
              "      display: none;\n",
              "      fill: #1967D2;\n",
              "      height: 32px;\n",
              "      padding: 0 0 0 0;\n",
              "      width: 32px;\n",
              "    }\n",
              "\n",
              "    .colab-df-convert:hover {\n",
              "      background-color: #E2EBFA;\n",
              "      box-shadow: 0px 1px 2px rgba(60, 64, 67, 0.3), 0px 1px 3px 1px rgba(60, 64, 67, 0.15);\n",
              "      fill: #174EA6;\n",
              "    }\n",
              "\n",
              "    [theme=dark] .colab-df-convert {\n",
              "      background-color: #3B4455;\n",
              "      fill: #D2E3FC;\n",
              "    }\n",
              "\n",
              "    [theme=dark] .colab-df-convert:hover {\n",
              "      background-color: #434B5C;\n",
              "      box-shadow: 0px 1px 3px 1px rgba(0, 0, 0, 0.15);\n",
              "      filter: drop-shadow(0px 1px 2px rgba(0, 0, 0, 0.3));\n",
              "      fill: #FFFFFF;\n",
              "    }\n",
              "  </style>\n",
              "\n",
              "      <script>\n",
              "        const buttonEl =\n",
              "          document.querySelector('#df-f163ebda-b14d-4258-b86a-b36f66b228cf button.colab-df-convert');\n",
              "        buttonEl.style.display =\n",
              "          google.colab.kernel.accessAllowed ? 'block' : 'none';\n",
              "\n",
              "        async function convertToInteractive(key) {\n",
              "          const element = document.querySelector('#df-f163ebda-b14d-4258-b86a-b36f66b228cf');\n",
              "          const dataTable =\n",
              "            await google.colab.kernel.invokeFunction('convertToInteractive',\n",
              "                                                     [key], {});\n",
              "          if (!dataTable) return;\n",
              "\n",
              "          const docLinkHtml = 'Like what you see? Visit the ' +\n",
              "            '<a target=\"_blank\" href=https://colab.research.google.com/notebooks/data_table.ipynb>data table notebook</a>'\n",
              "            + ' to learn more about interactive tables.';\n",
              "          element.innerHTML = '';\n",
              "          dataTable['output_type'] = 'display_data';\n",
              "          await google.colab.output.renderOutput(dataTable, element);\n",
              "          const docLink = document.createElement('div');\n",
              "          docLink.innerHTML = docLinkHtml;\n",
              "          element.appendChild(docLink);\n",
              "        }\n",
              "      </script>\n",
              "    </div>\n",
              "  </div>\n",
              "  "
            ]
          },
          "metadata": {},
          "execution_count": 9
        }
      ]
    },
    {
      "cell_type": "code",
      "source": [
        "dataset.info()"
      ],
      "metadata": {
        "colab": {
          "base_uri": "https://localhost:8080/"
        },
        "id": "TFEg61guF-DF",
        "outputId": "1cd4e543-31d1-4b8b-99b8-ce54d090543c"
      },
      "execution_count": 10,
      "outputs": [
        {
          "output_type": "stream",
          "name": "stdout",
          "text": [
            "<class 'pandas.core.frame.DataFrame'>\n",
            "RangeIndex: 1000 entries, 0 to 999\n",
            "Data columns (total 20 columns):\n",
            " #   Column                 Non-Null Count  Dtype \n",
            "---  ------                 --------------  ----- \n",
            " 0   CHEQUEESPECIAL         1000 non-null   object\n",
            " 1   USO_CREDITO            1000 non-null   int64 \n",
            " 2   HISTORICO_CREDITO      1000 non-null   object\n",
            " 3   PROPOSITO              1000 non-null   object\n",
            " 4   BALANCO_ATUAL          1000 non-null   int64 \n",
            " 5   BALANCO_MEDIO_CREDITO  1000 non-null   object\n",
            " 6   EMPREGADO              1000 non-null   object\n",
            " 7   LOCAL                  1000 non-null   int64 \n",
            " 8   ESTADOCIVIL            1000 non-null   object\n",
            " 9   OUTRASFUNCOES          1000 non-null   object\n",
            " 10  RESIDENCIADESDE        1000 non-null   int64 \n",
            " 11  TIPOSBENS              1000 non-null   object\n",
            " 12  IDADE                  1000 non-null   int64 \n",
            " 13  OUTROSPLANOSPGTO       1000 non-null   object\n",
            " 14  RESIDENCIA             1000 non-null   object\n",
            " 15  CREDITOSEXISTENTES     1000 non-null   int64 \n",
            " 16  EMPREGO                1000 non-null   object\n",
            " 17  DEPENDENTES            1000 non-null   int64 \n",
            " 18  TRABAESTRANGEIRO       1000 non-null   object\n",
            " 19  CLASSE                 1000 non-null   object\n",
            "dtypes: int64(7), object(13)\n",
            "memory usage: 156.4+ KB\n"
          ]
        }
      ]
    },
    {
      "cell_type": "code",
      "source": [
        "dataset.describe()"
      ],
      "metadata": {
        "colab": {
          "base_uri": "https://localhost:8080/",
          "height": 300
        },
        "id": "o-V0Mja4Fbaa",
        "outputId": "714e496f-18f1-4b52-980b-7e06e269aa51"
      },
      "execution_count": 11,
      "outputs": [
        {
          "output_type": "execute_result",
          "data": {
            "text/plain": [
              "       USO_CREDITO  BALANCO_ATUAL        LOCAL  RESIDENCIADESDE        IDADE  \\\n",
              "count  1000.000000    1000.000000  1000.000000      1000.000000  1000.000000   \n",
              "mean     20.903000    3271.258000     2.973000         2.845000    35.546000   \n",
              "std      12.058814    2822.736876     1.118715         1.103718    11.375469   \n",
              "min       4.000000     250.000000     1.000000         1.000000    19.000000   \n",
              "25%      12.000000    1365.500000     2.000000         2.000000    27.000000   \n",
              "50%      18.000000    2319.500000     3.000000         3.000000    33.000000   \n",
              "75%      24.000000    3972.250000     4.000000         4.000000    42.000000   \n",
              "max      72.000000   18424.000000     4.000000         4.000000    75.000000   \n",
              "\n",
              "       CREDITOSEXISTENTES  DEPENDENTES  \n",
              "count         1000.000000  1000.000000  \n",
              "mean             1.407000     1.155000  \n",
              "std              0.577654     0.362086  \n",
              "min              1.000000     1.000000  \n",
              "25%              1.000000     1.000000  \n",
              "50%              1.000000     1.000000  \n",
              "75%              2.000000     1.000000  \n",
              "max              4.000000     2.000000  "
            ],
            "text/html": [
              "\n",
              "  <div id=\"df-c6696c1c-4bd8-47db-8ae7-16b61299b642\">\n",
              "    <div class=\"colab-df-container\">\n",
              "      <div>\n",
              "<style scoped>\n",
              "    .dataframe tbody tr th:only-of-type {\n",
              "        vertical-align: middle;\n",
              "    }\n",
              "\n",
              "    .dataframe tbody tr th {\n",
              "        vertical-align: top;\n",
              "    }\n",
              "\n",
              "    .dataframe thead th {\n",
              "        text-align: right;\n",
              "    }\n",
              "</style>\n",
              "<table border=\"1\" class=\"dataframe\">\n",
              "  <thead>\n",
              "    <tr style=\"text-align: right;\">\n",
              "      <th></th>\n",
              "      <th>USO_CREDITO</th>\n",
              "      <th>BALANCO_ATUAL</th>\n",
              "      <th>LOCAL</th>\n",
              "      <th>RESIDENCIADESDE</th>\n",
              "      <th>IDADE</th>\n",
              "      <th>CREDITOSEXISTENTES</th>\n",
              "      <th>DEPENDENTES</th>\n",
              "    </tr>\n",
              "  </thead>\n",
              "  <tbody>\n",
              "    <tr>\n",
              "      <th>count</th>\n",
              "      <td>1000.000000</td>\n",
              "      <td>1000.000000</td>\n",
              "      <td>1000.000000</td>\n",
              "      <td>1000.000000</td>\n",
              "      <td>1000.000000</td>\n",
              "      <td>1000.000000</td>\n",
              "      <td>1000.000000</td>\n",
              "    </tr>\n",
              "    <tr>\n",
              "      <th>mean</th>\n",
              "      <td>20.903000</td>\n",
              "      <td>3271.258000</td>\n",
              "      <td>2.973000</td>\n",
              "      <td>2.845000</td>\n",
              "      <td>35.546000</td>\n",
              "      <td>1.407000</td>\n",
              "      <td>1.155000</td>\n",
              "    </tr>\n",
              "    <tr>\n",
              "      <th>std</th>\n",
              "      <td>12.058814</td>\n",
              "      <td>2822.736876</td>\n",
              "      <td>1.118715</td>\n",
              "      <td>1.103718</td>\n",
              "      <td>11.375469</td>\n",
              "      <td>0.577654</td>\n",
              "      <td>0.362086</td>\n",
              "    </tr>\n",
              "    <tr>\n",
              "      <th>min</th>\n",
              "      <td>4.000000</td>\n",
              "      <td>250.000000</td>\n",
              "      <td>1.000000</td>\n",
              "      <td>1.000000</td>\n",
              "      <td>19.000000</td>\n",
              "      <td>1.000000</td>\n",
              "      <td>1.000000</td>\n",
              "    </tr>\n",
              "    <tr>\n",
              "      <th>25%</th>\n",
              "      <td>12.000000</td>\n",
              "      <td>1365.500000</td>\n",
              "      <td>2.000000</td>\n",
              "      <td>2.000000</td>\n",
              "      <td>27.000000</td>\n",
              "      <td>1.000000</td>\n",
              "      <td>1.000000</td>\n",
              "    </tr>\n",
              "    <tr>\n",
              "      <th>50%</th>\n",
              "      <td>18.000000</td>\n",
              "      <td>2319.500000</td>\n",
              "      <td>3.000000</td>\n",
              "      <td>3.000000</td>\n",
              "      <td>33.000000</td>\n",
              "      <td>1.000000</td>\n",
              "      <td>1.000000</td>\n",
              "    </tr>\n",
              "    <tr>\n",
              "      <th>75%</th>\n",
              "      <td>24.000000</td>\n",
              "      <td>3972.250000</td>\n",
              "      <td>4.000000</td>\n",
              "      <td>4.000000</td>\n",
              "      <td>42.000000</td>\n",
              "      <td>2.000000</td>\n",
              "      <td>1.000000</td>\n",
              "    </tr>\n",
              "    <tr>\n",
              "      <th>max</th>\n",
              "      <td>72.000000</td>\n",
              "      <td>18424.000000</td>\n",
              "      <td>4.000000</td>\n",
              "      <td>4.000000</td>\n",
              "      <td>75.000000</td>\n",
              "      <td>4.000000</td>\n",
              "      <td>2.000000</td>\n",
              "    </tr>\n",
              "  </tbody>\n",
              "</table>\n",
              "</div>\n",
              "      <button class=\"colab-df-convert\" onclick=\"convertToInteractive('df-c6696c1c-4bd8-47db-8ae7-16b61299b642')\"\n",
              "              title=\"Convert this dataframe to an interactive table.\"\n",
              "              style=\"display:none;\">\n",
              "        \n",
              "  <svg xmlns=\"http://www.w3.org/2000/svg\" height=\"24px\"viewBox=\"0 0 24 24\"\n",
              "       width=\"24px\">\n",
              "    <path d=\"M0 0h24v24H0V0z\" fill=\"none\"/>\n",
              "    <path d=\"M18.56 5.44l.94 2.06.94-2.06 2.06-.94-2.06-.94-.94-2.06-.94 2.06-2.06.94zm-11 1L8.5 8.5l.94-2.06 2.06-.94-2.06-.94L8.5 2.5l-.94 2.06-2.06.94zm10 10l.94 2.06.94-2.06 2.06-.94-2.06-.94-.94-2.06-.94 2.06-2.06.94z\"/><path d=\"M17.41 7.96l-1.37-1.37c-.4-.4-.92-.59-1.43-.59-.52 0-1.04.2-1.43.59L10.3 9.45l-7.72 7.72c-.78.78-.78 2.05 0 2.83L4 21.41c.39.39.9.59 1.41.59.51 0 1.02-.2 1.41-.59l7.78-7.78 2.81-2.81c.8-.78.8-2.07 0-2.86zM5.41 20L4 18.59l7.72-7.72 1.47 1.35L5.41 20z\"/>\n",
              "  </svg>\n",
              "      </button>\n",
              "      \n",
              "  <style>\n",
              "    .colab-df-container {\n",
              "      display:flex;\n",
              "      flex-wrap:wrap;\n",
              "      gap: 12px;\n",
              "    }\n",
              "\n",
              "    .colab-df-convert {\n",
              "      background-color: #E8F0FE;\n",
              "      border: none;\n",
              "      border-radius: 50%;\n",
              "      cursor: pointer;\n",
              "      display: none;\n",
              "      fill: #1967D2;\n",
              "      height: 32px;\n",
              "      padding: 0 0 0 0;\n",
              "      width: 32px;\n",
              "    }\n",
              "\n",
              "    .colab-df-convert:hover {\n",
              "      background-color: #E2EBFA;\n",
              "      box-shadow: 0px 1px 2px rgba(60, 64, 67, 0.3), 0px 1px 3px 1px rgba(60, 64, 67, 0.15);\n",
              "      fill: #174EA6;\n",
              "    }\n",
              "\n",
              "    [theme=dark] .colab-df-convert {\n",
              "      background-color: #3B4455;\n",
              "      fill: #D2E3FC;\n",
              "    }\n",
              "\n",
              "    [theme=dark] .colab-df-convert:hover {\n",
              "      background-color: #434B5C;\n",
              "      box-shadow: 0px 1px 3px 1px rgba(0, 0, 0, 0.15);\n",
              "      filter: drop-shadow(0px 1px 2px rgba(0, 0, 0, 0.3));\n",
              "      fill: #FFFFFF;\n",
              "    }\n",
              "  </style>\n",
              "\n",
              "      <script>\n",
              "        const buttonEl =\n",
              "          document.querySelector('#df-c6696c1c-4bd8-47db-8ae7-16b61299b642 button.colab-df-convert');\n",
              "        buttonEl.style.display =\n",
              "          google.colab.kernel.accessAllowed ? 'block' : 'none';\n",
              "\n",
              "        async function convertToInteractive(key) {\n",
              "          const element = document.querySelector('#df-c6696c1c-4bd8-47db-8ae7-16b61299b642');\n",
              "          const dataTable =\n",
              "            await google.colab.kernel.invokeFunction('convertToInteractive',\n",
              "                                                     [key], {});\n",
              "          if (!dataTable) return;\n",
              "\n",
              "          const docLinkHtml = 'Like what you see? Visit the ' +\n",
              "            '<a target=\"_blank\" href=https://colab.research.google.com/notebooks/data_table.ipynb>data table notebook</a>'\n",
              "            + ' to learn more about interactive tables.';\n",
              "          element.innerHTML = '';\n",
              "          dataTable['output_type'] = 'display_data';\n",
              "          await google.colab.output.renderOutput(dataTable, element);\n",
              "          const docLink = document.createElement('div');\n",
              "          docLink.innerHTML = docLinkHtml;\n",
              "          element.appendChild(docLink);\n",
              "        }\n",
              "      </script>\n",
              "    </div>\n",
              "  </div>\n",
              "  "
            ]
          },
          "metadata": {},
          "execution_count": 11
        }
      ]
    },
    {
      "cell_type": "markdown",
      "source": [
        "## Análise Univariada"
      ],
      "metadata": {
        "id": "Gh5d3sZMFP7y"
      }
    },
    {
      "cell_type": "markdown",
      "source": [
        "### **Como está a distribuição de clientes com classe boa e ruim?**"
      ],
      "metadata": {
        "id": "LKEYmEdqHISe"
      }
    },
    {
      "cell_type": "code",
      "source": [
        "plt.figure(figsize=(10,5))\n",
        "plt.ylabel(\"Total (em %)\")\n",
        "plt.yticks(np.arange(0, 100, step=10))\n",
        "plt.title(\"Distribuição de clientes com classe boa e ruim\")\n",
        "\n",
        "(dataset.CLASSE.value_counts(normalize=True, sort=False)*100) \\\n",
        "  .plot.bar(color=sns.color_palette('muted'))\n",
        "\n",
        "plt.xticks(rotation=\"horizontal\")\n",
        "\n",
        "plt.show()"
      ],
      "metadata": {
        "colab": {
          "base_uri": "https://localhost:8080/",
          "height": 336
        },
        "id": "-cfLeV5xFWWP",
        "outputId": "de86c493-60d8-4b62-98b5-2bafcbd599b3"
      },
      "execution_count": 12,
      "outputs": [
        {
          "output_type": "display_data",
          "data": {
            "text/plain": [
              "<Figure size 720x360 with 1 Axes>"
            ],
            "image/png": "[encoded data removed]"
          },
          "metadata": {
            "needs_background": "light"
          }
        }
      ]
    },
    {
      "cell_type": "markdown",
      "source": [
        "Podemos identificar que que as classes estão bem desbalanceadas, onde 70% dos clientes não são inadimplementes, o que já era de se esperar 😊"
      ],
      "metadata": {
        "id": "CxITYmSyJUmn"
      }
    },
    {
      "cell_type": "markdown",
      "source": [
        "### **Como está a distribuição do histórico de crédito?**"
      ],
      "metadata": {
        "id": "F9EoAgiiKsXy"
      }
    },
    {
      "cell_type": "code",
      "source": [
        "plt.figure(figsize=(10,5))\n",
        "plt.ylabel(\"Total (em %)\")\n",
        "plt.yticks(np.arange(0, 100, step=10))\n",
        "plt.title(\"Distribuição do histórico de crédito\")\n",
        "\n",
        "(dataset.HISTORICO_CREDITO.value_counts(normalize=True, sort=False)*100) \\\n",
        "  .plot.bar(color=sns.color_palette('muted'))\n",
        "\n",
        "plt.xticks(rotation=45)\n",
        "\n",
        "plt.show()"
      ],
      "metadata": {
        "colab": {
          "base_uri": "https://localhost:8080/",
          "height": 456
        },
        "id": "KvGdDYIXKr6P",
        "outputId": "f7641d6e-24a5-48cd-a335-2f88a0c0afa1"
      },
      "execution_count": 13,
      "outputs": [
        {
          "output_type": "display_data",
          "data": {
            "text/plain": [
              "<Figure size 720x360 with 1 Axes>"
            ],
            "image/png": "[encoded data removed]"
          },
          "metadata": {
            "needs_background": "light"
          }
        }
      ]
    },
    {
      "cell_type": "markdown",
      "source": [
        "### **Quantos clientes estão no cheque especial?**"
      ],
      "metadata": {
        "id": "dNelvd6bLezQ"
      }
    },
    {
      "cell_type": "code",
      "source": [
        "plt.figure(figsize=(10,5))\n",
        "plt.ylabel(\"Total (em %)\")\n",
        "plt.yticks(np.arange(0, 100, step=10))\n",
        "plt.title(\"Distribuição de clientes que utilizam cheque especial\")\n",
        "\n",
        "(dataset.CHEQUEESPECIAL.value_counts(normalize=True, sort=False)*100) \\\n",
        "  .plot.bar(color=sns.color_palette('muted'))\n",
        "\n",
        "plt.xticks(rotation=\"horizontal\")\n",
        "\n",
        "plt.show()"
      ],
      "metadata": {
        "colab": {
          "base_uri": "https://localhost:8080/",
          "height": 336
        },
        "id": "fISy1RzDLgpV",
        "outputId": "b43e02cb-3f7d-418a-9479-2b9131b53afb"
      },
      "execution_count": 14,
      "outputs": [
        {
          "output_type": "display_data",
          "data": {
            "text/plain": [
              "<Figure size 720x360 with 1 Axes>"
            ],
            "image/png": "[encoded data removed]"
          },
          "metadata": {
            "needs_background": "light"
          }
        }
      ]
    },
    {
      "cell_type": "markdown",
      "source": [
        "### **Distribuição de clientes que trabalham em empresas estrangeiras**"
      ],
      "metadata": {
        "id": "MGp7fgI6McCr"
      }
    },
    {
      "cell_type": "code",
      "source": [
        "plt.figure(figsize=(10,5))\n",
        "plt.ylabel(\"Total (em %)\")\n",
        "plt.yticks(np.arange(0, 100, step=10))\n",
        "plt.title(\"Distribuição de clientes que trabalham em empresas estrangeiras\")\n",
        "\n",
        "(dataset.TRABAESTRANGEIRO.value_counts(normalize=True, sort=False)*100) \\\n",
        "  .plot.bar(color=sns.color_palette('muted'))\n",
        "\n",
        "plt.xticks(rotation=\"horizontal\")\n",
        "\n",
        "plt.show()"
      ],
      "metadata": {
        "colab": {
          "base_uri": "https://localhost:8080/",
          "height": 336
        },
        "id": "fnDyeusNMfOr",
        "outputId": "5db15e9b-da89-48cf-a629-b241e205d17f"
      },
      "execution_count": 15,
      "outputs": [
        {
          "output_type": "display_data",
          "data": {
            "text/plain": [
              "<Figure size 720x360 with 1 Axes>"
            ],
            "image/png": "[encoded data removed]"
          },
          "metadata": {
            "needs_background": "light"
          }
        }
      ]
    },
    {
      "cell_type": "markdown",
      "source": [
        "## Análise Bivariada"
      ],
      "metadata": {
        "id": "I-zwIaQRFTJf"
      }
    },
    {
      "cell_type": "markdown",
      "source": [
        "**TBD**"
      ],
      "metadata": {
        "id": "CxRLKihRO4oG"
      }
    },
    {
      "cell_type": "code",
      "source": [
        "plt.figure(figsize=(10,9))\n",
        "plt.title(\"Matriz de correlação entre todas as variáveis\")\n",
        "\n",
        "matriz_correlacao = dataset.corr()\n",
        "mask = np.triu(np.ones_like(matriz_correlacao, dtype=bool))\n",
        "\n",
        "sns.heatmap(matriz_correlacao, cmap = sns.diverging_palette(240, 10, n=11), vmin=-1, annot=True, vmax=1, mask=mask)\n",
        "\n",
        "plt.show()"
      ],
      "metadata": {
        "colab": {
          "base_uri": "https://localhost:8080/",
          "height": 654
        },
        "id": "Nj230n5MFN9C",
        "outputId": "4b0a4b0b-9a02-4506-a76b-05efbaebd075"
      },
      "execution_count": 16,
      "outputs": [
        {
          "output_type": "display_data",
          "data": {
            "text/plain": [
              "<Figure size 720x648 with 2 Axes>"
            ],
            "image/png": "[encoded data removed]"
          },
          "metadata": {
            "needs_background": "light"
          }
        }
      ]
    },
    {
      "cell_type": "markdown",
      "source": [
        "**TBD**"
      ],
      "metadata": {
        "id": "bkS1RGhlO0lv"
      }
    },
    {
      "cell_type": "markdown",
      "source": [
        "### Número de créditos existentes pela idade"
      ],
      "metadata": {
        "id": "Js6ZB1WqPvFp"
      }
    },
    {
      "cell_type": "code",
      "source": [
        "sns.catplot(y=\"IDADE\", x=\"CREDITOSEXISTENTES\", data=dataset, height=6, aspect=2.2)\n",
        "\n",
        "plt.title(\"CREDITOSEXISTENTES x USO_CREDITO\")\n",
        "plt.xlabel(\"USO_CREDITO\")\n",
        "plt.ylabel(\"CREDITOSEXISTENTES\")\n",
        "\n",
        "plt.show()"
      ],
      "metadata": {
        "colab": {
          "base_uri": "https://localhost:8080/",
          "height": 458
        },
        "id": "hO4UXejZPTmN",
        "outputId": "cef79c05-518e-4253-b59e-98cc71f2b786"
      },
      "execution_count": 17,
      "outputs": [
        {
          "output_type": "display_data",
          "data": {
            "text/plain": [
              "<Figure size 950.4x432 with 1 Axes>"
            ],
            "image/png": "[encoded data removed]"
          },
          "metadata": {
            "needs_background": "light"
          }
        }
      ]
    },
    {
      "cell_type": "markdown",
      "source": [
        "### Número de dependentes pela idade"
      ],
      "metadata": {
        "id": "Xz8jh_ZJRfq1"
      }
    },
    {
      "cell_type": "code",
      "source": [
        "fig, ax = plt.subplots(figsize=(14, 8))\n",
        "\n",
        "sns.boxplot(x='DEPENDENTES', y='IDADE', data=dataset)\n",
        "\n",
        "plt.title('Número de Dependentes X Idade', fontsize=16)\n",
        "ax.set_xticklabels([1, 2])\n",
        "ax.set_xlabel('Número de dependentes')\n",
        "ax.set_ylabel('Idade')\n",
        "ax.set_yticks(np.arange(20, 80, 10))\n",
        "\n",
        "plt.show()"
      ],
      "metadata": {
        "colab": {
          "base_uri": "https://localhost:8080/",
          "height": 516
        },
        "id": "tNH3jtLNRfce",
        "outputId": "87dfc414-fae8-41f5-a5e7-5dde49563deb"
      },
      "execution_count": 18,
      "outputs": [
        {
          "output_type": "display_data",
          "data": {
            "text/plain": [
              "<Figure size 1008x576 with 1 Axes>"
            ],
            "image/png": "[encoded data removed]"
          },
          "metadata": {
            "needs_background": "light"
          }
        }
      ]
    },
    {
      "cell_type": "markdown",
      "source": [
        "**TBD**"
      ],
      "metadata": {
        "id": "F1CpgOd7SVYj"
      }
    },
    {
      "cell_type": "markdown",
      "source": [
        "# Pré-Processamento"
      ],
      "metadata": {
        "id": "gW4tNx68Sb83"
      }
    },
    {
      "cell_type": "markdown",
      "source": [
        "## Normalizando Dataset"
      ],
      "metadata": {
        "id": "2zwzPhEskaLG"
      }
    },
    {
      "cell_type": "code",
      "source": [
        "def normalize(dataset):\n",
        "  dataset[\"CHEQUEESPECIAL\"] = dataset[\"CHEQUEESPECIAL\"].replace(\"sem cheque\", 1)\n",
        "  dataset[\"CHEQUEESPECIAL\"] = dataset[\"CHEQUEESPECIAL\"].replace(\"<0\", 2)\n",
        "  dataset[\"CHEQUEESPECIAL\"] = dataset[\"CHEQUEESPECIAL\"].replace(\"0<=X<200\", 3)\n",
        "  dataset[\"CHEQUEESPECIAL\"] = dataset[\"CHEQUEESPECIAL\"].replace(\">=200\", 4)\n",
        "\n",
        "  dataset[\"HISTORICO_CREDITO\"] = dataset[\"HISTORICO_CREDITO\"].replace(\"todos pagos\", 5)\n",
        "  dataset[\"HISTORICO_CREDITO\"] = dataset[\"HISTORICO_CREDITO\"].replace(\"sem créditos/todos pagos\", 4)\n",
        "  dataset[\"HISTORICO_CREDITO\"] = dataset[\"HISTORICO_CREDITO\"].replace(\"existente e pago\", 3)\n",
        "  dataset[\"HISTORICO_CREDITO\"] = dataset[\"HISTORICO_CREDITO\"].replace(\"crítica / outros de crédito existente\", 2)\n",
        "  dataset[\"HISTORICO_CREDITO\"] = dataset[\"HISTORICO_CREDITO\"].replace(\"atrasos anteriores\", 1)\n",
        "\n",
        "  dataset[\"BALANCO_MEDIO_CREDITO\"] = dataset[\"BALANCO_MEDIO_CREDITO\"].replace(\">=1000\", 5)\n",
        "  dataset[\"BALANCO_MEDIO_CREDITO\"] = dataset[\"BALANCO_MEDIO_CREDITO\"].replace(\"500<=X<1000\", 4)\n",
        "  dataset[\"BALANCO_MEDIO_CREDITO\"] = dataset[\"BALANCO_MEDIO_CREDITO\"].replace(\"100<=X<500\", 3)\n",
        "  dataset[\"BALANCO_MEDIO_CREDITO\"] = dataset[\"BALANCO_MEDIO_CREDITO\"].replace(\"<100\", 2)\n",
        "  dataset[\"BALANCO_MEDIO_CREDITO\"] = dataset[\"BALANCO_MEDIO_CREDITO\"].replace(\"nenhuma economia conhecida\", 1)\n",
        "\n",
        "  dataset[\"EMPREGADO\"] = dataset[\"EMPREGADO\"].replace(\">=7\", 1)\n",
        "  dataset[\"EMPREGADO\"] = dataset[\"EMPREGADO\"].replace(\"4<=X<7\", 2)\n",
        "  dataset[\"EMPREGADO\"] = dataset[\"EMPREGADO\"].replace(\"1<=X<4\", 3)\n",
        "  dataset[\"EMPREGADO\"] = dataset[\"EMPREGADO\"].replace(\"<1\", 4)\n",
        "  dataset[\"EMPREGADO\"] = dataset[\"EMPREGADO\"].replace(\"desempregado\", 5)  \n",
        "\n",
        "  dataset[[\"SEXO\", \"ESTADO_CIVIL\"]] = dataset[\"ESTADOCIVIL\"].str.split(\" \", 1, expand=True)\n",
        "\n",
        "  dataset[\"OUTRASFUNCOES\"] = dataset[\"OUTRASFUNCOES\"].replace(\"nenhum\", 0)\n",
        "  dataset[\"OUTRASFUNCOES\"] = dataset[\"OUTRASFUNCOES\"].replace(\"fiador\", 1)\n",
        "  dataset[\"OUTRASFUNCOES\"] = dataset[\"OUTRASFUNCOES\"].replace(\"co requerente\", 2)\n",
        "\n",
        "  dataset[\"TIPOSBENS\"] = dataset[\"TIPOSBENS\"].replace(\"carro\", 0)\n",
        "  dataset[\"TIPOSBENS\"] = dataset[\"TIPOSBENS\"].replace(\"bens imóveis\", 1)\n",
        "  dataset[\"TIPOSBENS\"] = dataset[\"TIPOSBENS\"].replace(\"seguro de vida\", 2)\n",
        "  dataset[\"TIPOSBENS\"] = dataset[\"TIPOSBENS\"].replace(\"nenhuma conhecida\", 3)\n",
        "\n",
        "  dataset[\"OUTROSPLANOSPGTO\"] = dataset[\"OUTROSPLANOSPGTO\"].replace(\"nenhum\", 0)\n",
        "  dataset[\"OUTROSPLANOSPGTO\"] = dataset[\"OUTROSPLANOSPGTO\"].replace(\"banco\", 1)\n",
        "  dataset[\"OUTROSPLANOSPGTO\"] = dataset[\"OUTROSPLANOSPGTO\"].replace(\"stores\", 2)\n",
        "\n",
        "  dataset[\"RESIDENCIA\"] = dataset[\"RESIDENCIA\"].replace(\"própria\", 0)\n",
        "  dataset[\"RESIDENCIA\"] = dataset[\"RESIDENCIA\"].replace(\"alugada\", 1)\n",
        "  dataset[\"RESIDENCIA\"] = dataset[\"RESIDENCIA\"].replace(\"gratuitamente\", 2) \n",
        "\n",
        "  dataset[\"EMPREGO\"] = dataset[\"EMPREGO\"].replace(\"especializado\", 0)\n",
        "  dataset[\"EMPREGO\"] = dataset[\"EMPREGO\"].replace(\"alta qualificação/autonomo/Gerente\", 1)\n",
        "  dataset[\"EMPREGO\"] = dataset[\"EMPREGO\"].replace(\"não especializado\", 2)\n",
        "  dataset[\"EMPREGO\"] = dataset[\"EMPREGO\"].replace(\"unemp/unespecializado non res\", 3)  \n",
        "\n",
        "  dataset[\"CLASSE\"] = dataset[\"CLASSE\"].replace(\"bom\", 0)\n",
        "  dataset[\"CLASSE\"] = dataset[\"CLASSE\"].replace(\"ruim\", 1)\n",
        "\n",
        "  dataset[\"TRABAESTRANGEIRO\"] = dataset[\"TRABAESTRANGEIRO\"].replace(\"não\", 0)\n",
        "  dataset[\"TRABAESTRANGEIRO\"] = dataset[\"TRABAESTRANGEIRO\"].replace(\"sim\", 1)\n",
        "\n",
        "  dataset = dataset.drop(columns=[\"ESTADOCIVIL\", \"PROPOSITO\", \"SEXO\", \"ESTADO_CIVIL\", \"EMPREGADO\", \"LOCAL\", \n",
        "                                  \"OUTRASFUNCOES\", \"RESIDENCIADESDE\", \"TIPOSBENS\", \"OUTROSPLANOSPGTO\"])\n",
        "  return dataset"
      ],
      "metadata": {
        "id": "RoXOPjhQtfY_"
      },
      "execution_count": 19,
      "outputs": []
    },
    {
      "cell_type": "code",
      "source": [
        "dataset = normalize(dataset=dataset)\n",
        "test = normalize(dataset=test)"
      ],
      "metadata": {
        "id": "j-NT69WWlOzC"
      },
      "execution_count": 20,
      "outputs": []
    },
    {
      "cell_type": "markdown",
      "source": [
        "## Splitando conjunto de dados em treino e teste\n",
        "\n",
        "*   80% do ***dataset*** para treino\n",
        "*   20% do ***dataset*** para teste\n",
        "\n"
      ],
      "metadata": {
        "id": "2jTgrUGAlW4n"
      }
    },
    {
      "cell_type": "code",
      "source": [
        "X_treino, X_teste, y_treino, y_teste = train_test_split(dataset,\n",
        "                                                    dataset.CLASSE,\n",
        "                                                    test_size=0.2,\n",
        "                                                    random_state=42,\n",
        "                                                    stratify=dataset.CLASSE)"
      ],
      "metadata": {
        "id": "TNMUwXxtWBkb"
      },
      "execution_count": 21,
      "outputs": []
    },
    {
      "cell_type": "markdown",
      "source": [
        "### Dimensionamento das features"
      ],
      "metadata": {
        "id": "v_hL5Hc3YJRP"
      }
    },
    {
      "cell_type": "code",
      "source": [
        "print(f'Dimensão do conjunto de treino: {X_treino.shape}')\n",
        "print(f'Dimensão do conjunto de validação: {X_teste.shape}')\n",
        "\n",
        "print(f'Proporção da variável target no Treino: {y_treino.value_counts(normalize=True).tolist()}')\n",
        "print(f'Proporção da variável target na Validação: {y_teste.value_counts(normalize=True).tolist()}')"
      ],
      "metadata": {
        "colab": {
          "base_uri": "https://localhost:8080/"
        },
        "id": "WKvsg63CYI1G",
        "outputId": "cdc84151-74d6-40e0-d6a8-c1e216597767"
      },
      "execution_count": 22,
      "outputs": [
        {
          "output_type": "stream",
          "name": "stdout",
          "text": [
            "Dimensão do conjunto de treino: (800, 12)\n",
            "Dimensão do conjunto de validação: (200, 12)\n",
            "Proporção da variável target no Treino: [0.7, 0.3]\n",
            "Proporção da variável target na Validação: [0.7, 0.3]\n"
          ]
        }
      ]
    },
    {
      "cell_type": "markdown",
      "source": [
        "## Entendendo features presentes no dataset"
      ],
      "metadata": {
        "id": "V9J1-A0Kk1Df"
      }
    },
    {
      "cell_type": "code",
      "source": [
        "features = list(dataset.columns)\n",
        "print(f\"Quantidade de features: {len(features)}\")\n",
        "print(f\"Features: {features}\")"
      ],
      "metadata": {
        "colab": {
          "base_uri": "https://localhost:8080/"
        },
        "id": "LecKc_8gScxz",
        "outputId": "a161b581-39cf-4f6e-89a3-e3e59a4cd37c"
      },
      "execution_count": 23,
      "outputs": [
        {
          "output_type": "stream",
          "name": "stdout",
          "text": [
            "Quantidade de features: 12\n",
            "Features: ['CHEQUEESPECIAL', 'USO_CREDITO', 'HISTORICO_CREDITO', 'BALANCO_ATUAL', 'BALANCO_MEDIO_CREDITO', 'IDADE', 'RESIDENCIA', 'CREDITOSEXISTENTES', 'EMPREGO', 'DEPENDENTES', 'TRABAESTRANGEIRO', 'CLASSE']\n"
          ]
        }
      ]
    },
    {
      "cell_type": "markdown",
      "source": [
        "## Detecção de valores faltantes"
      ],
      "metadata": {
        "id": "CqTgcB8aTvqX"
      }
    },
    {
      "cell_type": "code",
      "source": [
        "pd.DataFrame(data={\"Treino(%)\": round(X_treino.isna().mean() * 100, 2),\n",
        "                   \"Teste(%)\": round(y_treino.isna().mean() * 100, 2)})"
      ],
      "metadata": {
        "colab": {
          "base_uri": "https://localhost:8080/",
          "height": 426
        },
        "id": "ZwgiaVFHTrjj",
        "outputId": "ad33cde7-6623-42a7-9fdb-9a1b1d06b858"
      },
      "execution_count": 24,
      "outputs": [
        {
          "output_type": "execute_result",
          "data": {
            "text/plain": [
              "                       Treino(%)  Teste(%)\n",
              "CHEQUEESPECIAL               0.0       0.0\n",
              "USO_CREDITO                  0.0       0.0\n",
              "HISTORICO_CREDITO            0.0       0.0\n",
              "BALANCO_ATUAL                0.0       0.0\n",
              "BALANCO_MEDIO_CREDITO        0.0       0.0\n",
              "IDADE                        0.0       0.0\n",
              "RESIDENCIA                   0.0       0.0\n",
              "CREDITOSEXISTENTES           0.0       0.0\n",
              "EMPREGO                      0.0       0.0\n",
              "DEPENDENTES                  0.0       0.0\n",
              "TRABAESTRANGEIRO             0.0       0.0\n",
              "CLASSE                       0.0       0.0"
            ],
            "text/html": [
              "\n",
              "  <div id=\"df-9f8c654f-4b85-4e99-b718-bed22f07cd6c\">\n",
              "    <div class=\"colab-df-container\">\n",
              "      <div>\n",
              "<style scoped>\n",
              "    .dataframe tbody tr th:only-of-type {\n",
              "        vertical-align: middle;\n",
              "    }\n",
              "\n",
              "    .dataframe tbody tr th {\n",
              "        vertical-align: top;\n",
              "    }\n",
              "\n",
              "    .dataframe thead th {\n",
              "        text-align: right;\n",
              "    }\n",
              "</style>\n",
              "<table border=\"1\" class=\"dataframe\">\n",
              "  <thead>\n",
              "    <tr style=\"text-align: right;\">\n",
              "      <th></th>\n",
              "      <th>Treino(%)</th>\n",
              "      <th>Teste(%)</th>\n",
              "    </tr>\n",
              "  </thead>\n",
              "  <tbody>\n",
              "    <tr>\n",
              "      <th>CHEQUEESPECIAL</th>\n",
              "      <td>0.0</td>\n",
              "      <td>0.0</td>\n",
              "    </tr>\n",
              "    <tr>\n",
              "      <th>USO_CREDITO</th>\n",
              "      <td>0.0</td>\n",
              "      <td>0.0</td>\n",
              "    </tr>\n",
              "    <tr>\n",
              "      <th>HISTORICO_CREDITO</th>\n",
              "      <td>0.0</td>\n",
              "      <td>0.0</td>\n",
              "    </tr>\n",
              "    <tr>\n",
              "      <th>BALANCO_ATUAL</th>\n",
              "      <td>0.0</td>\n",
              "      <td>0.0</td>\n",
              "    </tr>\n",
              "    <tr>\n",
              "      <th>BALANCO_MEDIO_CREDITO</th>\n",
              "      <td>0.0</td>\n",
              "      <td>0.0</td>\n",
              "    </tr>\n",
              "    <tr>\n",
              "      <th>IDADE</th>\n",
              "      <td>0.0</td>\n",
              "      <td>0.0</td>\n",
              "    </tr>\n",
              "    <tr>\n",
              "      <th>RESIDENCIA</th>\n",
              "      <td>0.0</td>\n",
              "      <td>0.0</td>\n",
              "    </tr>\n",
              "    <tr>\n",
              "      <th>CREDITOSEXISTENTES</th>\n",
              "      <td>0.0</td>\n",
              "      <td>0.0</td>\n",
              "    </tr>\n",
              "    <tr>\n",
              "      <th>EMPREGO</th>\n",
              "      <td>0.0</td>\n",
              "      <td>0.0</td>\n",
              "    </tr>\n",
              "    <tr>\n",
              "      <th>DEPENDENTES</th>\n",
              "      <td>0.0</td>\n",
              "      <td>0.0</td>\n",
              "    </tr>\n",
              "    <tr>\n",
              "      <th>TRABAESTRANGEIRO</th>\n",
              "      <td>0.0</td>\n",
              "      <td>0.0</td>\n",
              "    </tr>\n",
              "    <tr>\n",
              "      <th>CLASSE</th>\n",
              "      <td>0.0</td>\n",
              "      <td>0.0</td>\n",
              "    </tr>\n",
              "  </tbody>\n",
              "</table>\n",
              "</div>\n",
              "      <button class=\"colab-df-convert\" onclick=\"convertToInteractive('df-9f8c654f-4b85-4e99-b718-bed22f07cd6c')\"\n",
              "              title=\"Convert this dataframe to an interactive table.\"\n",
              "              style=\"display:none;\">\n",
              "        \n",
              "  <svg xmlns=\"http://www.w3.org/2000/svg\" height=\"24px\"viewBox=\"0 0 24 24\"\n",
              "       width=\"24px\">\n",
              "    <path d=\"M0 0h24v24H0V0z\" fill=\"none\"/>\n",
              "    <path d=\"M18.56 5.44l.94 2.06.94-2.06 2.06-.94-2.06-.94-.94-2.06-.94 2.06-2.06.94zm-11 1L8.5 8.5l.94-2.06 2.06-.94-2.06-.94L8.5 2.5l-.94 2.06-2.06.94zm10 10l.94 2.06.94-2.06 2.06-.94-2.06-.94-.94-2.06-.94 2.06-2.06.94z\"/><path d=\"M17.41 7.96l-1.37-1.37c-.4-.4-.92-.59-1.43-.59-.52 0-1.04.2-1.43.59L10.3 9.45l-7.72 7.72c-.78.78-.78 2.05 0 2.83L4 21.41c.39.39.9.59 1.41.59.51 0 1.02-.2 1.41-.59l7.78-7.78 2.81-2.81c.8-.78.8-2.07 0-2.86zM5.41 20L4 18.59l7.72-7.72 1.47 1.35L5.41 20z\"/>\n",
              "  </svg>\n",
              "      </button>\n",
              "      \n",
              "  <style>\n",
              "    .colab-df-container {\n",
              "      display:flex;\n",
              "      flex-wrap:wrap;\n",
              "      gap: 12px;\n",
              "    }\n",
              "\n",
              "    .colab-df-convert {\n",
              "      background-color: #E8F0FE;\n",
              "      border: none;\n",
              "      border-radius: 50%;\n",
              "      cursor: pointer;\n",
              "      display: none;\n",
              "      fill: #1967D2;\n",
              "      height: 32px;\n",
              "      padding: 0 0 0 0;\n",
              "      width: 32px;\n",
              "    }\n",
              "\n",
              "    .colab-df-convert:hover {\n",
              "      background-color: #E2EBFA;\n",
              "      box-shadow: 0px 1px 2px rgba(60, 64, 67, 0.3), 0px 1px 3px 1px rgba(60, 64, 67, 0.15);\n",
              "      fill: #174EA6;\n",
              "    }\n",
              "\n",
              "    [theme=dark] .colab-df-convert {\n",
              "      background-color: #3B4455;\n",
              "      fill: #D2E3FC;\n",
              "    }\n",
              "\n",
              "    [theme=dark] .colab-df-convert:hover {\n",
              "      background-color: #434B5C;\n",
              "      box-shadow: 0px 1px 3px 1px rgba(0, 0, 0, 0.15);\n",
              "      filter: drop-shadow(0px 1px 2px rgba(0, 0, 0, 0.3));\n",
              "      fill: #FFFFFF;\n",
              "    }\n",
              "  </style>\n",
              "\n",
              "      <script>\n",
              "        const buttonEl =\n",
              "          document.querySelector('#df-9f8c654f-4b85-4e99-b718-bed22f07cd6c button.colab-df-convert');\n",
              "        buttonEl.style.display =\n",
              "          google.colab.kernel.accessAllowed ? 'block' : 'none';\n",
              "\n",
              "        async function convertToInteractive(key) {\n",
              "          const element = document.querySelector('#df-9f8c654f-4b85-4e99-b718-bed22f07cd6c');\n",
              "          const dataTable =\n",
              "            await google.colab.kernel.invokeFunction('convertToInteractive',\n",
              "                                                     [key], {});\n",
              "          if (!dataTable) return;\n",
              "\n",
              "          const docLinkHtml = 'Like what you see? Visit the ' +\n",
              "            '<a target=\"_blank\" href=https://colab.research.google.com/notebooks/data_table.ipynb>data table notebook</a>'\n",
              "            + ' to learn more about interactive tables.';\n",
              "          element.innerHTML = '';\n",
              "          dataTable['output_type'] = 'display_data';\n",
              "          await google.colab.output.renderOutput(dataTable, element);\n",
              "          const docLink = document.createElement('div');\n",
              "          docLink.innerHTML = docLinkHtml;\n",
              "          element.appendChild(docLink);\n",
              "        }\n",
              "      </script>\n",
              "    </div>\n",
              "  </div>\n",
              "  "
            ]
          },
          "metadata": {},
          "execution_count": 24
        }
      ]
    },
    {
      "cell_type": "markdown",
      "source": [
        "TBD -> NÃO TEM DADOS FALTANTES :("
      ],
      "metadata": {
        "id": "DZ6JbSGoUUC8"
      }
    },
    {
      "cell_type": "markdown",
      "source": [
        "## Oversamplig e Undersampling"
      ],
      "metadata": {
        "id": "cgLvIWKbks9Y"
      }
    },
    {
      "cell_type": "code",
      "source": [
        "smoteenn = SMOTEENN(random_state=42)"
      ],
      "metadata": {
        "id": "H8mZcH5cc3xc"
      },
      "execution_count": 25,
      "outputs": []
    },
    {
      "cell_type": "code",
      "source": [
        "X_treino_balanceado, y_treino_balanceado = smoteenn.fit_resample(X_treino, y_treino)"
      ],
      "metadata": {
        "id": "OpDIfhgMdHam"
      },
      "execution_count": 26,
      "outputs": []
    },
    {
      "cell_type": "code",
      "source": [
        "print(f'Dimensão antes do SMOTEENN: {X_treino.shape}')\n",
        "print(f'Dimensão depois do SMOTEENN: {X_treino_balanceado.shape}')\n",
        "\n",
        "print(f'Proporção da variável target antes do SMOTEENN: {y_treino.value_counts(normalize=True).tolist()[0] * 100:.2f}% / {y_treino.value_counts(normalize=True).tolist()[1] * 100:.2f}%')\n",
        "print(f'Proporção da variável target depois do SMOTEENN: {y_treino_balanceado.value_counts(normalize=True).tolist()[0] * 100:.2f}% / {y_treino_balanceado.value_counts(normalize=True).tolist()[1] * 100:.2f}%')"
      ],
      "metadata": {
        "colab": {
          "base_uri": "https://localhost:8080/"
        },
        "id": "Nnu-eWlqdUFS",
        "outputId": "a7bed3e3-8e43-46e6-f75a-f172c7c0726c"
      },
      "execution_count": 27,
      "outputs": [
        {
          "output_type": "stream",
          "name": "stdout",
          "text": [
            "Dimensão antes do SMOTEENN: (800, 12)\n",
            "Dimensão depois do SMOTEENN: (406, 12)\n",
            "Proporção da variável target antes do SMOTEENN: 70.00% / 30.00%\n",
            "Proporção da variável target depois do SMOTEENN: 57.88% / 42.12%\n"
          ]
        }
      ]
    },
    {
      "cell_type": "markdown",
      "source": [
        "# Modelagem Preditiva"
      ],
      "metadata": {
        "id": "YfYS-vfMmj4X"
      }
    },
    {
      "cell_type": "markdown",
      "source": [
        "## Baseline - Regressão Logística"
      ],
      "metadata": {
        "id": "iOr5EPhHmqRk"
      }
    },
    {
      "cell_type": "code",
      "source": [
        "# Definindo o modelo\n",
        "model = LogisticRegression()\n",
        "\n",
        "# Treinando e salvando resultados\n",
        "resultados_lr = cross_validate(model, X_treino_balanceado, y_treino_balanceado, cv=10, scoring='roc_auc')"
      ],
      "metadata": {
        "id": "K2Ocm2whmnj-"
      },
      "execution_count": 28,
      "outputs": []
    },
    {
      "cell_type": "markdown",
      "source": [
        "## Árvore de Decisão"
      ],
      "metadata": {
        "id": "y41GPNTknFqr"
      }
    },
    {
      "cell_type": "code",
      "source": [
        "# Definindo o modelo\n",
        "model = DecisionTreeClassifier()\n",
        "\n",
        "# Treinando e salvando resultados\n",
        "resultados_dt = cross_validate(model, X_treino_balanceado, y_treino_balanceado, cv=10, scoring='roc_auc')"
      ],
      "metadata": {
        "id": "WYoEZ37hnKFN"
      },
      "execution_count": 29,
      "outputs": []
    },
    {
      "cell_type": "markdown",
      "source": [
        "## Random Forest"
      ],
      "metadata": {
        "id": "rmnYIkcLnNCZ"
      }
    },
    {
      "cell_type": "code",
      "source": [
        "# Definindo o modelo\n",
        "model = RandomForestClassifier(n_estimators=20)\n",
        "\n",
        "# Treinando e salvando resultados\n",
        "resultados_rf = cross_validate(model, X_treino_balanceado, y_treino_balanceado, cv=10, scoring='roc_auc')"
      ],
      "metadata": {
        "id": "SQ-etkAinRAD"
      },
      "execution_count": 30,
      "outputs": []
    },
    {
      "cell_type": "markdown",
      "source": [
        "## Comparação dos modelos"
      ],
      "metadata": {
        "id": "NTq8gjLpnSso"
      }
    },
    {
      "cell_type": "code",
      "source": [
        "# Adicionando a média dos scores em cada lista\n",
        "resultados_lr = np.append(resultados_lr['test_score'], resultados_lr['test_score'].mean())\n",
        "resultados_dt = np.append(resultados_dt['test_score'], resultados_dt['test_score'].mean())\n",
        "resultados_rf = np.append(resultados_rf['test_score'], resultados_rf['test_score'].mean())\n",
        "\n",
        "pd.DataFrame(\n",
        "    index = ['Regressão Logística', 'Árvore de Decisão', 'Random Forest'],\n",
        "    columns = ['Fold 1', 'Fold 2', 'Fold 3', 'Fold 4', 'Fold 5', 'Fold 6', 'Fold 7', 'Fold 8', 'Fold 9', 'Fold 10', 'Média'],\n",
        "    data = [resultados_lr, resultados_dt, resultados_rf]\n",
        ")"
      ],
      "metadata": {
        "colab": {
          "base_uri": "https://localhost:8080/",
          "height": 143
        },
        "id": "fEPrUnPMnUNk",
        "outputId": "4aea894a-cffc-4486-9f12-b88a073744d9"
      },
      "execution_count": 31,
      "outputs": [
        {
          "output_type": "execute_result",
          "data": {
            "text/plain": [
              "                     Fold 1  Fold 2  Fold 3    Fold 4  Fold 5  Fold 6  Fold 7  \\\n",
              "Regressão Logística     1.0     1.0     1.0  0.995098     1.0     1.0     1.0   \n",
              "Árvore de Decisão       1.0     1.0     1.0  1.000000     1.0     1.0     1.0   \n",
              "Random Forest           1.0     1.0     1.0  1.000000     1.0     1.0     1.0   \n",
              "\n",
              "                     Fold 8  Fold 9  Fold 10    Média  \n",
              "Regressão Logística     1.0     1.0      1.0  0.99951  \n",
              "Árvore de Decisão       1.0     1.0      1.0  1.00000  \n",
              "Random Forest           1.0     1.0      1.0  1.00000  "
            ],
            "text/html": [
              "\n",
              "  <div id=\"df-ac1faa4a-968b-47af-8d9e-e23daa037c75\">\n",
              "    <div class=\"colab-df-container\">\n",
              "      <div>\n",
              "<style scoped>\n",
              "    .dataframe tbody tr th:only-of-type {\n",
              "        vertical-align: middle;\n",
              "    }\n",
              "\n",
              "    .dataframe tbody tr th {\n",
              "        vertical-align: top;\n",
              "    }\n",
              "\n",
              "    .dataframe thead th {\n",
              "        text-align: right;\n",
              "    }\n",
              "</style>\n",
              "<table border=\"1\" class=\"dataframe\">\n",
              "  <thead>\n",
              "    <tr style=\"text-align: right;\">\n",
              "      <th></th>\n",
              "      <th>Fold 1</th>\n",
              "      <th>Fold 2</th>\n",
              "      <th>Fold 3</th>\n",
              "      <th>Fold 4</th>\n",
              "      <th>Fold 5</th>\n",
              "      <th>Fold 6</th>\n",
              "      <th>Fold 7</th>\n",
              "      <th>Fold 8</th>\n",
              "      <th>Fold 9</th>\n",
              "      <th>Fold 10</th>\n",
              "      <th>Média</th>\n",
              "    </tr>\n",
              "  </thead>\n",
              "  <tbody>\n",
              "    <tr>\n",
              "      <th>Regressão Logística</th>\n",
              "      <td>1.0</td>\n",
              "      <td>1.0</td>\n",
              "      <td>1.0</td>\n",
              "      <td>0.995098</td>\n",
              "      <td>1.0</td>\n",
              "      <td>1.0</td>\n",
              "      <td>1.0</td>\n",
              "      <td>1.0</td>\n",
              "      <td>1.0</td>\n",
              "      <td>1.0</td>\n",
              "      <td>0.99951</td>\n",
              "    </tr>\n",
              "    <tr>\n",
              "      <th>Árvore de Decisão</th>\n",
              "      <td>1.0</td>\n",
              "      <td>1.0</td>\n",
              "      <td>1.0</td>\n",
              "      <td>1.000000</td>\n",
              "      <td>1.0</td>\n",
              "      <td>1.0</td>\n",
              "      <td>1.0</td>\n",
              "      <td>1.0</td>\n",
              "      <td>1.0</td>\n",
              "      <td>1.0</td>\n",
              "      <td>1.00000</td>\n",
              "    </tr>\n",
              "    <tr>\n",
              "      <th>Random Forest</th>\n",
              "      <td>1.0</td>\n",
              "      <td>1.0</td>\n",
              "      <td>1.0</td>\n",
              "      <td>1.000000</td>\n",
              "      <td>1.0</td>\n",
              "      <td>1.0</td>\n",
              "      <td>1.0</td>\n",
              "      <td>1.0</td>\n",
              "      <td>1.0</td>\n",
              "      <td>1.0</td>\n",
              "      <td>1.00000</td>\n",
              "    </tr>\n",
              "  </tbody>\n",
              "</table>\n",
              "</div>\n",
              "      <button class=\"colab-df-convert\" onclick=\"convertToInteractive('df-ac1faa4a-968b-47af-8d9e-e23daa037c75')\"\n",
              "              title=\"Convert this dataframe to an interactive table.\"\n",
              "              style=\"display:none;\">\n",
              "        \n",
              "  <svg xmlns=\"http://www.w3.org/2000/svg\" height=\"24px\"viewBox=\"0 0 24 24\"\n",
              "       width=\"24px\">\n",
              "    <path d=\"M0 0h24v24H0V0z\" fill=\"none\"/>\n",
              "    <path d=\"M18.56 5.44l.94 2.06.94-2.06 2.06-.94-2.06-.94-.94-2.06-.94 2.06-2.06.94zm-11 1L8.5 8.5l.94-2.06 2.06-.94-2.06-.94L8.5 2.5l-.94 2.06-2.06.94zm10 10l.94 2.06.94-2.06 2.06-.94-2.06-.94-.94-2.06-.94 2.06-2.06.94z\"/><path d=\"M17.41 7.96l-1.37-1.37c-.4-.4-.92-.59-1.43-.59-.52 0-1.04.2-1.43.59L10.3 9.45l-7.72 7.72c-.78.78-.78 2.05 0 2.83L4 21.41c.39.39.9.59 1.41.59.51 0 1.02-.2 1.41-.59l7.78-7.78 2.81-2.81c.8-.78.8-2.07 0-2.86zM5.41 20L4 18.59l7.72-7.72 1.47 1.35L5.41 20z\"/>\n",
              "  </svg>\n",
              "      </button>\n",
              "      \n",
              "  <style>\n",
              "    .colab-df-container {\n",
              "      display:flex;\n",
              "      flex-wrap:wrap;\n",
              "      gap: 12px;\n",
              "    }\n",
              "\n",
              "    .colab-df-convert {\n",
              "      background-color: #E8F0FE;\n",
              "      border: none;\n",
              "      border-radius: 50%;\n",
              "      cursor: pointer;\n",
              "      display: none;\n",
              "      fill: #1967D2;\n",
              "      height: 32px;\n",
              "      padding: 0 0 0 0;\n",
              "      width: 32px;\n",
              "    }\n",
              "\n",
              "    .colab-df-convert:hover {\n",
              "      background-color: #E2EBFA;\n",
              "      box-shadow: 0px 1px 2px rgba(60, 64, 67, 0.3), 0px 1px 3px 1px rgba(60, 64, 67, 0.15);\n",
              "      fill: #174EA6;\n",
              "    }\n",
              "\n",
              "    [theme=dark] .colab-df-convert {\n",
              "      background-color: #3B4455;\n",
              "      fill: #D2E3FC;\n",
              "    }\n",
              "\n",
              "    [theme=dark] .colab-df-convert:hover {\n",
              "      background-color: #434B5C;\n",
              "      box-shadow: 0px 1px 3px 1px rgba(0, 0, 0, 0.15);\n",
              "      filter: drop-shadow(0px 1px 2px rgba(0, 0, 0, 0.3));\n",
              "      fill: #FFFFFF;\n",
              "    }\n",
              "  </style>\n",
              "\n",
              "      <script>\n",
              "        const buttonEl =\n",
              "          document.querySelector('#df-ac1faa4a-968b-47af-8d9e-e23daa037c75 button.colab-df-convert');\n",
              "        buttonEl.style.display =\n",
              "          google.colab.kernel.accessAllowed ? 'block' : 'none';\n",
              "\n",
              "        async function convertToInteractive(key) {\n",
              "          const element = document.querySelector('#df-ac1faa4a-968b-47af-8d9e-e23daa037c75');\n",
              "          const dataTable =\n",
              "            await google.colab.kernel.invokeFunction('convertToInteractive',\n",
              "                                                     [key], {});\n",
              "          if (!dataTable) return;\n",
              "\n",
              "          const docLinkHtml = 'Like what you see? Visit the ' +\n",
              "            '<a target=\"_blank\" href=https://colab.research.google.com/notebooks/data_table.ipynb>data table notebook</a>'\n",
              "            + ' to learn more about interactive tables.';\n",
              "          element.innerHTML = '';\n",
              "          dataTable['output_type'] = 'display_data';\n",
              "          await google.colab.output.renderOutput(dataTable, element);\n",
              "          const docLink = document.createElement('div');\n",
              "          docLink.innerHTML = docLinkHtml;\n",
              "          element.appendChild(docLink);\n",
              "        }\n",
              "      </script>\n",
              "    </div>\n",
              "  </div>\n",
              "  "
            ]
          },
          "metadata": {},
          "execution_count": 31
        }
      ]
    },
    {
      "cell_type": "markdown",
      "source": [
        "## Seleção de variáveis"
      ],
      "metadata": {
        "id": "qfKPJJPBpNkA"
      }
    },
    {
      "cell_type": "code",
      "source": [
        "# Definindo o modelo Random Forest\n",
        "rf = RandomForestClassifier(n_estimators=20)\n",
        "\n",
        "# Definindo o modelo que fará a seleção das variáveis\n",
        "rfecv = RFECV(rf, cv=10, scoring='roc_auc')"
      ],
      "metadata": {
        "id": "Dhwb79Tzoa-2"
      },
      "execution_count": 32,
      "outputs": []
    },
    {
      "cell_type": "code",
      "source": [
        "# Treinando\n",
        "rfecv = rfecv.fit(X_treino_balanceado, y_treino_balanceado)"
      ],
      "metadata": {
        "id": "DWWsNAuopRLy"
      },
      "execution_count": 33,
      "outputs": []
    },
    {
      "cell_type": "code",
      "source": [
        "# Plota resultado do RFECV\n",
        "plt.figure(figsize=(12, 6))\n",
        "\n",
        "plt.plot(range(1, len(rfecv.grid_scores_) + 1), rfecv.grid_scores_)\n",
        "\n",
        "# Propriedades do gráfico\n",
        "plt.title(f'Quantidade de features ideal para usar: {rfecv.n_features_}')\n",
        "\n",
        "plt.xlabel('Número de variáveis selecionadas')\n",
        "plt.ylabel('Score ROC-AUC')\n",
        "\n",
        "plt.xticks(np.arange(1, len(rfecv.grid_scores_) + 1, 1))\n",
        "\n",
        "plt.show()"
      ],
      "metadata": {
        "colab": {
          "base_uri": "https://localhost:8080/",
          "height": 404
        },
        "id": "hTxuHl3vpTBv",
        "outputId": "2b5377bb-4307-4f83-f267-703aa19b9f90"
      },
      "execution_count": 34,
      "outputs": [
        {
          "output_type": "display_data",
          "data": {
            "text/plain": [
              "<Figure size 864x432 with 1 Axes>"
            ],
            "image/png": "[encoded data removed]"
          },
          "metadata": {
            "needs_background": "light"
          }
        }
      ]
    },
    {
      "cell_type": "code",
      "source": [
        "# Definindo o modelo\n",
        "model = RandomForestClassifier(min_samples_leaf=2, random_state=42)"
      ],
      "metadata": {
        "id": "KxmBmG_VpURM"
      },
      "execution_count": 35,
      "outputs": []
    },
    {
      "cell_type": "code",
      "source": [
        "# Definindo os hiperparâmetros que serão testados\n",
        "params = {\n",
        "    'n_estimators': [50, 100, 150, 200, 300],\n",
        "    'max_features': ['sqrt', 5],\n",
        "    'max_depth': [5, 10]\n",
        "}"
      ],
      "metadata": {
        "id": "SCrl38gcqOUm"
      },
      "execution_count": 36,
      "outputs": []
    },
    {
      "cell_type": "code",
      "source": [
        "# Definindo o GridSearch\n",
        "grid_search = GridSearchCV(\n",
        "    estimator = model,\n",
        "    param_grid = params,\n",
        "    scoring = 'recall',\n",
        "    cv = 10,\n",
        "    n_jobs = 1)"
      ],
      "metadata": {
        "id": "JS6OofxYqQhq"
      },
      "execution_count": 37,
      "outputs": []
    },
    {
      "cell_type": "code",
      "source": [
        "# Treinando o modelo com o GridSearch\n",
        "grid_search = grid_search.fit(X_treino_balanceado, y_treino_balanceado)"
      ],
      "metadata": {
        "id": "WIkArfPVqSoH"
      },
      "execution_count": 38,
      "outputs": []
    },
    {
      "cell_type": "code",
      "source": [
        "pd.DataFrame(index=grid_search.best_params_.keys(), columns=['Melhor Valor'], data=grid_search.best_params_.values())"
      ],
      "metadata": {
        "colab": {
          "base_uri": "https://localhost:8080/",
          "height": 143
        },
        "id": "XzBXJFy7qXIL",
        "outputId": "de5c7409-8623-4ff6-be09-2a2dcf988ff2"
      },
      "execution_count": 39,
      "outputs": [
        {
          "output_type": "execute_result",
          "data": {
            "text/plain": [
              "             Melhor Valor\n",
              "max_depth               5\n",
              "max_features         sqrt\n",
              "n_estimators           50"
            ],
            "text/html": [
              "\n",
              "  <div id=\"df-ae366f57-0126-4f3e-81e6-75b5023d00b4\">\n",
              "    <div class=\"colab-df-container\">\n",
              "      <div>\n",
              "<style scoped>\n",
              "    .dataframe tbody tr th:only-of-type {\n",
              "        vertical-align: middle;\n",
              "    }\n",
              "\n",
              "    .dataframe tbody tr th {\n",
              "        vertical-align: top;\n",
              "    }\n",
              "\n",
              "    .dataframe thead th {\n",
              "        text-align: right;\n",
              "    }\n",
              "</style>\n",
              "<table border=\"1\" class=\"dataframe\">\n",
              "  <thead>\n",
              "    <tr style=\"text-align: right;\">\n",
              "      <th></th>\n",
              "      <th>Melhor Valor</th>\n",
              "    </tr>\n",
              "  </thead>\n",
              "  <tbody>\n",
              "    <tr>\n",
              "      <th>max_depth</th>\n",
              "      <td>5</td>\n",
              "    </tr>\n",
              "    <tr>\n",
              "      <th>max_features</th>\n",
              "      <td>sqrt</td>\n",
              "    </tr>\n",
              "    <tr>\n",
              "      <th>n_estimators</th>\n",
              "      <td>50</td>\n",
              "    </tr>\n",
              "  </tbody>\n",
              "</table>\n",
              "</div>\n",
              "      <button class=\"colab-df-convert\" onclick=\"convertToInteractive('df-ae366f57-0126-4f3e-81e6-75b5023d00b4')\"\n",
              "              title=\"Convert this dataframe to an interactive table.\"\n",
              "              style=\"display:none;\">\n",
              "        \n",
              "  <svg xmlns=\"http://www.w3.org/2000/svg\" height=\"24px\"viewBox=\"0 0 24 24\"\n",
              "       width=\"24px\">\n",
              "    <path d=\"M0 0h24v24H0V0z\" fill=\"none\"/>\n",
              "    <path d=\"M18.56 5.44l.94 2.06.94-2.06 2.06-.94-2.06-.94-.94-2.06-.94 2.06-2.06.94zm-11 1L8.5 8.5l.94-2.06 2.06-.94-2.06-.94L8.5 2.5l-.94 2.06-2.06.94zm10 10l.94 2.06.94-2.06 2.06-.94-2.06-.94-.94-2.06-.94 2.06-2.06.94z\"/><path d=\"M17.41 7.96l-1.37-1.37c-.4-.4-.92-.59-1.43-.59-.52 0-1.04.2-1.43.59L10.3 9.45l-7.72 7.72c-.78.78-.78 2.05 0 2.83L4 21.41c.39.39.9.59 1.41.59.51 0 1.02-.2 1.41-.59l7.78-7.78 2.81-2.81c.8-.78.8-2.07 0-2.86zM5.41 20L4 18.59l7.72-7.72 1.47 1.35L5.41 20z\"/>\n",
              "  </svg>\n",
              "      </button>\n",
              "      \n",
              "  <style>\n",
              "    .colab-df-container {\n",
              "      display:flex;\n",
              "      flex-wrap:wrap;\n",
              "      gap: 12px;\n",
              "    }\n",
              "\n",
              "    .colab-df-convert {\n",
              "      background-color: #E8F0FE;\n",
              "      border: none;\n",
              "      border-radius: 50%;\n",
              "      cursor: pointer;\n",
              "      display: none;\n",
              "      fill: #1967D2;\n",
              "      height: 32px;\n",
              "      padding: 0 0 0 0;\n",
              "      width: 32px;\n",
              "    }\n",
              "\n",
              "    .colab-df-convert:hover {\n",
              "      background-color: #E2EBFA;\n",
              "      box-shadow: 0px 1px 2px rgba(60, 64, 67, 0.3), 0px 1px 3px 1px rgba(60, 64, 67, 0.15);\n",
              "      fill: #174EA6;\n",
              "    }\n",
              "\n",
              "    [theme=dark] .colab-df-convert {\n",
              "      background-color: #3B4455;\n",
              "      fill: #D2E3FC;\n",
              "    }\n",
              "\n",
              "    [theme=dark] .colab-df-convert:hover {\n",
              "      background-color: #434B5C;\n",
              "      box-shadow: 0px 1px 3px 1px rgba(0, 0, 0, 0.15);\n",
              "      filter: drop-shadow(0px 1px 2px rgba(0, 0, 0, 0.3));\n",
              "      fill: #FFFFFF;\n",
              "    }\n",
              "  </style>\n",
              "\n",
              "      <script>\n",
              "        const buttonEl =\n",
              "          document.querySelector('#df-ae366f57-0126-4f3e-81e6-75b5023d00b4 button.colab-df-convert');\n",
              "        buttonEl.style.display =\n",
              "          google.colab.kernel.accessAllowed ? 'block' : 'none';\n",
              "\n",
              "        async function convertToInteractive(key) {\n",
              "          const element = document.querySelector('#df-ae366f57-0126-4f3e-81e6-75b5023d00b4');\n",
              "          const dataTable =\n",
              "            await google.colab.kernel.invokeFunction('convertToInteractive',\n",
              "                                                     [key], {});\n",
              "          if (!dataTable) return;\n",
              "\n",
              "          const docLinkHtml = 'Like what you see? Visit the ' +\n",
              "            '<a target=\"_blank\" href=https://colab.research.google.com/notebooks/data_table.ipynb>data table notebook</a>'\n",
              "            + ' to learn more about interactive tables.';\n",
              "          element.innerHTML = '';\n",
              "          dataTable['output_type'] = 'display_data';\n",
              "          await google.colab.output.renderOutput(dataTable, element);\n",
              "          const docLink = document.createElement('div');\n",
              "          docLink.innerHTML = docLinkHtml;\n",
              "          element.appendChild(docLink);\n",
              "        }\n",
              "      </script>\n",
              "    </div>\n",
              "  </div>\n",
              "  "
            ]
          },
          "metadata": {},
          "execution_count": 39
        }
      ]
    },
    {
      "cell_type": "code",
      "source": [
        "# Definindo o modelo\n",
        "\n",
        "model = RandomForestClassifier(\n",
        "    n_estimators = 300,\n",
        "    min_samples_leaf = 2,\n",
        "    max_depth = 10,\n",
        "    max_features = 'sqrt',\n",
        "    random_state = 42)"
      ],
      "metadata": {
        "id": "lITMqe-hqXfh"
      },
      "execution_count": 40,
      "outputs": []
    },
    {
      "cell_type": "code",
      "source": [
        "# Treinando\n",
        "\n",
        "model = model.fit(X_treino_balanceado, y_treino_balanceado)"
      ],
      "metadata": {
        "id": "Nj9uTGNIqYxc"
      },
      "execution_count": 41,
      "outputs": []
    },
    {
      "cell_type": "code",
      "source": [
        "fig, ax = plt.subplots(figsize=(12, 6))\n",
        "\n",
        "# Matriz de confusão com dados normalizados em relação aos labels reais\n",
        "plot_confusion_matrix(model, X_teste, y_teste, values_format = '.0f', ax=ax, cmap='Blues')\n",
        "\n",
        "ax.set_xlabel('Classificação Prevista')\n",
        "ax.set_ylabel('Classificação Real')\n",
        "\n",
        "plt.show()"
      ],
      "metadata": {
        "colab": {
          "base_uri": "https://localhost:8080/",
          "height": 392
        },
        "id": "rM4PSiMJqZw4",
        "outputId": "2ee57eed-0082-4697-c2ed-074a9f8abfa0"
      },
      "execution_count": 42,
      "outputs": [
        {
          "output_type": "display_data",
          "data": {
            "text/plain": [
              "<Figure size 864x432 with 2 Axes>"
            ],
            "image/png": "[encoded data removed]"
          },
          "metadata": {
            "needs_background": "light"
          }
        }
      ]
    },
    {
      "cell_type": "code",
      "source": [
        "precisao = precision_recall_curve(y_teste, model.predict(X_teste))[0][1]\n",
        "\n",
        "print(f\"Precisao do modelo: {precisao * 100}\")"
      ],
      "metadata": {
        "colab": {
          "base_uri": "https://localhost:8080/"
        },
        "id": "tOaG6LGHrRdk",
        "outputId": "9bbbd8fc-5fa9-4c32-eac5-d0a644f91f90"
      },
      "execution_count": 43,
      "outputs": [
        {
          "output_type": "stream",
          "name": "stdout",
          "text": [
            "Precisao do modelo: 100.0\n"
          ]
        }
      ]
    },
    {
      "cell_type": "code",
      "source": [
        "recall = precision_recall_curve(y_teste, model.predict(X_teste))[1][1]\n",
        "\n",
        "print(f\"Precisao do modelo: {recall * 100}\")"
      ],
      "metadata": {
        "colab": {
          "base_uri": "https://localhost:8080/"
        },
        "id": "-LGYMylkrmAJ",
        "outputId": "a77fbadd-0bdb-4958-f163-4ef4f71f64a3"
      },
      "execution_count": 44,
      "outputs": [
        {
          "output_type": "stream",
          "name": "stdout",
          "text": [
            "Precisao do modelo: 0.0\n"
          ]
        }
      ]
    },
    {
      "cell_type": "code",
      "source": [
        "resultado_teste = model.predict(test)"
      ],
      "metadata": {
        "id": "daKK_o-2sDKM"
      },
      "execution_count": 45,
      "outputs": []
    },
    {
      "cell_type": "code",
      "source": [
        "proporcao = pd.Series(resultado_teste).value_counts(normalize=True) * 100"
      ],
      "metadata": {
        "id": "Sl-QUyMPs_xo"
      },
      "execution_count": 46,
      "outputs": []
    },
    {
      "cell_type": "code",
      "source": [
        "print(f\"O modelo classificou {proporcao[1]}% inadimplentes e {proporcao[0]}% adimplentes\")"
      ],
      "metadata": {
        "colab": {
          "base_uri": "https://localhost:8080/"
        },
        "id": "hAMQ6oAMtJQG",
        "outputId": "8211a41a-3ca8-4d89-d322-1857df31cc7d"
      },
      "execution_count": 48,
      "outputs": [
        {
          "output_type": "stream",
          "name": "stdout",
          "text": [
            "O modelo classificou 30.5% inadimplentes e 69.5% adimplentes\n"
          ]
        }
      ]
    }
  ]
}