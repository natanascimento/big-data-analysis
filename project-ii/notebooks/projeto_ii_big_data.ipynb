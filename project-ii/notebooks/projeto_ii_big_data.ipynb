{
  "cells": [
    {
      "cell_type": "markdown",
      "metadata": {
        "id": "ReOGDl0uIYvQ"
      },
      "source": [
        "# Reconhecimento de desenhos"
      ]
    },
    {
      "cell_type": "markdown",
      "metadata": {
        "id": "zVO_FJiDIYvU"
      },
      "source": [
        "## Importando as bibliotecas necessárias"
      ]
    },
    {
      "cell_type": "code",
      "execution_count": null,
      "metadata": {
        "id": "YsfGzbkPIYvU"
      },
      "outputs": [],
      "source": [
        "%tensorflow_version 2.x"
      ]
    },
    {
      "cell_type": "code",
      "execution_count": null,
      "metadata": {
        "id": "DSCNLFwpIYvV"
      },
      "outputs": [],
      "source": [
        "import tensorflow as tf\n",
        "import tensorflow_datasets as tfds\n",
        "import matplotlib.pyplot as plt\n",
        "import numpy as np\n",
        "import math\n",
        "import datetime\n",
        "import platform\n",
        "import pathlib\n",
        "import random"
      ]
    },
    {
      "cell_type": "markdown",
      "metadata": {
        "id": "aFeQGCUAIYvX"
      },
      "source": [
        "## Visualizando os datasets presentes na biblioteca do tensorflow"
      ]
    },
    {
      "cell_type": "markdown",
      "source": [
        "Fonte: https://www.tensorflow.org/datasets/catalog/quickdraw_bitmap\n",
        "\n",
        "Visualização: https://knowyourdata-tfds.withgoogle.com/#tab=STATS&dataset=quickdraw_bitmap"
      ],
      "metadata": {
        "id": "CilfdhiIABcr"
      }
    },
    {
      "cell_type": "code",
      "execution_count": null,
      "metadata": {
        "id": "Ncjr1kvRIYvY",
        "outputId": "c2757831-b54a-4138-84e0-1a2257bacd5c"
      },
      "outputs": [
        {
          "data": {
            "text/plain": [
              "['abstract_reasoning',\n",
              " 'aeslc',\n",
              " 'aflw2k3d',\n",
              " 'amazon_us_reviews',\n",
              " 'arc',\n",
              " 'bair_robot_pushing_small',\n",
              " 'big_patent',\n",
              " 'bigearthnet',\n",
              " 'billsum',\n",
              " 'binarized_mnist',\n",
              " 'binary_alpha_digits',\n",
              " 'c4',\n",
              " 'caltech101',\n",
              " 'caltech_birds2010',\n",
              " 'caltech_birds2011',\n",
              " 'cars196',\n",
              " 'cassava',\n",
              " 'cats_vs_dogs',\n",
              " 'celeb_a',\n",
              " 'celeb_a_hq',\n",
              " 'chexpert',\n",
              " 'cifar10',\n",
              " 'cifar100',\n",
              " 'cifar10_1',\n",
              " 'cifar10_corrupted',\n",
              " 'citrus_leaves',\n",
              " 'cityscapes',\n",
              " 'civil_comments',\n",
              " 'clevr',\n",
              " 'cmaterdb',\n",
              " 'cnn_dailymail',\n",
              " 'coco',\n",
              " 'coil100',\n",
              " 'colorectal_histology',\n",
              " 'colorectal_histology_large',\n",
              " 'cos_e',\n",
              " 'curated_breast_imaging_ddsm',\n",
              " 'cycle_gan',\n",
              " 'deep_weeds',\n",
              " 'definite_pronoun_resolution',\n",
              " 'diabetic_retinopathy_detection',\n",
              " 'dmlab',\n",
              " 'downsampled_imagenet',\n",
              " 'dsprites',\n",
              " 'dtd',\n",
              " 'duke_ultrasound',\n",
              " 'dummy_dataset_shared_generator',\n",
              " 'dummy_mnist',\n",
              " 'emnist',\n",
              " 'esnli',\n",
              " 'eurosat',\n",
              " 'fashion_mnist',\n",
              " 'flic',\n",
              " 'flores',\n",
              " 'food101',\n",
              " 'gap',\n",
              " 'gigaword',\n",
              " 'glue',\n",
              " 'groove',\n",
              " 'higgs',\n",
              " 'horses_or_humans',\n",
              " 'i_naturalist2017',\n",
              " 'image_label_folder',\n",
              " 'imagenet2012',\n",
              " 'imagenet2012_corrupted',\n",
              " 'imagenet_resized',\n",
              " 'imagenette',\n",
              " 'imdb_reviews',\n",
              " 'iris',\n",
              " 'kitti',\n",
              " 'kmnist',\n",
              " 'lfw',\n",
              " 'lm1b',\n",
              " 'lost_and_found',\n",
              " 'lsun',\n",
              " 'malaria',\n",
              " 'math_dataset',\n",
              " 'mnist',\n",
              " 'mnist_corrupted',\n",
              " 'movie_rationales',\n",
              " 'moving_mnist',\n",
              " 'multi_news',\n",
              " 'multi_nli',\n",
              " 'multi_nli_mismatch',\n",
              " 'newsroom',\n",
              " 'nsynth',\n",
              " 'omniglot',\n",
              " 'open_images_v4',\n",
              " 'oxford_flowers102',\n",
              " 'oxford_iiit_pet',\n",
              " 'para_crawl',\n",
              " 'patch_camelyon',\n",
              " 'pet_finder',\n",
              " 'places365_small',\n",
              " 'plant_leaves',\n",
              " 'plant_village',\n",
              " 'plantae_k',\n",
              " 'quickdraw_bitmap',\n",
              " 'reddit_tifu',\n",
              " 'resisc45',\n",
              " 'rock_paper_scissors',\n",
              " 'rock_you',\n",
              " 'scan',\n",
              " 'scene_parse150',\n",
              " 'scicite',\n",
              " 'scientific_papers',\n",
              " 'shapes3d',\n",
              " 'smallnorb',\n",
              " 'snli',\n",
              " 'so2sat',\n",
              " 'squad',\n",
              " 'stanford_dogs',\n",
              " 'stanford_online_products',\n",
              " 'starcraft_video',\n",
              " 'sun397',\n",
              " 'super_glue',\n",
              " 'svhn_cropped',\n",
              " 'ted_hrlr_translate',\n",
              " 'ted_multi_translate',\n",
              " 'tf_flowers',\n",
              " 'the300w_lp',\n",
              " 'titanic',\n",
              " 'trivia_qa',\n",
              " 'uc_merced',\n",
              " 'ucf101',\n",
              " 'vgg_face2',\n",
              " 'visual_domain_decathlon',\n",
              " 'voc',\n",
              " 'wider_face',\n",
              " 'wikihow',\n",
              " 'wikipedia',\n",
              " 'wmt14_translate',\n",
              " 'wmt15_translate',\n",
              " 'wmt16_translate',\n",
              " 'wmt17_translate',\n",
              " 'wmt18_translate',\n",
              " 'wmt19_translate',\n",
              " 'wmt_t2t_translate',\n",
              " 'wmt_translate',\n",
              " 'xnli',\n",
              " 'xsum']"
            ]
          },
          "execution_count": 6,
          "metadata": {},
          "output_type": "execute_result"
        }
      ],
      "source": [
        "tfds.list_builders()"
      ]
    },
    {
      "cell_type": "markdown",
      "metadata": {
        "id": "QuDXTGhsIYvZ"
      },
      "source": [
        "## Carregando o dataset referente ao quickdraw do Google"
      ]
    },
    {
      "cell_type": "code",
      "execution_count": null,
      "metadata": {
        "id": "BPteI32rIYvX"
      },
      "outputs": [],
      "source": [
        "!mkdir data"
      ]
    },
    {
      "cell_type": "code",
      "execution_count": null,
      "metadata": {
        "id": "yTYbsfoGIYvZ"
      },
      "outputs": [],
      "source": [
        "DATASET_NAME = 'quickdraw_bitmap'\n",
        "\n",
        "dataset, dataset_info = tfds.load(\n",
        "    name=DATASET_NAME,\n",
        "    data_dir='data',\n",
        "    with_info=True,\n",
        "    shuffle_files=True,\n",
        "    split=['train', 'test'],\n",
        ")"
      ]
    },
    {
      "cell_type": "markdown",
      "source": [
        "## Validando informações referente ao dataset"
      ],
      "metadata": {
        "id": "IvaqViJjAQIe"
      }
    },
    {
      "cell_type": "code",
      "execution_count": null,
      "metadata": {
        "id": "09Rk0Qf1IYvZ",
        "outputId": "f97c28a3-f369-4810-81cb-fb94b2c3e4b8"
      },
      "outputs": [
        {
          "name": "stdout",
          "output_type": "stream",
          "text": [
            "tfds.core.DatasetInfo(\n",
            "    name='quickdraw_bitmap',\n",
            "    version=3.0.0,\n",
            "    description='The Quick Draw Dataset is a collection of 50 million drawings across 345 categories, contributed by players of the game Quick, Draw!. The bitmap dataset contains these drawings converted from vector format into 28x28 grayscale images',\n",
            "    homepage='https://github.com/googlecreativelab/quickdraw-dataset',\n",
            "    features=FeaturesDict({\n",
            "        'image': Image(shape=(28, 28, 1), dtype=tf.uint8),\n",
            "        'label': ClassLabel(shape=(), dtype=tf.int64, num_classes=345),\n",
            "    }),\n",
            "    total_num_examples=50426266,\n",
            "    splits={\n",
            "        'train': 50426266,\n",
            "    },\n",
            "    supervised_keys=('image', 'label'),\n",
            "    citation=\"\"\"@article{DBLP:journals/corr/HaE17,\n",
            "      author    = {David Ha and\n",
            "                   Douglas Eck},\n",
            "      title     = {A Neural Representation of Sketch Drawings},\n",
            "      journal   = {CoRR},\n",
            "      volume    = {abs/1704.03477},\n",
            "      year      = {2017},\n",
            "      url       = {http://arxiv.org/abs/1704.03477},\n",
            "      archivePrefix = {arXiv},\n",
            "      eprint    = {1704.03477},\n",
            "      timestamp = {Mon, 13 Aug 2018 16:48:30 +0200},\n",
            "      biburl    = {https://dblp.org/rec/bib/journals/corr/HaE17},\n",
            "      bibsource = {dblp computer science bibliography, https://dblp.org}\n",
            "    }\"\"\",\n",
            "    redistribution_info=,\n",
            ")\n",
            "\n"
          ]
        }
      ],
      "source": [
        "dataset_info"
      ]
    },
    {
      "cell_type": "markdown",
      "source": [
        "## Análise Exploratória dos Dados (EDA)"
      ],
      "metadata": {
        "id": "hwFBERjoAS2k"
      }
    },
    {
      "cell_type": "code",
      "execution_count": null,
      "metadata": {
        "id": "XcmWtRg2IYva",
        "outputId": "0c3d7942-48e3-4528-86a5-04e764d31675"
      },
      "outputs": [
        {
          "name": "stdout",
          "output_type": "stream",
          "text": [
            "num_examples:  50426266\n",
            "image_shape:  (28, 28, 1)\n",
            "num_classes:  345\n"
          ]
        }
      ],
      "source": [
        "image_shape = dataset_info.features['image'].shape\n",
        "num_classes = dataset_info.features['label'].num_classes\n",
        "num_examples = dataset_info.splits['train'].num_examples\n",
        "\n",
        "print('num_examples: ', num_examples)\n",
        "print('image_shape: ', image_shape)\n",
        "print('num_classes: ', num_classes)"
      ]
    },
    {
      "cell_type": "code",
      "execution_count": null,
      "metadata": {
        "id": "-YQWtDfBIYva",
        "outputId": "a4d5fe45-8a7d-442c-d3e3-9ddfbbdf8e30"
      },
      "outputs": [
        {
          "name": "stdout",
          "output_type": "stream",
          "text": [
            "classes num: 345\n",
            "classes:\n",
            "\n",
            " ['aircraft carrier', 'airplane', 'alarm clock', 'ambulance', 'angel', 'animal migration', 'ant', 'anvil', 'apple', 'arm', 'asparagus', 'axe', 'backpack', 'banana', 'bandage', 'barn', 'baseball bat', 'baseball', 'basket', 'basketball', 'bat', 'bathtub', 'beach', 'bear', 'beard', 'bed', 'bee', 'belt', 'bench', 'bicycle', 'binoculars', 'bird', 'birthday cake', 'blackberry', 'blueberry', 'book', 'boomerang', 'bottlecap', 'bowtie', 'bracelet', 'brain', 'bread', 'bridge', 'broccoli', 'broom', 'bucket', 'bulldozer', 'bus', 'bush', 'butterfly', 'cactus', 'cake', 'calculator', 'calendar', 'camel', 'camera', 'camouflage', 'campfire', 'candle', 'cannon', 'canoe', 'car', 'carrot', 'castle', 'cat', 'ceiling fan', 'cell phone', 'cello', 'chair', 'chandelier', 'church', 'circle', 'clarinet', 'clock', 'cloud', 'coffee cup', 'compass', 'computer', 'cookie', 'cooler', 'couch', 'cow', 'crab', 'crayon', 'crocodile', 'crown', 'cruise ship', 'cup', 'diamond', 'dishwasher', 'diving board', 'dog', 'dolphin', 'donut', 'door', 'dragon', 'dresser', 'drill', 'drums', 'duck', 'dumbbell', 'ear', 'elbow', 'elephant', 'envelope', 'eraser', 'eye', 'eyeglasses', 'face', 'fan', 'feather', 'fence', 'finger', 'fire hydrant', 'fireplace', 'firetruck', 'fish', 'flamingo', 'flashlight', 'flip flops', 'floor lamp', 'flower', 'flying saucer', 'foot', 'fork', 'frog', 'frying pan', 'garden hose', 'garden', 'giraffe', 'goatee', 'golf club', 'grapes', 'grass', 'guitar', 'hamburger', 'hammer', 'hand', 'harp', 'hat', 'headphones', 'hedgehog', 'helicopter', 'helmet', 'hexagon', 'hockey puck', 'hockey stick', 'horse', 'hospital', 'hot air balloon', 'hot dog', 'hot tub', 'hourglass', 'house plant', 'house', 'hurricane', 'ice cream', 'jacket', 'jail', 'kangaroo', 'key', 'keyboard', 'knee', 'knife', 'ladder', 'lantern', 'laptop', 'leaf', 'leg', 'light bulb', 'lighter', 'lighthouse', 'lightning', 'line', 'lion', 'lipstick', 'lobster', 'lollipop', 'mailbox', 'map', 'marker', 'matches', 'megaphone', 'mermaid', 'microphone', 'microwave', 'monkey', 'moon', 'mosquito', 'motorbike', 'mountain', 'mouse', 'moustache', 'mouth', 'mug', 'mushroom', 'nail', 'necklace', 'nose', 'ocean', 'octagon', 'octopus', 'onion', 'oven', 'owl', 'paint can', 'paintbrush', 'palm tree', 'panda', 'pants', 'paper clip', 'parachute', 'parrot', 'passport', 'peanut', 'pear', 'peas', 'pencil', 'penguin', 'piano', 'pickup truck', 'picture frame', 'pig', 'pillow', 'pineapple', 'pizza', 'pliers', 'police car', 'pond', 'pool', 'popsicle', 'postcard', 'potato', 'power outlet', 'purse', 'rabbit', 'raccoon', 'radio', 'rain', 'rainbow', 'rake', 'remote control', 'rhinoceros', 'rifle', 'river', 'roller coaster', 'rollerskates', 'sailboat', 'sandwich', 'saw', 'saxophone', 'school bus', 'scissors', 'scorpion', 'screwdriver', 'sea turtle', 'see saw', 'shark', 'sheep', 'shoe', 'shorts', 'shovel', 'sink', 'skateboard', 'skull', 'skyscraper', 'sleeping bag', 'smiley face', 'snail', 'snake', 'snorkel', 'snowflake', 'snowman', 'soccer ball', 'sock', 'speedboat', 'spider', 'spoon', 'spreadsheet', 'square', 'squiggle', 'squirrel', 'stairs', 'star', 'steak', 'stereo', 'stethoscope', 'stitches', 'stop sign', 'stove', 'strawberry', 'streetlight', 'string bean', 'submarine', 'suitcase', 'sun', 'swan', 'sweater', 'swing set', 'sword', 'syringe', 't-shirt', 'table', 'teapot', 'teddy-bear', 'telephone', 'television', 'tennis racquet', 'tent', 'The Eiffel Tower', 'The Great Wall of China', 'The Mona Lisa', 'tiger', 'toaster', 'toe', 'toilet', 'tooth', 'toothbrush', 'toothpaste', 'tornado', 'tractor', 'traffic light', 'train', 'tree', 'triangle', 'trombone', 'truck', 'trumpet', 'umbrella', 'underwear', 'van', 'vase', 'violin', 'washing machine', 'watermelon', 'waterslide', 'whale', 'wheel', 'windmill', 'wine bottle', 'wine glass', 'wristwatch', 'yoga', 'zebra', 'zigzag']\n"
          ]
        }
      ],
      "source": [
        "label_index_to_string = dataset_info.features['label'].int2str\n",
        "\n",
        "classes = []\n",
        "\n",
        "for class_index in range(num_classes):\n",
        "    classes.append(label_index_to_string(class_index))\n",
        "    \n",
        "print('classes num:', len(classes))\n",
        "print('classes:\\n\\n', classes)"
      ]
    },
    {
      "cell_type": "code",
      "execution_count": null,
      "metadata": {
        "id": "QdkcRV25IYva",
        "outputId": "b2f6e84d-9e8d-4e76-ccc8-e3d49a802b43"
      },
      "outputs": [
        {
          "name": "stdout",
          "output_type": "stream",
          "text": [
            "<DatasetV1Adapter shapes: {image: (28, 28, 1), label: ()}, types: {image: tf.uint8, label: tf.int64}>\n"
          ]
        }
      ],
      "source": [
        "print(dataset)"
      ]
    },
    {
      "cell_type": "code",
      "execution_count": null,
      "metadata": {
        "id": "sbTaeToBIYvc"
      },
      "outputs": [],
      "source": [
        "def dataset_head(ds):\n",
        "    for example in ds.take(1):\n",
        "        image = example['image']\n",
        "        label = example['label']\n",
        "\n",
        "        class_index = label.numpy()\n",
        "        class_name = label_index_to_string(class_index)\n",
        "\n",
        "        print('{} ({})'.format(class_name, class_index), '\\n')\n",
        "        print('Image shape: ', image.shape, '\\n')\n",
        "        print(np.reshape(image.numpy(), (28, 28)), '\\n')"
      ]
    },
    {
      "cell_type": "code",
      "execution_count": null,
      "metadata": {
        "id": "I6HZPot_IYvc",
        "outputId": "2f2d3fb6-8988-4092-fd57-1d03f53b61fe"
      },
      "outputs": [
        {
          "name": "stdout",
          "output_type": "stream",
          "text": [
            "backpack (12) \n",
            "\n",
            "Image shape:  (28, 28, 1) \n",
            "\n",
            "[[  0   0   0   0   0   0   0   0   0   0   0   0   0   0   0   0   0   0\n",
            "    0   0   0   0   0   0   0   0   0   0]\n",
            " [  0   0   0   0   0   0   0   0   0   0   0   0   0   3  31  63  95 115\n",
            "   86  50   2   0   0   0   0   0   0   0]\n",
            " [  0   0   0   0   0  75 183 176 152  10  54 182 222 250 255 255 255 255\n",
            "  255 255 231 151  61   0   0   0   0   0]\n",
            " [  0   0   0   0 129 255 216 202 255  98 220 222 157 125  93  60  28   8\n",
            "   38  82 162 239 254 108   0   0   0   0]\n",
            " [  0   0   0  33 250 158   4   0 204 209 255 236 105   0   0   0   0   0\n",
            "    0   0   0   6 164 254  88   0   0   0]\n",
            " [  0   0   0 158 243  30 155 235 211 255 254 185 255  97   0   0   0   0\n",
            "    0   0   0   0   3 193 229  10   0   0]\n",
            " [  0   0  38 251 134 153 251 162 252 245 225   1 180 241   6   0   0   0\n",
            "    0   0   0   0   0  69 255  62   0   0]\n",
            " [  0   0 150 240  26 245 145   0 116 255 149   0  75 255  58   0   0   0\n",
            "    0   0   0   0   0  29 255  94   0   0]\n",
            " [  0   0 209 173  77 255  62   0  62 255  68   0  14 251 122   0   0   0\n",
            "    0   0   0   0   0   2 249 128   0   0]\n",
            " [  0   0 240 138 151 236   4   0  76 255  46   0   0 221 157   0   0   0\n",
            "    0   0   0   0   0   0 218 160   0   0]\n",
            " [  0   0 251 127 188 188   0   0  76 255  46   0   0 213 164   0   4  45\n",
            "    0   0   0   0   0   0 186 193   0   0]\n",
            " [  0   5 255 117 199 176   0   0  76 255  46   0   0 205 173   0  75 251\n",
            "    9   0  44 154   2   0 158 226   0   0]\n",
            " [  0  14 255 108 209 166   0   0  76 255  46   0   0 160 243 102  44  61\n",
            "   34  35  98 199 132 170 251 252   6   0]\n",
            " [  0  23 255  99 220 156   0   0  76 255  46   0   0 120 249 255 255 255\n",
            "  255 255 255 255 247 214 202 255  24   0]\n",
            " [  0  17 255 108 221 162   0   0  72 255  51   0   0 129 247  31  82  85\n",
            "   85  85  62  28   1   0 108 255  13   0]\n",
            " [  0   0 237 143 159 232   3   0  38 255  87   0   0 129 247   0   0   0\n",
            "    0   0   0   0   0   0 121 253   2   0]\n",
            " [  0   0 198 199  73 255  78   0   4 248 127   0   0 129 247   0   0   0\n",
            "   20  63  39   8   0   0 134 242   0   0]\n",
            " [  0   0  96 255 101 220 233  96   1 213 166   0   0 129 247   0  95 204\n",
            "  253 255 255 255 230 199 218 232   0   0]\n",
            " [  0   0   1 180 252 136 189 255 106 173 207   0   0 129 247   0 239 228\n",
            "  116  63  84 115 147 185 255 231   0   0]\n",
            " [  0   0   0   8 161 255 163  76  22 133 246   2   0 129 247   0 198 177\n",
            "    0   0   0   0   0  49 255 220   0   0]\n",
            " [  0   0   0   0   0 113 251 242 196 240 255  37   0 129 247   0 208 168\n",
            "    0   0   0   0   0 130 254 190   0   0]\n",
            " [  0   0   0   0   0   0  56 141 184 165 248 159   0 126 250   0 174 224\n",
            "   13   0   0   0   0 219 255 115   0   0]\n",
            " [  0   0   0   0   0   0   0   0   0   0 127 254  60 116 255   5  69 252\n",
            "  230  96   2   0  46 255 253  30   0   0]\n",
            " [  0   0   0   0   0   0   0   0   0   0   9 215 241 161 255  15   0  46\n",
            "  190 255 206 169 244 255 117   0   0   0]\n",
            " [  0   0   0   0   0   0   0   0   0   0   0  23 203 255 255 229 217 204\n",
            "  191 227 255 255 251 156   0   0   0   0]\n",
            " [  0   0   0   0   0   0   0   0   0   0   0   0   1 108 255 183 159 170\n",
            "  185 170 112  65   4   0   0   0   0   0]\n",
            " [  0   0   0   0   0   0   0   0   0   0   0   0   0   3  97  23   0   0\n",
            "    0   0   0   0   0   0   0   0   0   0]\n",
            " [  0   0   0   0   0   0   0   0   0   0   0   0   0   0   0   0   0   0\n",
            "    0   0   0   0   0   0   0   0   0   0]] \n",
            "\n"
          ]
        }
      ],
      "source": [
        "dataset_head(dataset)"
      ]
    },
    {
      "cell_type": "markdown",
      "metadata": {
        "id": "0OvY49G6IYvc"
      },
      "source": [
        "## Normalize dataset"
      ]
    },
    {
      "cell_type": "code",
      "execution_count": null,
      "metadata": {
        "id": "u07KzdymIYvd"
      },
      "outputs": [],
      "source": [
        "def normalize_example(example):\n",
        "    image = example['image']\n",
        "    label = example['label']\n",
        "    label = tf.one_hot(label, len(classes))\n",
        "    \n",
        "    image = tf.math.divide(image, 255)\n",
        "    \n",
        "    return (image, label)"
      ]
    },
    {
      "cell_type": "code",
      "execution_count": null,
      "metadata": {
        "id": "ImNDPJU-IYvd"
      },
      "outputs": [],
      "source": [
        "def augment_example(image, label):\n",
        "    image = tf.image.random_flip_left_right(image)\n",
        "    return (image, label)"
      ]
    },
    {
      "cell_type": "code",
      "execution_count": null,
      "metadata": {
        "id": "Gb0dGah1IYvd"
      },
      "outputs": [],
      "source": [
        "dataset_normalized = dataset.map(normalize_example).map(augment_example)"
      ]
    },
    {
      "cell_type": "code",
      "execution_count": null,
      "metadata": {
        "scrolled": false,
        "id": "VnID51erIYvd",
        "outputId": "c70c1e4d-ea58-4aa5-bb87-ef29a57ccd37"
      },
      "outputs": [
        {
          "name": "stdout",
          "output_type": "stream",
          "text": [
            "backpack (12) \n",
            "\n",
            "Image shape:  (28, 28, 1) \n",
            "\n",
            "[[0.         0.         0.         0.         0.         0.\n",
            "  0.         0.         0.         0.         0.         0.\n",
            "  0.         0.         0.         0.         0.         0.\n",
            "  0.         0.         0.         0.         0.         0.\n",
            "  0.         0.         0.         0.        ]\n",
            " [0.         0.         0.         0.         0.         0.\n",
            "  0.         0.         0.         0.         0.         0.\n",
            "  0.         0.01176471 0.12156863 0.24705882 0.37254903 0.4509804\n",
            "  0.3372549  0.19607843 0.00784314 0.         0.         0.\n",
            "  0.         0.         0.         0.        ]\n",
            " [0.         0.         0.         0.         0.         0.29411766\n",
            "  0.7176471  0.6901961  0.59607846 0.03921569 0.21176471 0.7137255\n",
            "  0.87058824 0.98039216 1.         1.         1.         1.\n",
            "  1.         1.         0.90588236 0.5921569  0.23921569 0.\n",
            "  0.         0.         0.         0.        ]\n",
            " [0.         0.         0.         0.         0.5058824  1.\n",
            "  0.84705883 0.7921569  1.         0.38431373 0.8627451  0.87058824\n",
            "  0.6156863  0.49019608 0.3647059  0.23529412 0.10980392 0.03137255\n",
            "  0.14901961 0.32156864 0.63529414 0.9372549  0.99607843 0.42352942\n",
            "  0.         0.         0.         0.        ]\n",
            " [0.         0.         0.         0.12941177 0.98039216 0.61960787\n",
            "  0.01568628 0.         0.8        0.81960785 1.         0.9254902\n",
            "  0.4117647  0.         0.         0.         0.         0.\n",
            "  0.         0.         0.         0.02352941 0.6431373  0.99607843\n",
            "  0.34509805 0.         0.         0.        ]\n",
            " [0.         0.         0.         0.61960787 0.9529412  0.11764706\n",
            "  0.60784316 0.92156863 0.827451   1.         0.99607843 0.7254902\n",
            "  1.         0.38039216 0.         0.         0.         0.\n",
            "  0.         0.         0.         0.         0.01176471 0.75686276\n",
            "  0.8980392  0.03921569 0.         0.        ]\n",
            " [0.         0.         0.14901961 0.9843137  0.5254902  0.6\n",
            "  0.9843137  0.63529414 0.9882353  0.9607843  0.88235295 0.00392157\n",
            "  0.7058824  0.94509804 0.02352941 0.         0.         0.\n",
            "  0.         0.         0.         0.         0.         0.27058825\n",
            "  1.         0.24313726 0.         0.        ]\n",
            " [0.         0.         0.5882353  0.9411765  0.10196079 0.9607843\n",
            "  0.5686275  0.         0.45490196 1.         0.58431375 0.\n",
            "  0.29411766 1.         0.22745098 0.         0.         0.\n",
            "  0.         0.         0.         0.         0.         0.11372549\n",
            "  1.         0.36862746 0.         0.        ]\n",
            " [0.         0.         0.81960785 0.6784314  0.3019608  1.\n",
            "  0.24313726 0.         0.24313726 1.         0.26666668 0.\n",
            "  0.05490196 0.9843137  0.47843137 0.         0.         0.\n",
            "  0.         0.         0.         0.         0.         0.00784314\n",
            "  0.9764706  0.5019608  0.         0.        ]\n",
            " [0.         0.         0.9411765  0.5411765  0.5921569  0.9254902\n",
            "  0.01568628 0.         0.29803923 1.         0.18039216 0.\n",
            "  0.         0.8666667  0.6156863  0.         0.         0.\n",
            "  0.         0.         0.         0.         0.         0.\n",
            "  0.85490197 0.627451   0.         0.        ]\n",
            " [0.         0.         0.9843137  0.49803922 0.7372549  0.7372549\n",
            "  0.         0.         0.29803923 1.         0.18039216 0.\n",
            "  0.         0.8352941  0.6431373  0.         0.01568628 0.1764706\n",
            "  0.         0.         0.         0.         0.         0.\n",
            "  0.7294118  0.75686276 0.         0.        ]\n",
            " [0.         0.01960784 1.         0.45882353 0.78039217 0.6901961\n",
            "  0.         0.         0.29803923 1.         0.18039216 0.\n",
            "  0.         0.8039216  0.6784314  0.         0.29411766 0.9843137\n",
            "  0.03529412 0.         0.17254902 0.6039216  0.00784314 0.\n",
            "  0.61960787 0.8862745  0.         0.        ]\n",
            " [0.         0.05490196 1.         0.42352942 0.81960785 0.6509804\n",
            "  0.         0.         0.29803923 1.         0.18039216 0.\n",
            "  0.         0.627451   0.9529412  0.4        0.17254902 0.23921569\n",
            "  0.13333334 0.13725491 0.38431373 0.78039217 0.5176471  0.6666667\n",
            "  0.9843137  0.9882353  0.02352941 0.        ]\n",
            " [0.         0.09019608 1.         0.3882353  0.8627451  0.6117647\n",
            "  0.         0.         0.29803923 1.         0.18039216 0.\n",
            "  0.         0.47058824 0.9764706  1.         1.         1.\n",
            "  1.         1.         1.         1.         0.96862745 0.8392157\n",
            "  0.7921569  1.         0.09411765 0.        ]\n",
            " [0.         0.06666667 1.         0.42352942 0.8666667  0.63529414\n",
            "  0.         0.         0.28235295 1.         0.2        0.\n",
            "  0.         0.5058824  0.96862745 0.12156863 0.32156864 0.33333334\n",
            "  0.33333334 0.33333334 0.24313726 0.10980392 0.00392157 0.\n",
            "  0.42352942 1.         0.05098039 0.        ]\n",
            " [0.         0.         0.92941177 0.56078434 0.62352943 0.9098039\n",
            "  0.01176471 0.         0.14901961 1.         0.34117648 0.\n",
            "  0.         0.5058824  0.96862745 0.         0.         0.\n",
            "  0.         0.         0.         0.         0.         0.\n",
            "  0.4745098  0.99215686 0.00784314 0.        ]\n",
            " [0.         0.         0.7764706  0.78039217 0.28627452 1.\n",
            "  0.30588236 0.         0.01568628 0.972549   0.49803922 0.\n",
            "  0.         0.5058824  0.96862745 0.         0.         0.\n",
            "  0.07843138 0.24705882 0.15294118 0.03137255 0.         0.\n",
            "  0.5254902  0.9490196  0.         0.        ]\n",
            " [0.         0.         0.3764706  1.         0.39607844 0.8627451\n",
            "  0.9137255  0.3764706  0.00392157 0.8352941  0.6509804  0.\n",
            "  0.         0.5058824  0.96862745 0.         0.37254903 0.8\n",
            "  0.99215686 1.         1.         1.         0.9019608  0.78039217\n",
            "  0.85490197 0.9098039  0.         0.        ]\n",
            " [0.         0.         0.00392157 0.7058824  0.9882353  0.53333336\n",
            "  0.7411765  1.         0.41568628 0.6784314  0.8117647  0.\n",
            "  0.         0.5058824  0.96862745 0.         0.9372549  0.89411765\n",
            "  0.45490196 0.24705882 0.32941177 0.4509804  0.5764706  0.7254902\n",
            "  1.         0.90588236 0.         0.        ]\n",
            " [0.         0.         0.         0.03137255 0.6313726  1.\n",
            "  0.6392157  0.29803923 0.08627451 0.52156866 0.9647059  0.00784314\n",
            "  0.         0.5058824  0.96862745 0.         0.7764706  0.69411767\n",
            "  0.         0.         0.         0.         0.         0.19215687\n",
            "  1.         0.8627451  0.         0.        ]\n",
            " [0.         0.         0.         0.         0.         0.44313726\n",
            "  0.9843137  0.9490196  0.76862746 0.9411765  1.         0.14509805\n",
            "  0.         0.5058824  0.96862745 0.         0.8156863  0.65882355\n",
            "  0.         0.         0.         0.         0.         0.50980395\n",
            "  0.99607843 0.74509805 0.         0.        ]\n",
            " [0.         0.         0.         0.         0.         0.\n",
            "  0.21960784 0.5529412  0.72156864 0.64705884 0.972549   0.62352943\n",
            "  0.         0.49411765 0.98039216 0.         0.68235296 0.8784314\n",
            "  0.05098039 0.         0.         0.         0.         0.85882354\n",
            "  1.         0.4509804  0.         0.        ]\n",
            " [0.         0.         0.         0.         0.         0.\n",
            "  0.         0.         0.         0.         0.49803922 0.99607843\n",
            "  0.23529412 0.45490196 1.         0.01960784 0.27058825 0.9882353\n",
            "  0.9019608  0.3764706  0.00784314 0.         0.18039216 1.\n",
            "  0.99215686 0.11764706 0.         0.        ]\n",
            " [0.         0.         0.         0.         0.         0.\n",
            "  0.         0.         0.         0.         0.03529412 0.84313726\n",
            "  0.94509804 0.6313726  1.         0.05882353 0.         0.18039216\n",
            "  0.74509805 1.         0.80784315 0.6627451  0.95686275 1.\n",
            "  0.45882353 0.         0.         0.        ]\n",
            " [0.         0.         0.         0.         0.         0.\n",
            "  0.         0.         0.         0.         0.         0.09019608\n",
            "  0.79607844 1.         1.         0.8980392  0.8509804  0.8\n",
            "  0.7490196  0.8901961  1.         1.         0.9843137  0.6117647\n",
            "  0.         0.         0.         0.        ]\n",
            " [0.         0.         0.         0.         0.         0.\n",
            "  0.         0.         0.         0.         0.         0.\n",
            "  0.00392157 0.42352942 1.         0.7176471  0.62352943 0.6666667\n",
            "  0.7254902  0.6666667  0.4392157  0.25490198 0.01568628 0.\n",
            "  0.         0.         0.         0.        ]\n",
            " [0.         0.         0.         0.         0.         0.\n",
            "  0.         0.         0.         0.         0.         0.\n",
            "  0.         0.01176471 0.38039216 0.09019608 0.         0.\n",
            "  0.         0.         0.         0.         0.         0.\n",
            "  0.         0.         0.         0.        ]\n",
            " [0.         0.         0.         0.         0.         0.\n",
            "  0.         0.         0.         0.         0.         0.\n",
            "  0.         0.         0.         0.         0.         0.\n",
            "  0.         0.         0.         0.         0.         0.\n",
            "  0.         0.         0.         0.        ]] \n",
            "\n"
          ]
        }
      ],
      "source": [
        "for (image, label) in dataset_normalized.take(1):\n",
        "    class_index = tf.math.argmax(label).numpy()\n",
        "    class_name = label_index_to_string(class_index)\n",
        "\n",
        "    print('{} ({})'.format(class_name, class_index), '\\n')\n",
        "    print('Image shape: ', image.shape, '\\n')\n",
        "    print(np.reshape(image.numpy(), (28, 28)), '\\n')"
      ]
    },
    {
      "cell_type": "markdown",
      "metadata": {
        "id": "9ia2tLtpIYvd"
      },
      "source": [
        "## Preparando os dados de treino, validação e teste"
      ]
    },
    {
      "cell_type": "code",
      "execution_count": null,
      "metadata": {
        "id": "illWyQdmIYve",
        "outputId": "6db2ca51-1206-4226-8fdd-47583ae15ef3"
      },
      "outputs": [
        {
          "name": "stdout",
          "output_type": "stream",
          "text": [
            "tmp_ds: [0, 1, 2, 3, 4, 5, 6, 7, 8, 9]\n",
            "tmp_ds_test: [0, 1]\n",
            "tmp_ds_val: [2, 3, 4]\n",
            "tmp_ds_train: [5, 6, 7, 8, 9]\n"
          ]
        }
      ],
      "source": [
        "data_ds = tf.data.Dataset.range(10)\n",
        "print('tmp_ds:', list(data_ds.as_numpy_iterator()))\n",
        "\n",
        "data_ds_test = data_ds.take(2)\n",
        "print('tmp_ds_test:', list(data_ds_test.as_numpy_iterator()))\n",
        "\n",
        "data_ds_val = data_ds.skip(2).take(3)\n",
        "print('tmp_ds_val:', list(data_ds_val.as_numpy_iterator()))\n",
        "\n",
        "data_ds_train = data_ds.skip(2 + 3)\n",
        "print('tmp_ds_train:', list(data_ds_train.as_numpy_iterator()))"
      ]
    },
    {
      "cell_type": "code",
      "execution_count": null,
      "metadata": {
        "id": "FdV9JNGQIYve"
      },
      "outputs": [],
      "source": [
        "test_dataset_batches = 1\n",
        "val_dataset_batches = 1\n",
        "\n",
        "batch_size = 2000\n",
        "prefetch_buffer_batches = 10\n",
        "\n",
        "epochs = 30\n",
        "steps_per_epoch = 30"
      ]
    },
    {
      "cell_type": "code",
      "execution_count": null,
      "metadata": {
        "id": "g4ZImQJ9IYve"
      },
      "outputs": [],
      "source": [
        "dataset_batched = dataset_normalized.batch(batch_size=batch_size)"
      ]
    },
    {
      "cell_type": "markdown",
      "source": [
        "## Criando dataset de teste"
      ],
      "metadata": {
        "id": "hm8eXLhYBf8c"
      }
    },
    {
      "cell_type": "code",
      "source": [
        "dataset_test = dataset_batched \\\n",
        "    .take(test_dataset_batches)"
      ],
      "metadata": {
        "id": "SSWhfR2tBrn2"
      },
      "execution_count": null,
      "outputs": []
    },
    {
      "cell_type": "markdown",
      "source": [
        "## Criando dataset de validação"
      ],
      "metadata": {
        "id": "M8LQS8WpBtKN"
      }
    },
    {
      "cell_type": "code",
      "source": [
        "dataset_val = dataset_batched \\\n",
        "    .skip(test_dataset_batches) \\\n",
        "    .take(val_dataset_batches)"
      ],
      "metadata": {
        "id": "quC268nNBwkc"
      },
      "execution_count": null,
      "outputs": []
    },
    {
      "cell_type": "markdown",
      "source": [
        "## Criando dataset de treino"
      ],
      "metadata": {
        "id": "6yJLJBrOBxdI"
      }
    },
    {
      "cell_type": "code",
      "execution_count": null,
      "metadata": {
        "id": "DgaUvMImIYve"
      },
      "outputs": [],
      "source": [
        "dataset_train = dataset_batched \\\n",
        "    .skip(test_dataset_batches + val_dataset_batches) \\\n",
        "    .prefetch(buffer_size=prefetch_buffer_batches) \\\n",
        "    .repeat()"
      ]
    },
    {
      "cell_type": "code",
      "execution_count": null,
      "metadata": {
        "id": "cC1UKuacIYve",
        "outputId": "8ec057e3-4ce7-41a3-c374-9a747fb0171a"
      },
      "outputs": [
        {
          "name": "stdout",
          "output_type": "stream",
          "text": [
            "label_test.shape:  (2000, 345)\n",
            "image_test.shape:  (2000, 28, 28, 1)\n",
            "\n",
            "label_val.shape:  (2000, 345)\n",
            "image_val.shape:  (2000, 28, 28, 1)\n",
            "\n",
            "label_train.shape:  (2000, 345)\n",
            "image_train.shape:  (2000, 28, 28, 1)\n"
          ]
        }
      ],
      "source": [
        "for (image_test, label_test) in dataset_test.take(1):\n",
        "    print('label_test.shape: ', label_test.shape)\n",
        "    print('image_test.shape: ', image_test.shape)\n",
        "    \n",
        "print()    \n",
        "    \n",
        "for (image_val, label_val) in dataset_val.take(1):\n",
        "    print('label_val.shape: ', label_val.shape)\n",
        "    print('image_val.shape: ', image_val.shape)    \n",
        "    \n",
        "print()    \n",
        "    \n",
        "for (image_train, label_train) in dataset_train.take(1):\n",
        "    print('label_train.shape: ', label_train.shape)\n",
        "    print('image_train.shape: ', image_train.shape)    "
      ]
    },
    {
      "cell_type": "code",
      "execution_count": null,
      "metadata": {
        "id": "-hydH2xFIYvf"
      },
      "outputs": [],
      "source": [
        "def get_dataset_classes_hist(dataset, classes, batches_num):\n",
        "    mentions = {class_name: 0 for class_name in classes}\n",
        "    for examples, labels in dataset.take(batches_num):\n",
        "        for label in labels:\n",
        "            class_name = classes[tf.math.argmax(label).numpy()]\n",
        "            mentions[class_name] += 1    \n",
        "    return mentions"
      ]
    },
    {
      "cell_type": "code",
      "execution_count": null,
      "metadata": {
        "id": "md2tYcRvIYvf"
      },
      "outputs": [],
      "source": [
        "mentions = get_dataset_classes_hist(\n",
        "    dataset_train,\n",
        "    classes,\n",
        "    batches_num=steps_per_epoch\n",
        ")"
      ]
    },
    {
      "cell_type": "code",
      "execution_count": null,
      "metadata": {
        "id": "YRQA_jOiIYvf",
        "outputId": "db62d480-35a7-4318-a7eb-64dd37d69433"
      },
      "outputs": [
        {
          "name": "stdout",
          "output_type": "stream",
          "text": [
            "aircraft carrier: 2295\n",
            "airplane       : 3030\n",
            "alarm clock    : 2458\n",
            "ambulance      : 2842\n",
            "angel          : 2926\n",
            "animal migration: 2706\n",
            "ant            : 2548\n",
            "anvil          : 2553\n",
            "apple          : 2904\n",
            "arm            : 2373\n",
            "asparagus      : 3351\n",
            "axe            : 2473\n",
            "backpack       : 2429\n",
            "banana         : 6052\n",
            "bandage        : 2935\n",
            "barn           : 2956\n",
            "baseball bat   : 2381\n",
            "baseball       : 2668\n",
            "basket         : 2278\n",
            "basketball     : 2662\n",
            "bat            : 2371\n",
            "bathtub        : 3429\n",
            "beach          : 2515\n",
            "bear           : 2679\n",
            "beard          : 3318\n",
            "bed            : 2346\n",
            "bee            : 2417\n",
            "belt           : 3876\n",
            "bench          : 2531\n",
            "bicycle        : 2501\n",
            "binoculars     : 2432\n",
            "bird           : 2619\n",
            "birthday cake  : 3036\n",
            "blackberry     : 2570\n",
            "blueberry      : 2537\n",
            "book           : 2389\n",
            "boomerang      : 2918\n",
            "bottlecap      : 3091\n",
            "bowtie         : 2549\n",
            "bracelet       : 2394\n",
            "brain          : 2770\n",
            "bread          : 2356\n",
            "bridge         : 2638\n",
            "broccoli       : 2613\n",
            "broom          : 2347\n",
            "bucket         : 2423\n",
            "bulldozer      : 3645\n",
            "bus            : 3293\n",
            "bush           : 2425\n",
            "butterfly      : 2333\n",
            "cactus         : 2663\n",
            "cake           : 2415\n",
            "calculator     : 2543\n",
            "calendar       : 6369\n",
            "camel          : 2429\n",
            "camera         : 2521\n",
            "camouflage     : 3377\n",
            "campfire       : 2694\n",
            "candle         : 2764\n",
            "cannon         : 2768\n",
            "canoe          : 2500\n",
            "car            : 3560\n",
            "carrot         : 2643\n",
            "castle         : 2380\n",
            "cat            : 2385\n",
            "ceiling fan    : 2282\n",
            "cell phone     : 2415\n",
            "cello          : 3012\n",
            "chair          : 4409\n",
            "chandelier     : 3392\n",
            "church         : 3305\n",
            "circle         : 2414\n",
            "clarinet       : 2518\n",
            "clock          : 2371\n",
            "cloud          : 2465\n",
            "coffee cup     : 3613\n",
            "compass        : 2589\n",
            "computer       : 2450\n",
            "cookie         : 2664\n",
            "cooler         : 5334\n",
            "couch          : 2439\n",
            "cow            : 2458\n",
            "crab           : 2519\n",
            "crayon         : 2650\n",
            "crocodile      : 2568\n",
            "crown          : 2745\n",
            "cruise ship    : 2515\n",
            "cup            : 2624\n",
            "diamond        : 2617\n",
            "dishwasher     : 3346\n",
            "diving board   : 5817\n",
            "dog            : 3000\n",
            "dolphin        : 2446\n",
            "donut          : 2806\n",
            "door           : 2388\n",
            "dragon         : 2434\n",
            "dresser        : 2469\n",
            "drill          : 2673\n",
            "drums          : 2746\n",
            "duck           : 2658\n",
            "dumbbell       : 3085\n",
            "ear            : 2474\n",
            "elbow          : 2553\n",
            "elephant       : 2467\n",
            "envelope       : 2644\n",
            "eraser         : 2339\n",
            "eye            : 2579\n",
            "eyeglasses     : 4420\n",
            "face           : 3250\n",
            "fan            : 2657\n",
            "feather        : 2352\n",
            "fence          : 2584\n",
            "finger         : 3272\n",
            "fire hydrant   : 2710\n",
            "fireplace      : 3101\n",
            "firetruck      : 4426\n",
            "fish           : 2589\n",
            "flamingo       : 2463\n",
            "flashlight     : 4687\n",
            "flip flops     : 2406\n",
            "floor lamp     : 3254\n",
            "flower         : 2948\n",
            "flying saucer  : 2939\n",
            "foot           : 3890\n",
            "fork           : 2543\n",
            "frog           : 3120\n",
            "frying pan     : 2392\n",
            "garden hose    : 2384\n",
            "garden         : 3225\n",
            "giraffe        : 2511\n",
            "goatee         : 3803\n",
            "golf club      : 3867\n",
            "grapes         : 3037\n",
            "grass          : 2417\n",
            "guitar         : 2380\n",
            "hamburger      : 2604\n",
            "hammer         : 2313\n",
            "hand           : 5825\n",
            "harp           : 5799\n",
            "hat            : 4451\n",
            "headphones     : 2320\n",
            "hedgehog       : 2352\n",
            "helicopter     : 3123\n",
            "helmet         : 2452\n",
            "hexagon        : 2874\n",
            "hockey puck    : 4059\n",
            "hockey stick   : 2494\n",
            "horse          : 3555\n",
            "hospital       : 3317\n",
            "hot air balloon: 2532\n",
            "hot dog        : 3639\n",
            "hot tub        : 2438\n",
            "hourglass      : 2705\n",
            "house plant    : 2422\n",
            "house          : 2700\n",
            "hurricane      : 2659\n",
            "ice cream      : 2488\n",
            "jacket         : 4193\n",
            "jail           : 2410\n",
            "kangaroo       : 3356\n",
            "key            : 3121\n",
            "keyboard       : 3697\n",
            "knee           : 5312\n",
            "knife          : 3459\n",
            "ladder         : 2419\n",
            "lantern        : 2968\n",
            "laptop         : 5222\n",
            "leaf           : 2486\n",
            "leg            : 2329\n",
            "light bulb     : 2441\n",
            "lighter        : 2353\n",
            "lighthouse     : 3259\n",
            "lightning      : 3075\n",
            "line           : 2831\n",
            "lion           : 2396\n",
            "lipstick       : 2607\n",
            "lobster        : 2780\n",
            "lollipop       : 2525\n",
            "mailbox        : 2579\n",
            "map            : 2366\n",
            "marker         : 6420\n",
            "matches        : 2820\n",
            "megaphone      : 2790\n",
            "mermaid        : 3598\n",
            "microphone     : 2374\n",
            "microwave      : 2629\n",
            "monkey         : 2488\n",
            "moon           : 2394\n",
            "mosquito       : 2402\n",
            "motorbike      : 3379\n",
            "mountain       : 2463\n",
            "mouse          : 3548\n",
            "moustache      : 3572\n",
            "mouth          : 2591\n",
            "mug            : 3131\n",
            "mushroom       : 2815\n",
            "nail           : 3209\n",
            "necklace       : 2360\n",
            "nose           : 3790\n",
            "ocean          : 2555\n",
            "octagon        : 3217\n",
            "octopus        : 2965\n",
            "onion          : 2659\n",
            "oven           : 4101\n",
            "owl            : 3321\n",
            "paint can      : 2341\n",
            "paintbrush     : 3673\n",
            "palm tree      : 2384\n",
            "panda          : 2177\n",
            "pants          : 2892\n",
            "paper clip     : 2511\n",
            "parachute      : 2499\n",
            "parrot         : 3648\n",
            "passport       : 2981\n",
            "peanut         : 2518\n",
            "pear           : 2332\n",
            "peas           : 3167\n",
            "pencil         : 2523\n",
            "penguin        : 5005\n",
            "piano          : 2270\n",
            "pickup truck   : 2634\n",
            "picture frame  : 2455\n",
            "pig            : 3771\n",
            "pillow         : 2338\n",
            "pineapple      : 2504\n",
            "pizza          : 2636\n",
            "pliers         : 3528\n",
            "police car     : 2724\n",
            "pond           : 2381\n",
            "pool           : 2637\n",
            "popsicle       : 2486\n",
            "postcard       : 2515\n",
            "potato         : 6675\n",
            "power outlet   : 3284\n",
            "purse          : 2421\n",
            "rabbit         : 3032\n",
            "raccoon        : 2289\n",
            "radio          : 2653\n",
            "rain           : 2624\n",
            "rainbow        : 2489\n",
            "rake           : 3160\n",
            "remote control : 2320\n",
            "rhinoceros     : 3760\n",
            "rifle          : 3453\n",
            "river          : 2629\n",
            "roller coaster : 2885\n",
            "rollerskates   : 2340\n",
            "sailboat       : 2706\n",
            "sandwich       : 2607\n",
            "saw            : 2456\n",
            "saxophone      : 2244\n",
            "school bus     : 2417\n",
            "scissors       : 2451\n",
            "scorpion       : 3334\n",
            "screwdriver    : 2344\n",
            "sea turtle     : 2347\n",
            "see saw        : 2599\n",
            "shark          : 2529\n",
            "sheep          : 2519\n",
            "shoe           : 2435\n",
            "shorts         : 2460\n",
            "shovel         : 2338\n",
            "sink           : 4133\n",
            "skateboard     : 2572\n",
            "skull          : 2513\n",
            "skyscraper     : 3606\n",
            "sleeping bag   : 2278\n",
            "smiley face    : 2512\n",
            "snail          : 2616\n",
            "snake          : 2410\n",
            "snorkel        : 3065\n",
            "snowflake      : 2312\n",
            "snowman        : 6759\n",
            "soccer ball    : 2457\n",
            "sock           : 4093\n",
            "speedboat      : 3768\n",
            "spider         : 4084\n",
            "spoon          : 2531\n",
            "spreadsheet    : 3312\n",
            "square         : 2414\n",
            "squiggle       : 2370\n",
            "squirrel       : 2943\n",
            "stairs         : 2599\n",
            "star           : 2706\n",
            "steak          : 2410\n",
            "stereo         : 2518\n",
            "stethoscope    : 3000\n",
            "stitches       : 2519\n",
            "stop sign      : 2339\n",
            "stove          : 2348\n",
            "strawberry     : 2351\n",
            "streetlight    : 2533\n",
            "string bean    : 2411\n",
            "submarine      : 2522\n",
            "suitcase       : 2513\n",
            "sun            : 2716\n",
            "swan           : 3096\n",
            "sweater        : 2426\n",
            "swing set      : 2379\n",
            "sword          : 2489\n",
            "syringe        : 2654\n",
            "t-shirt        : 2458\n",
            "table          : 2561\n",
            "teapot         : 2525\n",
            "teddy-bear     : 3568\n",
            "telephone      : 2559\n",
            "television     : 2456\n",
            "tennis racquet : 4605\n",
            "tent           : 2589\n",
            "The Eiffel Tower: 2668\n",
            "The Great Wall of China: 3839\n",
            "The Mona Lisa  : 2320\n",
            "tiger          : 2382\n",
            "toaster        : 2400\n",
            "toe            : 2973\n",
            "toilet         : 2559\n",
            "tooth          : 2495\n",
            "toothbrush     : 2478\n",
            "toothpaste     : 2552\n",
            "tornado        : 2821\n",
            "tractor        : 2248\n",
            "traffic light  : 2466\n",
            "train          : 2559\n",
            "tree           : 2732\n",
            "triangle       : 2414\n",
            "trombone       : 3699\n",
            "truck          : 2603\n",
            "trumpet        : 3398\n",
            "umbrella       : 2510\n",
            "underwear      : 2502\n",
            "van            : 3241\n",
            "vase           : 2455\n",
            "violin         : 4292\n",
            "washing machine: 2434\n",
            "watermelon     : 2609\n",
            "waterslide     : 3768\n",
            "whale          : 2301\n",
            "wheel          : 2708\n",
            "windmill       : 2360\n",
            "wine bottle    : 2473\n",
            "wine glass     : 2712\n",
            "wristwatch     : 3311\n",
            "yoga           : 5547\n",
            "zebra          : 2917\n",
            "zigzag         : 2319\n"
          ]
        }
      ],
      "source": [
        "for class_name in mentions:\n",
        "    print('{:15s}: {}'.format(class_name, mentions[class_name]))"
      ]
    },
    {
      "cell_type": "code",
      "execution_count": null,
      "metadata": {
        "id": "OpLSzDpoIYvg",
        "outputId": "d1276b70-983f-46a3-97df-5609266e59fc"
      },
      "outputs": [
        {
          "data": {
            "image/png": "[encoded data removed]",
            "text/plain": [
              "<Figure size 432x288 with 1 Axes>"
            ]
          },
          "metadata": {
            "needs_background": "light"
          },
          "output_type": "display_data"
        }
      ],
      "source": [
        "mantions_x = [class_index for class_index, class_name in enumerate(classes)]\n",
        "mantions_bars = [mentions[class_name] for class_name in mentions]\n",
        "\n",
        "plt.bar(mantions_x, mantions_bars)\n",
        "plt.xlabel('Class index')\n",
        "plt.ylabel('Items per class')\n",
        "plt.show()"
      ]
    },
    {
      "cell_type": "markdown",
      "metadata": {
        "id": "EL-BDnk4IYvg"
      },
      "source": [
        "## Criando modelo"
      ]
    },
    {
      "cell_type": "code",
      "execution_count": null,
      "metadata": {
        "id": "YSf8BiZMIYvg"
      },
      "outputs": [],
      "source": [
        "model = tf.keras.models.Sequential()\n",
        "\n",
        "model.add(tf.keras.layers.Convolution2D(\n",
        "    input_shape=image_shape,\n",
        "    kernel_size=5,\n",
        "    filters=32,\n",
        "    padding='same',\n",
        "    activation=tf.keras.activations.relu\n",
        "))\n",
        "model.add(tf.keras.layers.MaxPooling2D(\n",
        "    pool_size=2,\n",
        "    strides=2\n",
        "))\n",
        "\n",
        "model.add(tf.keras.layers.Convolution2D(\n",
        "    kernel_size=3,\n",
        "    filters=32,\n",
        "    padding='same',\n",
        "    activation=tf.keras.activations.relu,\n",
        "))\n",
        "model.add(tf.keras.layers.MaxPooling2D(\n",
        "    pool_size=2,\n",
        "    strides=2\n",
        "))\n",
        "\n",
        "model.add(tf.keras.layers.Convolution2D(\n",
        "    kernel_size=3,\n",
        "    filters=64,\n",
        "    padding='same',\n",
        "    activation=tf.keras.activations.relu\n",
        "))\n",
        "model.add(tf.keras.layers.MaxPooling2D(\n",
        "    pool_size=2,\n",
        "    strides=2\n",
        "))\n",
        "\n",
        "model.add(tf.keras.layers.Flatten())\n",
        "\n",
        "model.add(tf.keras.layers.Dense(\n",
        "    units=512,\n",
        "    activation=tf.keras.activations.relu\n",
        "))\n",
        "\n",
        "model.add(tf.keras.layers.Dense(\n",
        "    units=num_classes,\n",
        "    activation=tf.keras.activations.softmax\n",
        "))"
      ]
    },
    {
      "cell_type": "code",
      "execution_count": null,
      "metadata": {
        "id": "adjC82cXIYvh",
        "outputId": "cd184fb1-4a35-4345-87ee-cb3c95ba7c83"
      },
      "outputs": [
        {
          "name": "stdout",
          "output_type": "stream",
          "text": [
            "Model: \"sequential_19\"\n",
            "_________________________________________________________________\n",
            "Layer (type)                 Output Shape              Param #   \n",
            "=================================================================\n",
            "conv2d_57 (Conv2D)           (None, 28, 28, 32)        832       \n",
            "_________________________________________________________________\n",
            "max_pooling2d_57 (MaxPooling (None, 14, 14, 32)        0         \n",
            "_________________________________________________________________\n",
            "conv2d_58 (Conv2D)           (None, 14, 14, 32)        9248      \n",
            "_________________________________________________________________\n",
            "max_pooling2d_58 (MaxPooling (None, 7, 7, 32)          0         \n",
            "_________________________________________________________________\n",
            "conv2d_59 (Conv2D)           (None, 7, 7, 64)          18496     \n",
            "_________________________________________________________________\n",
            "max_pooling2d_59 (MaxPooling (None, 3, 3, 64)          0         \n",
            "_________________________________________________________________\n",
            "flatten_19 (Flatten)         (None, 576)               0         \n",
            "_________________________________________________________________\n",
            "dense_43 (Dense)             (None, 512)               295424    \n",
            "_________________________________________________________________\n",
            "dense_44 (Dense)             (None, 345)               176985    \n",
            "=================================================================\n",
            "Total params: 500,985\n",
            "Trainable params: 500,985\n",
            "Non-trainable params: 0\n",
            "_________________________________________________________________\n"
          ]
        }
      ],
      "source": [
        "model.summary()"
      ]
    },
    {
      "cell_type": "code",
      "execution_count": null,
      "metadata": {
        "id": "1snzU7-lIYvh"
      },
      "outputs": [],
      "source": [
        "adam_optimizer = tf.keras.optimizers.Adam(learning_rate=0.003)\n",
        "rms_prop_optimizer = tf.keras.optimizers.RMSprop(learning_rate=0.001)\n",
        "sgd_optimizer = tf.keras.optimizers.SGD(learning_rate=0.01)\n",
        "\n",
        "model.compile(\n",
        "    optimizer=adam_optimizer,\n",
        "    loss=tf.keras.losses.categorical_crossentropy,\n",
        "    metrics=['accuracy']\n",
        ")"
      ]
    },
    {
      "cell_type": "markdown",
      "metadata": {
        "id": "CB-kAhQKIYvj"
      },
      "source": [
        "## Treinando"
      ]
    },
    {
      "cell_type": "code",
      "execution_count": null,
      "metadata": {
        "id": "FbOR31qzIYvj"
      },
      "outputs": [],
      "source": [
        "early_stopping_callback = tf.keras.callbacks.EarlyStopping(\n",
        "    patience=5,\n",
        "    monitor='val_accuracy',\n",
        "    restore_best_weights=True,\n",
        "    verbose=1\n",
        ")"
      ]
    },
    {
      "cell_type": "code",
      "execution_count": null,
      "metadata": {
        "id": "SqVQHjrzIYvj"
      },
      "outputs": [],
      "source": [
        "training_history = model.fit(\n",
        "    x=dataset_train,\n",
        "    epochs=epochs,\n",
        "    steps_per_epoch=steps_per_epoch,\n",
        "    validation_data=dataset_val,\n",
        "    callbacks=[\n",
        "        early_stopping_callback\n",
        "    ]\n",
        ")"
      ]
    },
    {
      "cell_type": "code",
      "execution_count": null,
      "metadata": {
        "id": "1nlirPELIYvj"
      },
      "outputs": [],
      "source": [
        "def render_training_history(training_history):\n",
        "    loss = training_history.history['loss']\n",
        "    val_loss = training_history.history['val_loss']\n",
        "\n",
        "    accuracy = training_history.history['accuracy']\n",
        "    val_accuracy = training_history.history['val_accuracy']\n",
        "\n",
        "    plt.figure(figsize=(14, 4))\n",
        "\n",
        "    plt.subplot(1, 2, 1)\n",
        "    plt.title('Loss')\n",
        "    plt.xlabel('Epoch')\n",
        "    plt.ylabel('Loss')\n",
        "    plt.plot(loss, label='Training set')\n",
        "    plt.plot(val_loss, label='Test set', linestyle='--')\n",
        "    plt.legend()\n",
        "    plt.grid(linestyle='--', linewidth=1, alpha=0.5)\n",
        "\n",
        "    plt.subplot(1, 2, 2)\n",
        "    plt.title('Accuracy')\n",
        "    plt.xlabel('Epoch')\n",
        "    plt.ylabel('Accuracy')\n",
        "    plt.plot(accuracy, label='Training set')\n",
        "    plt.plot(val_accuracy, label='Test set', linestyle='--')\n",
        "    plt.legend()\n",
        "    plt.grid(linestyle='--', linewidth=1, alpha=0.5)\n",
        "\n",
        "    plt.show()"
      ]
    },
    {
      "cell_type": "code",
      "execution_count": null,
      "metadata": {
        "id": "_3pFyQIpIYvk",
        "outputId": "c509ec1d-2f3e-4973-8146-93707aec54bb"
      },
      "outputs": [
        {
          "data": {
            "image/png": "[encoded data removed]",
            "text/plain": [
              "<Figure size 1008x288 with 2 Axes>"
            ]
          },
          "metadata": {
            "needs_background": "light"
          },
          "output_type": "display_data"
        }
      ],
      "source": [
        "render_training_history(training_history)"
      ]
    },
    {
      "cell_type": "markdown",
      "metadata": {
        "id": "w78UTfVHIYvn"
      },
      "source": [
        "## Salvando modelo"
      ]
    },
    {
      "cell_type": "code",
      "execution_count": null,
      "metadata": {
        "id": "sFxoNjL6IYvn"
      },
      "outputs": [],
      "source": [
        "model_name = 'draw_model.h5'\n",
        "model.save(model_name, save_format='h5')"
      ]
    }
  ],
  "metadata": {
    "kernelspec": {
      "display_name": "Python 3",
      "language": "python",
      "name": "python3"
    },
    "language_info": {
      "codemirror_mode": {
        "name": "ipython",
        "version": 3
      },
      "file_extension": ".py",
      "mimetype": "text/x-python",
      "name": "python",
      "nbconvert_exporter": "python",
      "pygments_lexer": "ipython3",
      "version": "3.7.6"
    },
    "colab": {
      "name": "projeto-ii-big-data.ipynb",
      "provenance": [],
      "toc_visible": true
    }
  },
  "nbformat": 4,
  "nbformat_minor": 0
}