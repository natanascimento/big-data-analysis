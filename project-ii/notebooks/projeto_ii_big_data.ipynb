{
  "cells": [
    {
      "cell_type": "markdown",
      "metadata": {
        "id": "ReOGDl0uIYvQ"
      },
      "source": [
        "# Reconhecimento de desenhos"
      ]
    },
    {
      "cell_type": "markdown",
      "metadata": {
        "id": "zVO_FJiDIYvU"
      },
      "source": [
        "## Importando as bibliotecas necessárias"
      ]
    },
    {
      "cell_type": "code",
      "execution_count": 6,
      "metadata": {
        "id": "YsfGzbkPIYvU"
      },
      "outputs": [],
      "source": [
        "%tensorflow_version 2.x"
      ]
    },
    {
      "cell_type": "code",
      "execution_count": 7,
      "metadata": {
        "id": "DSCNLFwpIYvV"
      },
      "outputs": [],
      "source": [
        "import tensorflow as tf\n",
        "import tensorflow_datasets as tfds\n",
        "import matplotlib.pyplot as plt\n",
        "import numpy as np\n",
        "import math\n",
        "import datetime\n",
        "import platform\n",
        "import pathlib\n",
        "import random"
      ]
    },
    {
      "cell_type": "markdown",
      "metadata": {
        "id": "aFeQGCUAIYvX"
      },
      "source": [
        "## Visualizando os datasets presentes na biblioteca do tensorflow"
      ]
    },
    {
      "cell_type": "markdown",
      "source": [
        "Fonte: https://www.tensorflow.org/datasets/catalog/quickdraw_bitmap\n",
        "\n",
        "Visualização: https://knowyourdata-tfds.withgoogle.com/#tab=STATS&dataset=quickdraw_bitmap"
      ],
      "metadata": {
        "id": "CilfdhiIABcr"
      }
    },
    {
      "cell_type": "code",
      "execution_count": 8,
      "metadata": {
        "id": "Ncjr1kvRIYvY",
        "outputId": "e49f40e7-314b-4ac0-d819-6b70c15d4eb6",
        "colab": {
          "base_uri": "https://localhost:8080/"
        }
      },
      "outputs": [
        {
          "output_type": "execute_result",
          "data": {
            "text/plain": [
              "['abstract_reasoning',\n",
              " 'accentdb',\n",
              " 'aeslc',\n",
              " 'aflw2k3d',\n",
              " 'ag_news_subset',\n",
              " 'ai2_arc',\n",
              " 'ai2_arc_with_ir',\n",
              " 'amazon_us_reviews',\n",
              " 'anli',\n",
              " 'arc',\n",
              " 'bair_robot_pushing_small',\n",
              " 'bccd',\n",
              " 'beans',\n",
              " 'big_patent',\n",
              " 'bigearthnet',\n",
              " 'billsum',\n",
              " 'binarized_mnist',\n",
              " 'binary_alpha_digits',\n",
              " 'blimp',\n",
              " 'bool_q',\n",
              " 'c4',\n",
              " 'caltech101',\n",
              " 'caltech_birds2010',\n",
              " 'caltech_birds2011',\n",
              " 'cars196',\n",
              " 'cassava',\n",
              " 'cats_vs_dogs',\n",
              " 'celeb_a',\n",
              " 'celeb_a_hq',\n",
              " 'cfq',\n",
              " 'chexpert',\n",
              " 'cifar10',\n",
              " 'cifar100',\n",
              " 'cifar10_1',\n",
              " 'cifar10_corrupted',\n",
              " 'citrus_leaves',\n",
              " 'cityscapes',\n",
              " 'civil_comments',\n",
              " 'clevr',\n",
              " 'clic',\n",
              " 'clinc_oos',\n",
              " 'cmaterdb',\n",
              " 'cnn_dailymail',\n",
              " 'coco',\n",
              " 'coco_captions',\n",
              " 'coil100',\n",
              " 'colorectal_histology',\n",
              " 'colorectal_histology_large',\n",
              " 'common_voice',\n",
              " 'coqa',\n",
              " 'cos_e',\n",
              " 'cosmos_qa',\n",
              " 'covid19sum',\n",
              " 'crema_d',\n",
              " 'curated_breast_imaging_ddsm',\n",
              " 'cycle_gan',\n",
              " 'deep_weeds',\n",
              " 'definite_pronoun_resolution',\n",
              " 'dementiabank',\n",
              " 'diabetic_retinopathy_detection',\n",
              " 'div2k',\n",
              " 'dmlab',\n",
              " 'downsampled_imagenet',\n",
              " 'dsprites',\n",
              " 'dtd',\n",
              " 'duke_ultrasound',\n",
              " 'emnist',\n",
              " 'eraser_multi_rc',\n",
              " 'esnli',\n",
              " 'eurosat',\n",
              " 'fashion_mnist',\n",
              " 'flic',\n",
              " 'flores',\n",
              " 'food101',\n",
              " 'forest_fires',\n",
              " 'fuss',\n",
              " 'gap',\n",
              " 'geirhos_conflict_stimuli',\n",
              " 'genomics_ood',\n",
              " 'german_credit_numeric',\n",
              " 'gigaword',\n",
              " 'glue',\n",
              " 'goemotions',\n",
              " 'gpt3',\n",
              " 'groove',\n",
              " 'gtzan',\n",
              " 'gtzan_music_speech',\n",
              " 'hellaswag',\n",
              " 'higgs',\n",
              " 'horses_or_humans',\n",
              " 'i_naturalist2017',\n",
              " 'imagenet2012',\n",
              " 'imagenet2012_corrupted',\n",
              " 'imagenet2012_real',\n",
              " 'imagenet2012_subset',\n",
              " 'imagenet_a',\n",
              " 'imagenet_r',\n",
              " 'imagenet_resized',\n",
              " 'imagenet_v2',\n",
              " 'imagenette',\n",
              " 'imagewang',\n",
              " 'imdb_reviews',\n",
              " 'irc_disentanglement',\n",
              " 'iris',\n",
              " 'kitti',\n",
              " 'kmnist',\n",
              " 'lfw',\n",
              " 'librispeech',\n",
              " 'librispeech_lm',\n",
              " 'libritts',\n",
              " 'ljspeech',\n",
              " 'lm1b',\n",
              " 'lost_and_found',\n",
              " 'lsun',\n",
              " 'malaria',\n",
              " 'math_dataset',\n",
              " 'mctaco',\n",
              " 'mnist',\n",
              " 'mnist_corrupted',\n",
              " 'movie_lens',\n",
              " 'movie_rationales',\n",
              " 'movielens',\n",
              " 'moving_mnist',\n",
              " 'multi_news',\n",
              " 'multi_nli',\n",
              " 'multi_nli_mismatch',\n",
              " 'natural_questions',\n",
              " 'natural_questions_open',\n",
              " 'newsroom',\n",
              " 'nsynth',\n",
              " 'nyu_depth_v2',\n",
              " 'omniglot',\n",
              " 'open_images_challenge2019_detection',\n",
              " 'open_images_v4',\n",
              " 'openbookqa',\n",
              " 'opinion_abstracts',\n",
              " 'opinosis',\n",
              " 'opus',\n",
              " 'oxford_flowers102',\n",
              " 'oxford_iiit_pet',\n",
              " 'para_crawl',\n",
              " 'patch_camelyon',\n",
              " 'paws_wiki',\n",
              " 'paws_x_wiki',\n",
              " 'pet_finder',\n",
              " 'pg19',\n",
              " 'places365_small',\n",
              " 'plant_leaves',\n",
              " 'plant_village',\n",
              " 'plantae_k',\n",
              " 'qa4mre',\n",
              " 'qasc',\n",
              " 'quickdraw_bitmap',\n",
              " 'radon',\n",
              " 'reddit',\n",
              " 'reddit_disentanglement',\n",
              " 'reddit_tifu',\n",
              " 'resisc45',\n",
              " 'robonet',\n",
              " 'rock_paper_scissors',\n",
              " 'rock_you',\n",
              " 'salient_span_wikipedia',\n",
              " 'samsum',\n",
              " 'savee',\n",
              " 'scan',\n",
              " 'scene_parse150',\n",
              " 'scicite',\n",
              " 'scientific_papers',\n",
              " 'sentiment140',\n",
              " 'shapes3d',\n",
              " 'smallnorb',\n",
              " 'snli',\n",
              " 'so2sat',\n",
              " 'speech_commands',\n",
              " 'spoken_digit',\n",
              " 'squad',\n",
              " 'stanford_dogs',\n",
              " 'stanford_online_products',\n",
              " 'starcraft_video',\n",
              " 'stl10',\n",
              " 'sun397',\n",
              " 'super_glue',\n",
              " 'svhn_cropped',\n",
              " 'ted_hrlr_translate',\n",
              " 'ted_multi_translate',\n",
              " 'tedlium',\n",
              " 'tf_flowers',\n",
              " 'the300w_lp',\n",
              " 'tiny_shakespeare',\n",
              " 'titanic',\n",
              " 'trec',\n",
              " 'trivia_qa',\n",
              " 'tydi_qa',\n",
              " 'uc_merced',\n",
              " 'ucf101',\n",
              " 'vctk',\n",
              " 'vgg_face2',\n",
              " 'visual_domain_decathlon',\n",
              " 'voc',\n",
              " 'voxceleb',\n",
              " 'voxforge',\n",
              " 'waymo_open_dataset',\n",
              " 'web_questions',\n",
              " 'wider_face',\n",
              " 'wiki40b',\n",
              " 'wikihow',\n",
              " 'wikipedia',\n",
              " 'wikipedia_toxicity_subtypes',\n",
              " 'wine_quality',\n",
              " 'winogrande',\n",
              " 'wmt14_translate',\n",
              " 'wmt15_translate',\n",
              " 'wmt16_translate',\n",
              " 'wmt17_translate',\n",
              " 'wmt18_translate',\n",
              " 'wmt19_translate',\n",
              " 'wmt_t2t_translate',\n",
              " 'wmt_translate',\n",
              " 'wordnet',\n",
              " 'xnli',\n",
              " 'xquad',\n",
              " 'xsum',\n",
              " 'yelp_polarity_reviews',\n",
              " 'yes_no']"
            ]
          },
          "metadata": {},
          "execution_count": 8
        }
      ],
      "source": [
        "tfds.list_builders()"
      ]
    },
    {
      "cell_type": "markdown",
      "metadata": {
        "id": "QuDXTGhsIYvZ"
      },
      "source": [
        "## Carregando o dataset referente ao quickdraw do Google"
      ]
    },
    {
      "cell_type": "code",
      "execution_count": 9,
      "metadata": {
        "id": "BPteI32rIYvX",
        "colab": {
          "base_uri": "https://localhost:8080/"
        },
        "outputId": "eaebff45-7f4a-4823-edc0-7cd4131cc75b"
      },
      "outputs": [
        {
          "output_type": "stream",
          "name": "stdout",
          "text": [
            "mkdir: cannot create directory ‘data’: File exists\n"
          ]
        }
      ],
      "source": [
        "!mkdir data"
      ]
    },
    {
      "cell_type": "code",
      "execution_count": 10,
      "metadata": {
        "id": "yTYbsfoGIYvZ"
      },
      "outputs": [],
      "source": [
        "DATASET_NAME = 'quickdraw_bitmap'\n",
        "\n",
        "dataset, dataset_info = tfds.load(\n",
        "    name=DATASET_NAME,\n",
        "    data_dir='data',\n",
        "    with_info=True,\n",
        "    shuffle_files=True,\n",
        "    split=tfds.Split.TRAIN,\n",
        ")"
      ]
    },
    {
      "cell_type": "markdown",
      "source": [
        "## Validando informações referente ao dataset"
      ],
      "metadata": {
        "id": "IvaqViJjAQIe"
      }
    },
    {
      "cell_type": "code",
      "execution_count": 11,
      "metadata": {
        "id": "09Rk0Qf1IYvZ",
        "outputId": "780dd7a7-5849-4e79-f070-c58586cb4c85",
        "colab": {
          "base_uri": "https://localhost:8080/"
        }
      },
      "outputs": [
        {
          "output_type": "execute_result",
          "data": {
            "text/plain": [
              "tfds.core.DatasetInfo(\n",
              "    name='quickdraw_bitmap',\n",
              "    version=3.0.0,\n",
              "    description='The Quick Draw Dataset is a collection of 50 million drawings across 345 categories, contributed by players of the game Quick, Draw!. The bitmap dataset contains these drawings converted from vector format into 28x28 grayscale images',\n",
              "    homepage='https://github.com/googlecreativelab/quickdraw-dataset',\n",
              "    features=FeaturesDict({\n",
              "        'image': Image(shape=(28, 28, 1), dtype=tf.uint8),\n",
              "        'label': ClassLabel(shape=(), dtype=tf.int64, num_classes=345),\n",
              "    }),\n",
              "    total_num_examples=50426266,\n",
              "    splits={\n",
              "        'train': 50426266,\n",
              "    },\n",
              "    supervised_keys=('image', 'label'),\n",
              "    citation=\"\"\"@article{DBLP:journals/corr/HaE17,\n",
              "      author    = {David Ha and\n",
              "                   Douglas Eck},\n",
              "      title     = {A Neural Representation of Sketch Drawings},\n",
              "      journal   = {CoRR},\n",
              "      volume    = {abs/1704.03477},\n",
              "      year      = {2017},\n",
              "      url       = {http://arxiv.org/abs/1704.03477},\n",
              "      archivePrefix = {arXiv},\n",
              "      eprint    = {1704.03477},\n",
              "      timestamp = {Mon, 13 Aug 2018 16:48:30 +0200},\n",
              "      biburl    = {https://dblp.org/rec/bib/journals/corr/HaE17},\n",
              "      bibsource = {dblp computer science bibliography, https://dblp.org}\n",
              "    }\"\"\",\n",
              "    redistribution_info=,\n",
              ")"
            ]
          },
          "metadata": {},
          "execution_count": 11
        }
      ],
      "source": [
        "dataset_info"
      ]
    },
    {
      "cell_type": "markdown",
      "source": [
        "## Análise Exploratória dos Dados (EDA)"
      ],
      "metadata": {
        "id": "hwFBERjoAS2k"
      }
    },
    {
      "cell_type": "code",
      "execution_count": 12,
      "metadata": {
        "id": "XcmWtRg2IYva",
        "outputId": "2ad11408-364f-4a10-fff6-e92b6e443d6d",
        "colab": {
          "base_uri": "https://localhost:8080/"
        }
      },
      "outputs": [
        {
          "output_type": "stream",
          "name": "stdout",
          "text": [
            "num_examples:  50426266\n",
            "image_shape:  (28, 28, 1)\n",
            "num_classes:  345\n"
          ]
        }
      ],
      "source": [
        "image_shape = dataset_info.features['image'].shape\n",
        "num_classes = dataset_info.features['label'].num_classes\n",
        "num_examples = dataset_info.splits['train'].num_examples\n",
        "\n",
        "print('num_examples: ', num_examples)\n",
        "print('image_shape: ', image_shape)\n",
        "print('num_classes: ', num_classes)"
      ]
    },
    {
      "cell_type": "code",
      "execution_count": 13,
      "metadata": {
        "id": "-YQWtDfBIYva",
        "outputId": "3eafb8d3-c08f-447d-a06a-6dfb08253109",
        "colab": {
          "base_uri": "https://localhost:8080/"
        }
      },
      "outputs": [
        {
          "output_type": "stream",
          "name": "stdout",
          "text": [
            "classes num: 345\n",
            "classes:\n",
            "\n",
            " ['aircraft carrier', 'airplane', 'alarm clock', 'ambulance', 'angel', 'animal migration', 'ant', 'anvil', 'apple', 'arm', 'asparagus', 'axe', 'backpack', 'banana', 'bandage', 'barn', 'baseball bat', 'baseball', 'basket', 'basketball', 'bat', 'bathtub', 'beach', 'bear', 'beard', 'bed', 'bee', 'belt', 'bench', 'bicycle', 'binoculars', 'bird', 'birthday cake', 'blackberry', 'blueberry', 'book', 'boomerang', 'bottlecap', 'bowtie', 'bracelet', 'brain', 'bread', 'bridge', 'broccoli', 'broom', 'bucket', 'bulldozer', 'bus', 'bush', 'butterfly', 'cactus', 'cake', 'calculator', 'calendar', 'camel', 'camera', 'camouflage', 'campfire', 'candle', 'cannon', 'canoe', 'car', 'carrot', 'castle', 'cat', 'ceiling fan', 'cell phone', 'cello', 'chair', 'chandelier', 'church', 'circle', 'clarinet', 'clock', 'cloud', 'coffee cup', 'compass', 'computer', 'cookie', 'cooler', 'couch', 'cow', 'crab', 'crayon', 'crocodile', 'crown', 'cruise ship', 'cup', 'diamond', 'dishwasher', 'diving board', 'dog', 'dolphin', 'donut', 'door', 'dragon', 'dresser', 'drill', 'drums', 'duck', 'dumbbell', 'ear', 'elbow', 'elephant', 'envelope', 'eraser', 'eye', 'eyeglasses', 'face', 'fan', 'feather', 'fence', 'finger', 'fire hydrant', 'fireplace', 'firetruck', 'fish', 'flamingo', 'flashlight', 'flip flops', 'floor lamp', 'flower', 'flying saucer', 'foot', 'fork', 'frog', 'frying pan', 'garden hose', 'garden', 'giraffe', 'goatee', 'golf club', 'grapes', 'grass', 'guitar', 'hamburger', 'hammer', 'hand', 'harp', 'hat', 'headphones', 'hedgehog', 'helicopter', 'helmet', 'hexagon', 'hockey puck', 'hockey stick', 'horse', 'hospital', 'hot air balloon', 'hot dog', 'hot tub', 'hourglass', 'house plant', 'house', 'hurricane', 'ice cream', 'jacket', 'jail', 'kangaroo', 'key', 'keyboard', 'knee', 'knife', 'ladder', 'lantern', 'laptop', 'leaf', 'leg', 'light bulb', 'lighter', 'lighthouse', 'lightning', 'line', 'lion', 'lipstick', 'lobster', 'lollipop', 'mailbox', 'map', 'marker', 'matches', 'megaphone', 'mermaid', 'microphone', 'microwave', 'monkey', 'moon', 'mosquito', 'motorbike', 'mountain', 'mouse', 'moustache', 'mouth', 'mug', 'mushroom', 'nail', 'necklace', 'nose', 'ocean', 'octagon', 'octopus', 'onion', 'oven', 'owl', 'paint can', 'paintbrush', 'palm tree', 'panda', 'pants', 'paper clip', 'parachute', 'parrot', 'passport', 'peanut', 'pear', 'peas', 'pencil', 'penguin', 'piano', 'pickup truck', 'picture frame', 'pig', 'pillow', 'pineapple', 'pizza', 'pliers', 'police car', 'pond', 'pool', 'popsicle', 'postcard', 'potato', 'power outlet', 'purse', 'rabbit', 'raccoon', 'radio', 'rain', 'rainbow', 'rake', 'remote control', 'rhinoceros', 'rifle', 'river', 'roller coaster', 'rollerskates', 'sailboat', 'sandwich', 'saw', 'saxophone', 'school bus', 'scissors', 'scorpion', 'screwdriver', 'sea turtle', 'see saw', 'shark', 'sheep', 'shoe', 'shorts', 'shovel', 'sink', 'skateboard', 'skull', 'skyscraper', 'sleeping bag', 'smiley face', 'snail', 'snake', 'snorkel', 'snowflake', 'snowman', 'soccer ball', 'sock', 'speedboat', 'spider', 'spoon', 'spreadsheet', 'square', 'squiggle', 'squirrel', 'stairs', 'star', 'steak', 'stereo', 'stethoscope', 'stitches', 'stop sign', 'stove', 'strawberry', 'streetlight', 'string bean', 'submarine', 'suitcase', 'sun', 'swan', 'sweater', 'swing set', 'sword', 'syringe', 't-shirt', 'table', 'teapot', 'teddy-bear', 'telephone', 'television', 'tennis racquet', 'tent', 'The Eiffel Tower', 'The Great Wall of China', 'The Mona Lisa', 'tiger', 'toaster', 'toe', 'toilet', 'tooth', 'toothbrush', 'toothpaste', 'tornado', 'tractor', 'traffic light', 'train', 'tree', 'triangle', 'trombone', 'truck', 'trumpet', 'umbrella', 'underwear', 'van', 'vase', 'violin', 'washing machine', 'watermelon', 'waterslide', 'whale', 'wheel', 'windmill', 'wine bottle', 'wine glass', 'wristwatch', 'yoga', 'zebra', 'zigzag']\n"
          ]
        }
      ],
      "source": [
        "label_index_to_string = dataset_info.features['label'].int2str\n",
        "\n",
        "classes = []\n",
        "\n",
        "for class_index in range(num_classes):\n",
        "    classes.append(label_index_to_string(class_index))\n",
        "    \n",
        "print('classes num:', len(classes))\n",
        "print('classes:\\n\\n', classes)"
      ]
    },
    {
      "cell_type": "code",
      "execution_count": 14,
      "metadata": {
        "id": "QdkcRV25IYva",
        "outputId": "739c2e22-76a5-49cf-ff2f-e99132197460",
        "colab": {
          "base_uri": "https://localhost:8080/"
        }
      },
      "outputs": [
        {
          "output_type": "stream",
          "name": "stdout",
          "text": [
            "<_OptionsDataset element_spec={'image': TensorSpec(shape=(28, 28, 1), dtype=tf.uint8, name=None), 'label': TensorSpec(shape=(), dtype=tf.int64, name=None)}>\n"
          ]
        }
      ],
      "source": [
        "print(dataset)"
      ]
    },
    {
      "cell_type": "code",
      "execution_count": 15,
      "metadata": {
        "id": "sbTaeToBIYvc"
      },
      "outputs": [],
      "source": [
        "def dataset_head(ds):\n",
        "    for example in ds.take(1):\n",
        "        image = example['image']\n",
        "        label = example['label']\n",
        "\n",
        "        class_index = label.numpy()\n",
        "        class_name = label_index_to_string(class_index)\n",
        "\n",
        "        print('{} ({})'.format(class_name, class_index), '\\n')\n",
        "        print('Image shape: ', image.shape, '\\n')\n",
        "        print(np.reshape(image.numpy(), (28, 28)), '\\n')"
      ]
    },
    {
      "cell_type": "code",
      "execution_count": 17,
      "metadata": {
        "id": "I6HZPot_IYvc",
        "outputId": "a2d587e5-64e3-4ac3-a2b9-615ac1b35a64",
        "colab": {
          "base_uri": "https://localhost:8080/"
        }
      },
      "outputs": [
        {
          "output_type": "stream",
          "name": "stdout",
          "text": [
            "string bean (292) \n",
            "\n",
            "Image shape:  (28, 28, 1) \n",
            "\n",
            "[[  0   0   0   0   0   0   0   0   0   0   0   0   0   0   0   0   0   0\n",
            "    0   0   0   0   0   0   0   0   0   0]\n",
            " [  0   0   0   0   0   0   0   0   0   0   0   0   0   0   0   0   0  58\n",
            "   90   0   0   0   0   0   0   0   0   0]\n",
            " [  0   0   0   0   0   0   0   0   0   0   0   0   0   0   0   0  66 254\n",
            "  255  60   0   0   0   0   0   0   0   0]\n",
            " [  0   0   0   0   0   0   0   0   0   0   0   0   0   0  19 168 237 255\n",
            "  255  64   0   0   0   0   0   0   0   0]\n",
            " [  0   0   0   0   0   0   0   0   0   0   0   0   0  10 199 255 255 249\n",
            "  244   6   0   0   0   0   0   0   0   0]\n",
            " [  0   0   0   0   0   0   0   0   0   0   0   0   0 168 250 253 255 224\n",
            "  181   0   0   0   0   0   0   0   0   0]\n",
            " [  0   0   0   0   0   0   0   0   0   0   0   0  51 254 187 255 253 254\n",
            "  112   0   0   0   0   0   0   0   0   0]\n",
            " [  0   0   0   0   0   0   0   0   0   0   0   0 177 232  42 220 221 255\n",
            "   42   0   0   0   0   0   0   0   0   0]\n",
            " [  0   0   0   0   0   0   0   0   0   0   0  23 253 122   4 242 209 230\n",
            "    0   0   0   0   0   0   0   0   0   0]\n",
            " [  0   0   0   0   0   0   0   0   0   0   0  96 255  40  57 255 222 176\n",
            "    0   0   0   0   0   0   0   0   0   0]\n",
            " [  0   0   0   0   0   0   0   0   0   0   0 170 222   0 120 252 250 125\n",
            "    0   0   0   0   0   0   0   0   0   0]\n",
            " [  0   0   0   0   0   0   0   0   0   0   4 239 147   0 183 215 255  73\n",
            "    0   0   0   0   0   0   0   0   0   0]\n",
            " [  0   0   0   0   0   0   0   0   0   0  63 255  74   4 242 188 255  22\n",
            "    0   0   0   0   0   0   0   0   0   0]\n",
            " [  0   0   0   0   0   0   0   0   0   0 136 246  10  55 255 187 225   0\n",
            "    0   0   0   0   0   0   0   0   0   0]\n",
            " [  0   0   0   0   0   0   0   0   0   0 211 180   0 118 253 213 173   0\n",
            "    0   0   0   0   0   0   0   0   0   0]\n",
            " [  0   0   0   0   0   0   0   0   0  29 255 107   0 102 168 251 122   0\n",
            "    0   0   0   0   0   0   0   0   0   0]\n",
            " [  0   0   0   0   0   0   0   0   0 104 255  35   0   0  58 255  71   0\n",
            "    0   0   0   0   0   0   0   0   0   0]\n",
            " [  0   0   0   0   0   0   0   0   0 166 217   0   0   0 119 253  18   0\n",
            "    0   0   0   0   0   0   0   0   0   0]\n",
            " [  0   0   0   0   0   0   0   0   0 204 175   0   0   0 209 190   0   0\n",
            "    0   0   0   0   0   0   0   0   0   0]\n",
            " [  0   0   0   0   0   0   0   0   0 238 141   0   0  41 255 100   0   0\n",
            "    0   0   0   0   0   0   0   0   0   0]\n",
            " [  0   0   0   0   0   0   0   0  16 255 108   0   0 134 249  18   0   0\n",
            "    0   0   0   0   0   0   0   0   0   0]\n",
            " [  0   0   0   0   0   0   0   0  51 255  74   0   3 222 175   0   0   0\n",
            "    0   0   0   0   0   0   0   0   0   0]\n",
            " [  0   0   0   0   0   0   0   0  84 255  40   0 124 255  73   0   0   0\n",
            "    0   0   0   0   0   0   0   0   0   0]\n",
            " [  0   0   0   0   0   0   0   0 100 255  22  58 251 156   0   0   0   0\n",
            "    0   0   0   0   0   0   0   0   0   0]\n",
            " [  0   0   0   0   0   0   0   0  89 255  95 226 215  11   0   0   0   0\n",
            "    0   0   0   0   0   0   0   0   0   0]\n",
            " [  0   0   0   0   0   0   0   0  15 243 255 223  41   0   0   0   0   0\n",
            "    0   0   0   0   0   0   0   0   0   0]\n",
            " [  0   0   0   0   0   0   0   0   0  45 108  18   0   0   0   0   0   0\n",
            "    0   0   0   0   0   0   0   0   0   0]\n",
            " [  0   0   0   0   0   0   0   0   0   0   0   0   0   0   0   0   0   0\n",
            "    0   0   0   0   0   0   0   0   0   0]] \n",
            "\n"
          ]
        }
      ],
      "source": [
        "dataset_head(dataset)"
      ]
    },
    {
      "cell_type": "markdown",
      "metadata": {
        "id": "0OvY49G6IYvc"
      },
      "source": [
        "## Normalize dataset"
      ]
    },
    {
      "cell_type": "code",
      "execution_count": 18,
      "metadata": {
        "id": "u07KzdymIYvd"
      },
      "outputs": [],
      "source": [
        "def normalize_example(example):\n",
        "    image = example['image']\n",
        "    label = example['label']\n",
        "    label = tf.one_hot(label, len(classes))\n",
        "    \n",
        "    image = tf.math.divide(image, 255)\n",
        "    \n",
        "    return (image, label)"
      ]
    },
    {
      "cell_type": "code",
      "execution_count": 19,
      "metadata": {
        "id": "ImNDPJU-IYvd"
      },
      "outputs": [],
      "source": [
        "def augment_example(image, label):\n",
        "    image = tf.image.random_flip_left_right(image)\n",
        "    return (image, label)"
      ]
    },
    {
      "cell_type": "code",
      "execution_count": 20,
      "metadata": {
        "id": "Gb0dGah1IYvd"
      },
      "outputs": [],
      "source": [
        "dataset_normalized = dataset.map(normalize_example).map(augment_example)"
      ]
    },
    {
      "cell_type": "code",
      "execution_count": 21,
      "metadata": {
        "scrolled": false,
        "id": "VnID51erIYvd",
        "outputId": "f7d0513f-eca8-425d-e320-afebe0cebc36",
        "colab": {
          "base_uri": "https://localhost:8080/"
        }
      },
      "outputs": [
        {
          "output_type": "stream",
          "name": "stdout",
          "text": [
            "compass (76) \n",
            "\n",
            "Image shape:  (28, 28, 1) \n",
            "\n",
            "[[0.         0.         0.         0.         0.         0.\n",
            "  0.         0.         0.         0.         0.         0.\n",
            "  0.         0.         0.         0.         0.         0.\n",
            "  0.         0.         0.         0.         0.         0.\n",
            "  0.         0.         0.         0.        ]\n",
            " [0.         0.         0.         0.         0.         0.\n",
            "  0.         0.         0.         0.         0.         0.\n",
            "  0.         0.         0.         0.         0.         0.\n",
            "  0.         0.         0.         0.         0.         0.\n",
            "  0.         0.         0.         0.        ]\n",
            " [0.         0.         0.         0.         0.         0.\n",
            "  0.         0.         0.         0.         0.03137255 0.8862745\n",
            "  0.36862746 0.13333334 0.13333334 0.13333334 0.10588235 0.\n",
            "  0.         0.         0.         0.         0.         0.\n",
            "  0.         0.         0.         0.        ]\n",
            " [0.         0.         0.         0.         0.         0.\n",
            "  0.         0.         0.18039216 0.5764706  0.8901961  1.\n",
            "  1.         1.         1.         1.         1.         0.7294118\n",
            "  0.21176471 0.         0.         0.         0.         0.\n",
            "  0.         0.         0.         0.        ]\n",
            " [0.         0.         0.         0.         0.         0.\n",
            "  0.28627452 0.78039217 1.         0.9529412  0.64705884 0.8117647\n",
            "  0.9019608  0.91764706 0.9647059  0.41960785 0.50980395 0.89411765\n",
            "  0.99215686 0.40784314 0.         0.         0.         0.\n",
            "  0.         0.         0.         0.        ]\n",
            " [0.         0.         0.         0.         0.03137255 0.5803922\n",
            "  0.99607843 0.8235294  0.40392157 0.05098039 0.         0.45490196\n",
            "  1.         0.96862745 1.         0.7921569  0.99607843 0.7137255\n",
            "  0.8352941  0.99215686 0.1882353  0.         0.         0.\n",
            "  0.         0.         0.         0.        ]\n",
            " [0.         0.         0.         0.00392157 0.6901961  0.9882353\n",
            "  0.5176471  0.01568628 0.         0.         0.         0.07058824\n",
            "  0.8        0.44705883 1.         0.40392157 0.5058824  0.9254902\n",
            "  1.         0.9843137  0.21568628 0.         0.         0.\n",
            "  0.         0.         0.         0.        ]\n",
            " [0.         0.         0.         0.4392157  1.         0.38431373\n",
            "  0.         0.         0.         0.         0.         0.\n",
            "  0.         0.         0.7254902  0.6156863  0.         0.05882353\n",
            "  0.6313726  1.         0.7529412  0.12156863 0.         0.\n",
            "  0.         0.         0.         0.        ]\n",
            " [0.         0.         0.3019608  0.96862745 0.7529412  0.\n",
            "  0.         0.         0.         0.         0.         0.\n",
            "  0.         0.         0.8862745  0.6        0.         0.\n",
            "  0.         0.3372549  0.92941177 0.9411765  0.32941177 0.\n",
            "  0.         0.         0.         0.        ]\n",
            " [0.         0.         0.6        1.         1.         0.8235294\n",
            "  0.56078434 0.         0.         0.         0.         0.\n",
            "  0.         0.02745098 0.99215686 0.47058824 0.         0.\n",
            "  0.         0.         0.10980392 0.7411765  0.9882353  0.30588236\n",
            "  0.         0.         0.         0.        ]\n",
            " [0.         0.3647059  0.9882353  0.9254902  0.52156866 0.9529412\n",
            "  1.         0.29411766 0.         0.         0.         0.\n",
            "  0.         0.15294118 1.         0.3372549  0.         0.\n",
            "  0.         0.         0.         0.02745098 0.7647059  0.95686275\n",
            "  0.19607843 0.         0.         0.        ]\n",
            " [0.         0.10588235 0.98039216 0.9764706  1.         1.\n",
            "  0.99215686 0.3254902  0.45490196 0.23921569 0.         0.\n",
            "  0.         0.28627452 1.         0.20392157 0.         0.\n",
            "  0.         0.         0.         0.         0.07450981 0.8509804\n",
            "  0.9019608  0.07450981 0.         0.        ]\n",
            " [0.         0.1882353  1.         0.7490196  0.78431374 0.95686275\n",
            "  0.40392157 0.01960784 0.83137256 1.         0.7490196  0.56078434\n",
            "  0.4117647  0.57254905 1.         0.25490198 0.19607843 0.13333334\n",
            "  0.13333334 0.13333334 0.13333334 0.13333334 0.11372549 0.16862746\n",
            "  0.99607843 0.44705883 0.         0.        ]\n",
            " [0.         0.20784314 1.         0.9764706  1.         0.627451\n",
            "  0.         0.         0.02352941 0.44705883 0.78039217 0.93333334\n",
            "  1.         1.         1.         1.         1.         1.\n",
            "  1.         1.         1.         1.         1.         0.34117648\n",
            "  0.74509805 0.8352941  0.         0.        ]\n",
            " [0.         0.20784314 1.         0.36078432 0.72156864 0.15294118\n",
            "  0.         0.         0.         0.         0.         0.\n",
            "  0.08235294 0.7529412  0.85490197 0.26666668 0.33333334 0.33333334\n",
            "  0.33333334 0.33333334 0.33333334 0.33333334 0.36078432 0.05490196\n",
            "  0.35686275 1.         0.19607843 0.        ]\n",
            " [0.         0.18039216 1.         0.30980393 0.         0.\n",
            "  0.         0.         0.         0.         0.         0.\n",
            "  0.         0.8156863  0.67058825 0.         0.         0.\n",
            "  0.         0.         0.         0.         0.         0.\n",
            "  0.15294118 1.         0.31764707 0.        ]\n",
            " [0.         0.03529412 0.9882353  0.4745098  0.         0.\n",
            "  0.         0.         0.         0.         0.         0.\n",
            "  0.         0.9411765  0.5411765  0.         0.         0.\n",
            "  0.         0.         0.         0.         0.         0.\n",
            "  0.10980392 1.         0.36078432 0.        ]\n",
            " [0.         0.         0.8509804  0.64705884 0.         0.\n",
            "  0.         0.         0.         0.         0.         0.\n",
            "  0.05098039 0.9647059  0.7019608  0.03529412 0.         0.\n",
            "  0.         0.         0.         0.         0.         0.\n",
            "  0.07450981 1.         0.39607844 0.        ]\n",
            " [0.         0.         0.5921569  0.9490196  0.07450981 0.\n",
            "  0.         0.         0.         0.         0.         0.04705882\n",
            "  0.8509804  1.         1.         0.32941177 0.         0.\n",
            "  0.         0.         0.         0.         0.         0.\n",
            "  0.03921569 1.         0.43137255 0.        ]\n",
            " [0.         0.         0.14901961 0.9607843  0.80784315 0.09411765\n",
            "  0.         0.         0.         0.         0.         0.03921569\n",
            "  0.62352943 0.9372549  1.         0.38039216 0.         0.\n",
            "  0.         0.         0.         0.         0.         0.\n",
            "  0.03137255 1.         0.45882353 0.        ]\n",
            " [0.         0.         0.         0.24705882 0.94509804 0.9372549\n",
            "  0.4392157  0.04313726 0.         0.         0.         0.\n",
            "  0.         0.88235295 1.         0.41568628 0.         0.\n",
            "  0.         0.         0.         0.         0.         0.\n",
            "  0.28627452 1.         0.2627451  0.        ]\n",
            " [0.         0.         0.         0.         0.13333334 0.68235296\n",
            "  1.         0.95686275 0.6431373  0.3019608  0.10196079 0.00392157\n",
            "  0.39607844 0.84313726 0.99215686 0.19215687 0.         0.\n",
            "  0.         0.         0.         0.         0.         0.\n",
            "  0.60784316 0.9254902  0.01568628 0.        ]\n",
            " [0.         0.         0.         0.         0.         0.\n",
            "  0.20392157 0.5686275  0.9098039  1.         1.         0.9607843\n",
            "  1.         0.9254902  0.67058825 0.3019608  0.13725491 0.01176471\n",
            "  0.         0.         0.         0.         0.         0.24313726\n",
            "  0.9529412  0.61960787 0.         0.        ]\n",
            " [0.         0.         0.         0.         0.         0.\n",
            "  0.         0.         0.01176471 0.21568628 0.3882353  0.7176471\n",
            "  1.         0.92156863 0.99215686 1.         1.         0.972549\n",
            "  0.8156863  0.68235296 0.6666667  0.654902   0.6156863  0.9647059\n",
            "  0.8156863  0.08235294 0.         0.        ]\n",
            " [0.         0.         0.         0.         0.         0.\n",
            "  0.         0.         0.         0.         0.         0.09411765\n",
            "  0.7647059  1.         0.8117647  0.69803923 0.8156863  0.5137255\n",
            "  0.67058825 0.7921569  0.8        0.8392157  0.8666667  0.654902\n",
            "  0.06666667 0.         0.         0.        ]\n",
            " [0.         0.         0.         0.         0.         0.\n",
            "  0.         0.         0.         0.         0.         0.\n",
            "  0.         0.32941177 0.78039217 0.91764706 0.53333336 0.\n",
            "  0.         0.         0.         0.         0.         0.\n",
            "  0.         0.         0.         0.        ]\n",
            " [0.         0.         0.         0.         0.         0.\n",
            "  0.         0.         0.         0.         0.         0.\n",
            "  0.         0.         0.         0.         0.         0.\n",
            "  0.         0.         0.         0.         0.         0.\n",
            "  0.         0.         0.         0.        ]\n",
            " [0.         0.         0.         0.         0.         0.\n",
            "  0.         0.         0.         0.         0.         0.\n",
            "  0.         0.         0.         0.         0.         0.\n",
            "  0.         0.         0.         0.         0.         0.\n",
            "  0.         0.         0.         0.        ]] \n",
            "\n"
          ]
        }
      ],
      "source": [
        "for (image, label) in dataset_normalized.take(1):\n",
        "    class_index = tf.math.argmax(label).numpy()\n",
        "    class_name = label_index_to_string(class_index)\n",
        "\n",
        "    print('{} ({})'.format(class_name, class_index), '\\n')\n",
        "    print('Image shape: ', image.shape, '\\n')\n",
        "    print(np.reshape(image.numpy(), (28, 28)), '\\n')"
      ]
    },
    {
      "cell_type": "markdown",
      "metadata": {
        "id": "9ia2tLtpIYvd"
      },
      "source": [
        "## Preparando os dados de treino, validação e teste"
      ]
    },
    {
      "cell_type": "code",
      "execution_count": 22,
      "metadata": {
        "id": "illWyQdmIYve",
        "outputId": "1a8dd09a-d0a9-4f29-ce9f-bc1483ffe15b",
        "colab": {
          "base_uri": "https://localhost:8080/"
        }
      },
      "outputs": [
        {
          "output_type": "stream",
          "name": "stdout",
          "text": [
            "tmp_ds: [0, 1, 2, 3, 4, 5, 6, 7, 8, 9]\n",
            "tmp_ds_test: [0, 1]\n",
            "tmp_ds_val: [2, 3, 4]\n",
            "tmp_ds_train: [5, 6, 7, 8, 9]\n"
          ]
        }
      ],
      "source": [
        "data_ds = tf.data.Dataset.range(10)\n",
        "print('tmp_ds:', list(data_ds.as_numpy_iterator()))\n",
        "\n",
        "data_ds_test = data_ds.take(2)\n",
        "print('tmp_ds_test:', list(data_ds_test.as_numpy_iterator()))\n",
        "\n",
        "data_ds_val = data_ds.skip(2).take(3)\n",
        "print('tmp_ds_val:', list(data_ds_val.as_numpy_iterator()))\n",
        "\n",
        "data_ds_train = data_ds.skip(2 + 3)\n",
        "print('tmp_ds_train:', list(data_ds_train.as_numpy_iterator()))"
      ]
    },
    {
      "cell_type": "code",
      "execution_count": 23,
      "metadata": {
        "id": "FdV9JNGQIYve"
      },
      "outputs": [],
      "source": [
        "test_dataset_batches = 1\n",
        "val_dataset_batches = 1\n",
        "\n",
        "batch_size = 2000\n",
        "prefetch_buffer_batches = 10\n",
        "\n",
        "epochs = 30\n",
        "steps_per_epoch = 30"
      ]
    },
    {
      "cell_type": "code",
      "execution_count": 24,
      "metadata": {
        "id": "g4ZImQJ9IYve"
      },
      "outputs": [],
      "source": [
        "dataset_batched = dataset_normalized.batch(batch_size=batch_size)"
      ]
    },
    {
      "cell_type": "markdown",
      "source": [
        "## Criando dataset de teste"
      ],
      "metadata": {
        "id": "hm8eXLhYBf8c"
      }
    },
    {
      "cell_type": "code",
      "source": [
        "dataset_test = dataset_batched \\\n",
        "    .take(test_dataset_batches)"
      ],
      "metadata": {
        "id": "SSWhfR2tBrn2"
      },
      "execution_count": 25,
      "outputs": []
    },
    {
      "cell_type": "markdown",
      "source": [
        "## Criando dataset de validação"
      ],
      "metadata": {
        "id": "M8LQS8WpBtKN"
      }
    },
    {
      "cell_type": "code",
      "source": [
        "dataset_val = dataset_batched \\\n",
        "    .skip(test_dataset_batches) \\\n",
        "    .take(val_dataset_batches)"
      ],
      "metadata": {
        "id": "quC268nNBwkc"
      },
      "execution_count": 26,
      "outputs": []
    },
    {
      "cell_type": "markdown",
      "source": [
        "## Criando dataset de treino"
      ],
      "metadata": {
        "id": "6yJLJBrOBxdI"
      }
    },
    {
      "cell_type": "code",
      "execution_count": 27,
      "metadata": {
        "id": "DgaUvMImIYve"
      },
      "outputs": [],
      "source": [
        "dataset_train = dataset_batched \\\n",
        "    .skip(test_dataset_batches + val_dataset_batches) \\\n",
        "    .prefetch(buffer_size=prefetch_buffer_batches) \\\n",
        "    .repeat()"
      ]
    },
    {
      "cell_type": "code",
      "execution_count": 28,
      "metadata": {
        "id": "cC1UKuacIYve",
        "outputId": "59d1bd90-4ae8-4d77-bd4b-5771439fab88",
        "colab": {
          "base_uri": "https://localhost:8080/"
        }
      },
      "outputs": [
        {
          "output_type": "stream",
          "name": "stdout",
          "text": [
            "label_test.shape:  (2000, 345)\n",
            "image_test.shape:  (2000, 28, 28, 1)\n",
            "\n",
            "label_val.shape:  (2000, 345)\n",
            "image_val.shape:  (2000, 28, 28, 1)\n",
            "\n",
            "label_train.shape:  (2000, 345)\n",
            "image_train.shape:  (2000, 28, 28, 1)\n"
          ]
        }
      ],
      "source": [
        "for (image_test, label_test) in dataset_test.take(1):\n",
        "    print('label_test.shape: ', label_test.shape)\n",
        "    print('image_test.shape: ', image_test.shape)\n",
        "    \n",
        "print()    \n",
        "    \n",
        "for (image_val, label_val) in dataset_val.take(1):\n",
        "    print('label_val.shape: ', label_val.shape)\n",
        "    print('image_val.shape: ', image_val.shape)    \n",
        "    \n",
        "print()    \n",
        "    \n",
        "for (image_train, label_train) in dataset_train.take(1):\n",
        "    print('label_train.shape: ', label_train.shape)\n",
        "    print('image_train.shape: ', image_train.shape)    "
      ]
    },
    {
      "cell_type": "code",
      "execution_count": 29,
      "metadata": {
        "id": "-hydH2xFIYvf"
      },
      "outputs": [],
      "source": [
        "def get_dataset_classes_hist(dataset, classes, batches_num):\n",
        "    mentions = {class_name: 0 for class_name in classes}\n",
        "    for examples, labels in dataset.take(batches_num):\n",
        "        for label in labels:\n",
        "            class_name = classes[tf.math.argmax(label).numpy()]\n",
        "            mentions[class_name] += 1    \n",
        "    return mentions"
      ]
    },
    {
      "cell_type": "code",
      "execution_count": 30,
      "metadata": {
        "id": "md2tYcRvIYvf"
      },
      "outputs": [],
      "source": [
        "mentions = get_dataset_classes_hist(\n",
        "    dataset_train,\n",
        "    classes,\n",
        "    batches_num=steps_per_epoch\n",
        ")"
      ]
    },
    {
      "cell_type": "code",
      "execution_count": 31,
      "metadata": {
        "id": "YRQA_jOiIYvf",
        "outputId": "82347145-cbe7-4ae1-c79f-492fcaee27fb",
        "colab": {
          "base_uri": "https://localhost:8080/"
        }
      },
      "outputs": [
        {
          "output_type": "stream",
          "name": "stdout",
          "text": [
            "aircraft carrier: 134\n",
            "airplane       : 187\n",
            "alarm clock    : 159\n",
            "ambulance      : 194\n",
            "angel          : 181\n",
            "animal migration: 143\n",
            "ant            : 146\n",
            "anvil          : 167\n",
            "apple          : 165\n",
            "arm            : 156\n",
            "asparagus      : 218\n",
            "axe            : 157\n",
            "backpack       : 145\n",
            "banana         : 406\n",
            "bandage        : 173\n",
            "barn           : 171\n",
            "baseball bat   : 136\n",
            "baseball       : 153\n",
            "basket         : 136\n",
            "basketball     : 152\n",
            "bat            : 152\n",
            "bathtub        : 227\n",
            "beach          : 143\n",
            "bear           : 167\n",
            "beard          : 211\n",
            "bed            : 117\n",
            "bee            : 151\n",
            "belt           : 231\n",
            "bench          : 159\n",
            "bicycle        : 161\n",
            "binoculars     : 138\n",
            "bird           : 160\n",
            "birthday cake  : 176\n",
            "blackberry     : 146\n",
            "blueberry      : 165\n",
            "book           : 141\n",
            "boomerang      : 157\n",
            "bottlecap      : 190\n",
            "bowtie         : 155\n",
            "bracelet       : 144\n",
            "brain          : 166\n",
            "bread          : 134\n",
            "bridge         : 162\n",
            "broccoli       : 145\n",
            "broom          : 136\n",
            "bucket         : 145\n",
            "bulldozer      : 240\n",
            "bus            : 211\n",
            "bush           : 140\n",
            "butterfly      : 178\n",
            "cactus         : 149\n",
            "cake           : 136\n",
            "calculator     : 148\n",
            "calendar       : 388\n",
            "camel          : 134\n",
            "camera         : 143\n",
            "camouflage     : 202\n",
            "campfire       : 139\n",
            "candle         : 159\n",
            "cannon         : 183\n",
            "canoe          : 138\n",
            "car            : 209\n",
            "carrot         : 131\n",
            "castle         : 156\n",
            "cat            : 140\n",
            "ceiling fan    : 126\n",
            "cell phone     : 138\n",
            "cello          : 207\n",
            "chair          : 268\n",
            "chandelier     : 202\n",
            "church         : 194\n",
            "circle         : 150\n",
            "clarinet       : 134\n",
            "clock          : 136\n",
            "cloud          : 130\n",
            "coffee cup     : 215\n",
            "compass        : 147\n",
            "computer       : 130\n",
            "cookie         : 144\n",
            "cooler         : 336\n",
            "couch          : 148\n",
            "cow            : 122\n",
            "crab           : 136\n",
            "crayon         : 139\n",
            "crocodile      : 158\n",
            "crown          : 135\n",
            "cruise ship    : 144\n",
            "cup            : 167\n",
            "diamond        : 167\n",
            "dishwasher     : 208\n",
            "diving board   : 363\n",
            "dog            : 159\n",
            "dolphin        : 148\n",
            "donut          : 157\n",
            "door           : 157\n",
            "dragon         : 176\n",
            "dresser        : 134\n",
            "drill          : 176\n",
            "drums          : 153\n",
            "duck           : 131\n",
            "dumbbell       : 186\n",
            "ear            : 129\n",
            "elbow          : 165\n",
            "elephant       : 160\n",
            "envelope       : 168\n",
            "eraser         : 124\n",
            "eye            : 150\n",
            "eyeglasses     : 285\n",
            "face           : 199\n",
            "fan            : 146\n",
            "feather        : 160\n",
            "fence          : 158\n",
            "finger         : 204\n",
            "fire hydrant   : 190\n",
            "fireplace      : 197\n",
            "firetruck      : 262\n",
            "fish           : 146\n",
            "flamingo       : 168\n",
            "flashlight     : 287\n",
            "flip flops     : 126\n",
            "floor lamp     : 202\n",
            "flower         : 152\n",
            "flying saucer  : 189\n",
            "foot           : 217\n",
            "fork           : 148\n",
            "frog           : 189\n",
            "frying pan     : 141\n",
            "garden hose    : 155\n",
            "garden         : 188\n",
            "giraffe        : 159\n",
            "goatee         : 227\n",
            "golf club      : 235\n",
            "grapes         : 168\n",
            "grass          : 118\n",
            "guitar         : 134\n",
            "hamburger      : 159\n",
            "hammer         : 142\n",
            "hand           : 344\n",
            "harp           : 346\n",
            "hat            : 282\n",
            "headphones     : 158\n",
            "hedgehog       : 149\n",
            "helicopter     : 179\n",
            "helmet         : 143\n",
            "hexagon        : 172\n",
            "hockey puck    : 237\n",
            "hockey stick   : 172\n",
            "horse          : 205\n",
            "hospital       : 182\n",
            "hot air balloon: 163\n",
            "hot dog        : 199\n",
            "hot tub        : 158\n",
            "hourglass      : 154\n",
            "house plant    : 143\n",
            "house          : 162\n",
            "hurricane      : 155\n",
            "ice cream      : 153\n",
            "jacket         : 264\n",
            "jail           : 157\n",
            "kangaroo       : 192\n",
            "key            : 197\n",
            "keyboard       : 199\n",
            "knee           : 342\n",
            "knife          : 203\n",
            "ladder         : 142\n",
            "lantern        : 176\n",
            "laptop         : 283\n",
            "leaf           : 163\n",
            "leg            : 137\n",
            "light bulb     : 135\n",
            "lighter        : 148\n",
            "lighthouse     : 206\n",
            "lightning      : 183\n",
            "line           : 193\n",
            "lion           : 148\n",
            "lipstick       : 148\n",
            "lobster        : 159\n",
            "lollipop       : 175\n",
            "mailbox        : 165\n",
            "map            : 158\n",
            "marker         : 383\n",
            "matches        : 159\n",
            "megaphone      : 166\n",
            "mermaid        : 220\n",
            "microphone     : 120\n",
            "microwave      : 145\n",
            "monkey         : 152\n",
            "moon           : 130\n",
            "mosquito       : 127\n",
            "motorbike      : 214\n",
            "mountain       : 149\n",
            "mouse          : 226\n",
            "moustache      : 187\n",
            "mouth          : 168\n",
            "mug            : 174\n",
            "mushroom       : 177\n",
            "nail           : 203\n",
            "necklace       : 146\n",
            "nose           : 215\n",
            "ocean          : 168\n",
            "octagon        : 166\n",
            "octopus        : 210\n",
            "onion          : 179\n",
            "oven           : 235\n",
            "owl            : 188\n",
            "paint can      : 142\n",
            "paintbrush     : 225\n",
            "palm tree      : 138\n",
            "panda          : 135\n",
            "pants          : 179\n",
            "paper clip     : 149\n",
            "parachute      : 147\n",
            "parrot         : 217\n",
            "passport       : 187\n",
            "peanut         : 135\n",
            "pear           : 146\n",
            "peas           : 188\n",
            "pencil         : 137\n",
            "penguin        : 308\n",
            "piano          : 133\n",
            "pickup truck   : 161\n",
            "picture frame  : 146\n",
            "pig            : 225\n",
            "pillow         : 139\n",
            "pineapple      : 152\n",
            "pizza          : 172\n",
            "pliers         : 194\n",
            "police car     : 153\n",
            "pond           : 162\n",
            "pool           : 162\n",
            "popsicle       : 165\n",
            "postcard       : 149\n",
            "potato         : 386\n",
            "power outlet   : 201\n",
            "purse          : 140\n",
            "rabbit         : 176\n",
            "raccoon        : 122\n",
            "radio          : 179\n",
            "rain           : 145\n",
            "rainbow        : 183\n",
            "rake           : 178\n",
            "remote control : 136\n",
            "rhinoceros     : 212\n",
            "rifle          : 212\n",
            "river          : 154\n",
            "roller coaster : 170\n",
            "rollerskates   : 125\n",
            "sailboat       : 168\n",
            "sandwich       : 174\n",
            "saw            : 151\n",
            "saxophone      : 151\n",
            "school bus     : 147\n",
            "scissors       : 155\n",
            "scorpion       : 196\n",
            "screwdriver    : 145\n",
            "sea turtle     : 123\n",
            "see saw        : 152\n",
            "shark          : 170\n",
            "sheep          : 153\n",
            "shoe           : 145\n",
            "shorts         : 149\n",
            "shovel         : 154\n",
            "sink           : 258\n",
            "skateboard     : 147\n",
            "skull          : 135\n",
            "skyscraper     : 215\n",
            "sleeping bag   : 148\n",
            "smiley face    : 127\n",
            "snail          : 161\n",
            "snake          : 178\n",
            "snorkel        : 198\n",
            "snowflake      : 136\n",
            "snowman        : 400\n",
            "soccer ball    : 146\n",
            "sock           : 225\n",
            "speedboat      : 239\n",
            "spider         : 268\n",
            "spoon          : 156\n",
            "spreadsheet    : 204\n",
            "square         : 140\n",
            "squiggle       : 145\n",
            "squirrel       : 202\n",
            "stairs         : 143\n",
            "star           : 164\n",
            "steak          : 147\n",
            "stereo         : 171\n",
            "stethoscope    : 185\n",
            "stitches       : 196\n",
            "stop sign      : 147\n",
            "stove          : 151\n",
            "strawberry     : 143\n",
            "streetlight    : 133\n",
            "string bean    : 157\n",
            "submarine      : 137\n",
            "suitcase       : 155\n",
            "sun            : 148\n",
            "swan           : 165\n",
            "sweater        : 127\n",
            "swing set      : 124\n",
            "sword          : 159\n",
            "syringe        : 157\n",
            "t-shirt        : 148\n",
            "table          : 143\n",
            "teapot         : 147\n",
            "teddy-bear     : 220\n",
            "telephone      : 144\n",
            "television     : 142\n",
            "tennis racquet : 269\n",
            "tent           : 167\n",
            "The Eiffel Tower: 148\n",
            "The Great Wall of China: 240\n",
            "The Mona Lisa  : 124\n",
            "tiger          : 172\n",
            "toaster        : 137\n",
            "toe            : 209\n",
            "toilet         : 161\n",
            "tooth          : 124\n",
            "toothbrush     : 154\n",
            "toothpaste     : 168\n",
            "tornado        : 159\n",
            "tractor        : 134\n",
            "traffic light  : 138\n",
            "train          : 148\n",
            "tree           : 186\n",
            "triangle       : 142\n",
            "trombone       : 183\n",
            "truck          : 165\n",
            "trumpet        : 201\n",
            "umbrella       : 162\n",
            "underwear      : 152\n",
            "van            : 202\n",
            "vase           : 152\n",
            "violin         : 248\n",
            "washing machine: 151\n",
            "watermelon     : 150\n",
            "waterslide     : 209\n",
            "whale          : 146\n",
            "wheel          : 152\n",
            "windmill       : 131\n",
            "wine bottle    : 147\n",
            "wine glass     : 155\n",
            "wristwatch     : 194\n",
            "yoga           : 351\n",
            "zebra          : 161\n",
            "zigzag         : 143\n"
          ]
        }
      ],
      "source": [
        "for class_name in mentions:\n",
        "    print('{:15s}: {}'.format(class_name, mentions[class_name]))"
      ]
    },
    {
      "cell_type": "code",
      "execution_count": 32,
      "metadata": {
        "id": "OpLSzDpoIYvg",
        "outputId": "73d76f5e-48b6-4aca-b6dd-bef70766ed7d",
        "colab": {
          "base_uri": "https://localhost:8080/",
          "height": 279
        }
      },
      "outputs": [
        {
          "output_type": "display_data",
          "data": {
            "text/plain": [
              "<Figure size 432x288 with 1 Axes>"
            ],
            "image/png": "[encoded data removed]"
          },
          "metadata": {
            "needs_background": "light"
          }
        }
      ],
      "source": [
        "mantions_x = [class_index for class_index, class_name in enumerate(classes)]\n",
        "mantions_bars = [mentions[class_name] for class_name in mentions]\n",
        "\n",
        "plt.bar(mantions_x, mantions_bars)\n",
        "plt.xlabel('Class index')\n",
        "plt.ylabel('Items per class')\n",
        "plt.show()"
      ]
    },
    {
      "cell_type": "markdown",
      "metadata": {
        "id": "EL-BDnk4IYvg"
      },
      "source": [
        "## Criando modelo"
      ]
    },
    {
      "cell_type": "code",
      "execution_count": 33,
      "metadata": {
        "id": "YSf8BiZMIYvg"
      },
      "outputs": [],
      "source": [
        "model = tf.keras.models.Sequential()\n",
        "\n",
        "model.add(tf.keras.layers.Convolution2D(\n",
        "    input_shape=image_shape,\n",
        "    kernel_size=5,\n",
        "    filters=32,\n",
        "    padding='same',\n",
        "    activation=tf.keras.activations.relu\n",
        "))\n",
        "model.add(tf.keras.layers.MaxPooling2D(\n",
        "    pool_size=2,\n",
        "    strides=2\n",
        "))\n",
        "\n",
        "model.add(tf.keras.layers.Convolution2D(\n",
        "    kernel_size=3,\n",
        "    filters=32,\n",
        "    padding='same',\n",
        "    activation=tf.keras.activations.relu,\n",
        "))\n",
        "model.add(tf.keras.layers.MaxPooling2D(\n",
        "    pool_size=2,\n",
        "    strides=2\n",
        "))\n",
        "\n",
        "model.add(tf.keras.layers.Convolution2D(\n",
        "    kernel_size=3,\n",
        "    filters=64,\n",
        "    padding='same',\n",
        "    activation=tf.keras.activations.relu\n",
        "))\n",
        "model.add(tf.keras.layers.MaxPooling2D(\n",
        "    pool_size=2,\n",
        "    strides=2\n",
        "))\n",
        "\n",
        "model.add(tf.keras.layers.Flatten())\n",
        "\n",
        "model.add(tf.keras.layers.Dense(\n",
        "    units=512,\n",
        "    activation=tf.keras.activations.relu\n",
        "))\n",
        "\n",
        "model.add(tf.keras.layers.Dense(\n",
        "    units=num_classes,\n",
        "    activation=tf.keras.activations.softmax\n",
        "))"
      ]
    },
    {
      "cell_type": "code",
      "execution_count": 34,
      "metadata": {
        "id": "adjC82cXIYvh",
        "outputId": "dbfffce4-2585-4376-a61e-37703fc2ac6b",
        "colab": {
          "base_uri": "https://localhost:8080/"
        }
      },
      "outputs": [
        {
          "output_type": "stream",
          "name": "stdout",
          "text": [
            "Model: \"sequential\"\n",
            "_________________________________________________________________\n",
            " Layer (type)                Output Shape              Param #   \n",
            "=================================================================\n",
            " conv2d (Conv2D)             (None, 28, 28, 32)        832       \n",
            "                                                                 \n",
            " max_pooling2d (MaxPooling2D  (None, 14, 14, 32)       0         \n",
            " )                                                               \n",
            "                                                                 \n",
            " conv2d_1 (Conv2D)           (None, 14, 14, 32)        9248      \n",
            "                                                                 \n",
            " max_pooling2d_1 (MaxPooling  (None, 7, 7, 32)         0         \n",
            " 2D)                                                             \n",
            "                                                                 \n",
            " conv2d_2 (Conv2D)           (None, 7, 7, 64)          18496     \n",
            "                                                                 \n",
            " max_pooling2d_2 (MaxPooling  (None, 3, 3, 64)         0         \n",
            " 2D)                                                             \n",
            "                                                                 \n",
            " flatten (Flatten)           (None, 576)               0         \n",
            "                                                                 \n",
            " dense (Dense)               (None, 512)               295424    \n",
            "                                                                 \n",
            " dense_1 (Dense)             (None, 345)               176985    \n",
            "                                                                 \n",
            "=================================================================\n",
            "Total params: 500,985\n",
            "Trainable params: 500,985\n",
            "Non-trainable params: 0\n",
            "_________________________________________________________________\n"
          ]
        }
      ],
      "source": [
        "model.summary()"
      ]
    },
    {
      "cell_type": "code",
      "execution_count": 35,
      "metadata": {
        "id": "1snzU7-lIYvh"
      },
      "outputs": [],
      "source": [
        "adam_optimizer = tf.keras.optimizers.Adam(learning_rate=0.003)\n",
        "rms_prop_optimizer = tf.keras.optimizers.RMSprop(learning_rate=0.001)\n",
        "sgd_optimizer = tf.keras.optimizers.SGD(learning_rate=0.01)\n",
        "\n",
        "model.compile(\n",
        "    optimizer=adam_optimizer,\n",
        "    loss=tf.keras.losses.categorical_crossentropy,\n",
        "    metrics=['accuracy']\n",
        ")"
      ]
    },
    {
      "cell_type": "markdown",
      "metadata": {
        "id": "CB-kAhQKIYvj"
      },
      "source": [
        "## Treinando"
      ]
    },
    {
      "cell_type": "code",
      "execution_count": 36,
      "metadata": {
        "id": "FbOR31qzIYvj"
      },
      "outputs": [],
      "source": [
        "early_stopping_callback = tf.keras.callbacks.EarlyStopping(\n",
        "    patience=5,\n",
        "    monitor='val_accuracy',\n",
        "    restore_best_weights=True,\n",
        "    verbose=1\n",
        ")"
      ]
    },
    {
      "cell_type": "code",
      "execution_count": 37,
      "metadata": {
        "id": "SqVQHjrzIYvj",
        "colab": {
          "base_uri": "https://localhost:8080/"
        },
        "outputId": "52d342cc-5b3d-4752-fd1f-038f6969a908"
      },
      "outputs": [
        {
          "output_type": "stream",
          "name": "stdout",
          "text": [
            "Epoch 1/30\n",
            "30/30 [==============================] - 77s 2s/step - loss: 5.0994 - accuracy: 0.0575 - val_loss: 4.2184 - val_accuracy: 0.1435\n",
            "Epoch 2/30\n",
            "30/30 [==============================] - 71s 2s/step - loss: 3.8776 - accuracy: 0.2016 - val_loss: 3.4904 - val_accuracy: 0.2680\n",
            "Epoch 3/30\n",
            "30/30 [==============================] - 74s 2s/step - loss: 3.2985 - accuracy: 0.2871 - val_loss: 3.0440 - val_accuracy: 0.3405\n",
            "Epoch 4/30\n",
            "30/30 [==============================] - 71s 2s/step - loss: 2.9533 - accuracy: 0.3481 - val_loss: 2.8301 - val_accuracy: 0.3705\n",
            "Epoch 5/30\n",
            "30/30 [==============================] - 71s 2s/step - loss: 2.7675 - accuracy: 0.3837 - val_loss: 2.7561 - val_accuracy: 0.3980\n",
            "Epoch 6/30\n",
            "30/30 [==============================] - 71s 2s/step - loss: 2.6035 - accuracy: 0.4157 - val_loss: 2.5603 - val_accuracy: 0.4250\n",
            "Epoch 7/30\n",
            "30/30 [==============================] - 72s 2s/step - loss: 2.5097 - accuracy: 0.4317 - val_loss: 2.5497 - val_accuracy: 0.4345\n",
            "Epoch 8/30\n",
            "30/30 [==============================] - 75s 3s/step - loss: 2.4197 - accuracy: 0.4498 - val_loss: 2.3767 - val_accuracy: 0.4645\n",
            "Epoch 9/30\n",
            "30/30 [==============================] - 72s 2s/step - loss: 2.3249 - accuracy: 0.4669 - val_loss: 2.3979 - val_accuracy: 0.4510\n",
            "Epoch 10/30\n",
            "30/30 [==============================] - 71s 2s/step - loss: 2.2926 - accuracy: 0.4727 - val_loss: 2.2661 - val_accuracy: 0.4655\n",
            "Epoch 11/30\n",
            "30/30 [==============================] - 72s 2s/step - loss: 2.2291 - accuracy: 0.4881 - val_loss: 2.2651 - val_accuracy: 0.4905\n",
            "Epoch 12/30\n",
            "30/30 [==============================] - 72s 2s/step - loss: 2.1893 - accuracy: 0.4960 - val_loss: 2.0965 - val_accuracy: 0.5095\n",
            "Epoch 13/30\n",
            "30/30 [==============================] - 72s 2s/step - loss: 2.1551 - accuracy: 0.5008 - val_loss: 2.1393 - val_accuracy: 0.5100\n",
            "Epoch 14/30\n",
            "30/30 [==============================] - 71s 2s/step - loss: 2.1107 - accuracy: 0.5138 - val_loss: 2.1912 - val_accuracy: 0.5115\n",
            "Epoch 15/30\n",
            "30/30 [==============================] - 71s 2s/step - loss: 2.0931 - accuracy: 0.5168 - val_loss: 2.1249 - val_accuracy: 0.4990\n",
            "Epoch 16/30\n",
            "30/30 [==============================] - 71s 2s/step - loss: 2.0838 - accuracy: 0.5211 - val_loss: 2.0764 - val_accuracy: 0.5110\n",
            "Epoch 17/30\n",
            "30/30 [==============================] - 77s 3s/step - loss: 2.0274 - accuracy: 0.5287 - val_loss: 2.0481 - val_accuracy: 0.5180\n",
            "Epoch 18/30\n",
            "30/30 [==============================] - 72s 2s/step - loss: 2.0082 - accuracy: 0.5321 - val_loss: 1.9969 - val_accuracy: 0.5425\n",
            "Epoch 19/30\n",
            "30/30 [==============================] - 72s 2s/step - loss: 1.9886 - accuracy: 0.5373 - val_loss: 1.9337 - val_accuracy: 0.5615\n",
            "Epoch 20/30\n",
            "30/30 [==============================] - 72s 2s/step - loss: 1.9463 - accuracy: 0.5422 - val_loss: 1.9402 - val_accuracy: 0.5325\n",
            "Epoch 21/30\n",
            "30/30 [==============================] - 73s 2s/step - loss: 1.9378 - accuracy: 0.5473 - val_loss: 1.8885 - val_accuracy: 0.5560\n",
            "Epoch 22/30\n",
            "30/30 [==============================] - 71s 2s/step - loss: 1.9160 - accuracy: 0.5502 - val_loss: 1.8629 - val_accuracy: 0.5530\n",
            "Epoch 23/30\n",
            "30/30 [==============================] - 71s 2s/step - loss: 1.9187 - accuracy: 0.5486 - val_loss: 1.8029 - val_accuracy: 0.5565\n",
            "Epoch 24/30\n",
            "30/30 [==============================] - ETA: 0s - loss: 1.8961 - accuracy: 0.5528Restoring model weights from the end of the best epoch: 19.\n",
            "30/30 [==============================] - 70s 2s/step - loss: 1.8961 - accuracy: 0.5528 - val_loss: 1.9733 - val_accuracy: 0.5395\n",
            "Epoch 24: early stopping\n"
          ]
        }
      ],
      "source": [
        "training_history = model.fit(\n",
        "    x=dataset_train,\n",
        "    epochs=epochs,\n",
        "    steps_per_epoch=steps_per_epoch,\n",
        "    validation_data=dataset_val,\n",
        "    callbacks=[\n",
        "        early_stopping_callback\n",
        "    ]\n",
        ")"
      ]
    },
    {
      "cell_type": "code",
      "execution_count": 38,
      "metadata": {
        "id": "1nlirPELIYvj"
      },
      "outputs": [],
      "source": [
        "def render_training_history(training_history):\n",
        "    loss = training_history.history['loss']\n",
        "    val_loss = training_history.history['val_loss']\n",
        "\n",
        "    accuracy = training_history.history['accuracy']\n",
        "    val_accuracy = training_history.history['val_accuracy']\n",
        "\n",
        "    plt.figure(figsize=(14, 4))\n",
        "\n",
        "    plt.subplot(1, 2, 1)\n",
        "    plt.title('Loss')\n",
        "    plt.xlabel('Epoch')\n",
        "    plt.ylabel('Loss')\n",
        "    plt.plot(loss, label='Training set')\n",
        "    plt.plot(val_loss, label='Test set', linestyle='--')\n",
        "    plt.legend()\n",
        "    plt.grid(linestyle='--', linewidth=1, alpha=0.5)\n",
        "\n",
        "    plt.subplot(1, 2, 2)\n",
        "    plt.title('Accuracy')\n",
        "    plt.xlabel('Epoch')\n",
        "    plt.ylabel('Accuracy')\n",
        "    plt.plot(accuracy, label='Training set')\n",
        "    plt.plot(val_accuracy, label='Test set', linestyle='--')\n",
        "    plt.legend()\n",
        "    plt.grid(linestyle='--', linewidth=1, alpha=0.5)\n",
        "\n",
        "    plt.show()"
      ]
    },
    {
      "cell_type": "code",
      "execution_count": 39,
      "metadata": {
        "id": "_3pFyQIpIYvk",
        "outputId": "12a51268-7209-49df-c2e1-705fb31e952d",
        "colab": {
          "base_uri": "https://localhost:8080/",
          "height": 295
        }
      },
      "outputs": [
        {
          "output_type": "display_data",
          "data": {
            "text/plain": [
              "<Figure size 1008x288 with 2 Axes>"
            ],
            "image/png": "[encoded data removed]"
          },
          "metadata": {
            "needs_background": "light"
          }
        }
      ],
      "source": [
        "render_training_history(training_history)"
      ]
    },
    {
      "cell_type": "markdown",
      "metadata": {
        "id": "w78UTfVHIYvn"
      },
      "source": [
        "## Salvando modelo"
      ]
    },
    {
      "cell_type": "code",
      "execution_count": 41,
      "metadata": {
        "id": "sFxoNjL6IYvn"
      },
      "outputs": [],
      "source": [
        "model_name = 'recognition_model.h5'\n",
        "model.save(model_name, save_format='h5')"
      ]
    }
  ],
  "metadata": {
    "kernelspec": {
      "display_name": "Python 3",
      "language": "python",
      "name": "python3"
    },
    "language_info": {
      "codemirror_mode": {
        "name": "ipython",
        "version": 3
      },
      "file_extension": ".py",
      "mimetype": "text/x-python",
      "name": "python",
      "nbconvert_exporter": "python",
      "pygments_lexer": "ipython3",
      "version": "3.7.6"
    },
    "colab": {
      "name": "projeto-ii-big-data.ipynb",
      "provenance": []
    }
  },
  "nbformat": 4,
  "nbformat_minor": 0
}